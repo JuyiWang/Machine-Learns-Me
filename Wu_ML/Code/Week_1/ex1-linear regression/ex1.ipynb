{
 "nbformat": 4,
 "nbformat_minor": 2,
 "metadata": {
  "language_info": {
   "name": "python",
   "codemirror_mode": {
    "name": "ipython",
    "version": 3
   },
   "version": "3.6.9-final"
  },
  "orig_nbformat": 2,
  "file_extension": ".py",
  "mimetype": "text/x-python",
  "name": "python",
  "npconvert_exporter": "python",
  "pygments_lexer": "ipython3",
  "version": 3,
  "kernelspec": {
   "name": "python3",
   "display_name": "Python 3"
  }
 },
 "cells": [
  {
   "cell_type": "code",
   "execution_count": 19,
   "metadata": {},
   "outputs": [],
   "source": [
    "import numpy as np\n",
    "import pandas as pd\n",
    "import matplotlib.pyplot as plt"
   ]
  },
  {
   "cell_type": "code",
   "execution_count": 20,
   "metadata": {},
   "outputs": [
    {
     "output_type": "execute_result",
     "data": {
      "text/plain": "   Population    Price\n0      6.1101  17.5920\n1      5.5277   9.1302\n2      8.5186  13.6620\n3      7.0032  11.8540\n4      5.8598   6.8233",
      "text/html": "<div>\n<style scoped>\n    .dataframe tbody tr th:only-of-type {\n        vertical-align: middle;\n    }\n\n    .dataframe tbody tr th {\n        vertical-align: top;\n    }\n\n    .dataframe thead th {\n        text-align: right;\n    }\n</style>\n<table border=\"1\" class=\"dataframe\">\n  <thead>\n    <tr style=\"text-align: right;\">\n      <th></th>\n      <th>Population</th>\n      <th>Price</th>\n    </tr>\n  </thead>\n  <tbody>\n    <tr>\n      <th>0</th>\n      <td>6.1101</td>\n      <td>17.5920</td>\n    </tr>\n    <tr>\n      <th>1</th>\n      <td>5.5277</td>\n      <td>9.1302</td>\n    </tr>\n    <tr>\n      <th>2</th>\n      <td>8.5186</td>\n      <td>13.6620</td>\n    </tr>\n    <tr>\n      <th>3</th>\n      <td>7.0032</td>\n      <td>11.8540</td>\n    </tr>\n    <tr>\n      <th>4</th>\n      <td>5.8598</td>\n      <td>6.8233</td>\n    </tr>\n  </tbody>\n</table>\n</div>"
     },
     "metadata": {},
     "execution_count": 20
    }
   ],
   "source": [
    "path = 'ex1data1.txt'\n",
    "dataset = pd.read_csv(path,header = None,names = ['Population','Price'])\n",
    "dataset.head()"
   ]
  },
  {
   "cell_type": "code",
   "execution_count": 21,
   "metadata": {},
   "outputs": [
    {
     "output_type": "execute_result",
     "data": {
      "text/plain": "<matplotlib.axes._subplots.AxesSubplot at 0x11f633940>"
     },
     "metadata": {},
     "execution_count": 21
    },
    {
     "output_type": "display_data",
     "data": {
      "text/plain": "<Figure size 432x288 with 1 Axes>",
      "image/svg+xml": "<?xml version=\"1.0\" encoding=\"utf-8\" standalone=\"no\"?>\n<!DOCTYPE svg PUBLIC \"-//W3C//DTD SVG 1.1//EN\"\n  \"http://www.w3.org/Graphics/SVG/1.1/DTD/svg11.dtd\">\n<!-- Created with matplotlib (https://matplotlib.org/) -->\n<svg height=\"262.316406pt\" version=\"1.1\" viewBox=\"0 0 383.658302 262.316406\" width=\"383.658302pt\" xmlns=\"http://www.w3.org/2000/svg\" xmlns:xlink=\"http://www.w3.org/1999/xlink\">\n <defs>\n  <style type=\"text/css\">\n*{stroke-linecap:butt;stroke-linejoin:round;white-space:pre;}\n  </style>\n </defs>\n <g id=\"figure_1\">\n  <g id=\"patch_1\">\n   <path d=\"M 0 262.316406 \nL 383.658302 262.316406 \nL 383.658302 0 \nL 0 0 \nz\n\" style=\"fill:none;\"/>\n  </g>\n  <g id=\"axes_1\">\n   <g id=\"patch_2\">\n    <path d=\"M 40.603125 224.760156 \nL 375.403125 224.760156 \nL 375.403125 7.320156 \nL 40.603125 7.320156 \nz\n\" style=\"fill:#ffffff;\"/>\n   </g>\n   <g id=\"PathCollection_1\">\n    <defs>\n     <path d=\"M 0 2.236068 \nC 0.593012 2.236068 1.161816 2.000462 1.581139 1.581139 \nC 2.000462 1.161816 2.236068 0.593012 2.236068 0 \nC 2.236068 -0.593012 2.000462 -1.161816 1.581139 -1.581139 \nC 1.161816 -2.000462 0.593012 -2.236068 0 -2.236068 \nC -0.593012 -2.236068 -1.161816 -2.000462 -1.581139 -1.581139 \nC -2.000462 -1.161816 -2.236068 -0.593012 -2.236068 0 \nC -2.236068 0.593012 -2.000462 1.161816 -1.581139 1.581139 \nC -1.161816 2.000462 -0.593012 2.236068 0 2.236068 \nz\n\" id=\"m96f5244685\" style=\"stroke:#1f77b4;\"/>\n    </defs>\n    <g clip-path=\"url(#p5a6d7bb6c8)\">\n     <use style=\"fill:#1f77b4;stroke:#1f77b4;\" x=\"75.119151\" xlink:href=\"#m96f5244685\" y=\"65.54127\"/>\n     <use style=\"fill:#1f77b4;stroke:#1f77b4;\" x=\"64.806936\" xlink:href=\"#m96f5244685\" y=\"127.842016\"/>\n     <use style=\"fill:#1f77b4;stroke:#1f77b4;\" x=\"117.765047\" xlink:href=\"#m96f5244685\" y=\"94.47624\"/>\n     <use style=\"fill:#1f77b4;stroke:#1f77b4;\" x=\"90.932749\" xlink:href=\"#m96f5244685\" y=\"107.787799\"/>\n     <use style=\"fill:#1f77b4;stroke:#1f77b4;\" x=\"70.687236\" xlink:href=\"#m96f5244685\" y=\"144.82677\"/>\n     <use style=\"fill:#1f77b4;stroke:#1f77b4;\" x=\"115.362287\" xlink:href=\"#m96f5244685\" y=\"107.552196\"/>\n     <use style=\"fill:#1f77b4;stroke:#1f77b4;\" x=\"99.311423\" xlink:href=\"#m96f5244685\" y=\"163.049175\"/>\n     <use style=\"fill:#1f77b4;stroke:#1f77b4;\" x=\"118.818579\" xlink:href=\"#m96f5244685\" y=\"106.712861\"/>\n     <use style=\"fill:#1f77b4;stroke:#1f77b4;\" x=\"81.778533\" xlink:href=\"#m96f5244685\" y=\"146.480407\"/>\n     <use style=\"fill:#1f77b4;stroke:#1f77b4;\" x=\"56.430032\" xlink:href=\"#m96f5244685\" y=\"166.963863\"/>\n     <use style=\"fill:#1f77b4;stroke:#1f77b4;\" x=\"68.04721\" xlink:href=\"#m96f5244685\" y=\"171.119308\"/>\n     <use style=\"fill:#1f77b4;stroke:#1f77b4;\" x=\"217.724831\" xlink:href=\"#m96f5244685\" y=\"80.906991\"/>\n     <use style=\"fill:#1f77b4;stroke:#1f77b4;\" x=\"68.459769\" xlink:href=\"#m96f5244685\" y=\"171.834215\"/>\n     <use style=\"fill:#1f77b4;stroke:#1f77b4;\" x=\"115.8138\" xlink:href=\"#m96f5244685\" y=\"141.863329\"/>\n     <use style=\"fill:#1f77b4;stroke:#1f77b4;\" x=\"66.807761\" xlink:href=\"#m96f5244685\" y=\"189.790978\"/>\n     <use style=\"fill:#1f77b4;stroke:#1f77b4;\" x=\"62.181075\" xlink:href=\"#m96f5244685\" y=\"169.199881\"/>\n     <use style=\"fill:#1f77b4;stroke:#1f77b4;\" x=\"79.639599\" xlink:href=\"#m96f5244685\" y=\"156.00686\"/>\n     <use style=\"fill:#1f77b4;stroke:#1f77b4;\" x=\"57.766867\" xlink:href=\"#m96f5244685\" y=\"190.935198\"/>\n     <use style=\"fill:#1f77b4;stroke:#1f77b4;\" x=\"80.77635\" xlink:href=\"#m96f5244685\" y=\"168.177218\"/>\n     <use style=\"fill:#1f77b4;stroke:#1f77b4;\" x=\"92.129702\" xlink:href=\"#m96f5244685\" y=\"155.384721\"/>\n     <use style=\"fill:#1f77b4;stroke:#1f77b4;\" x=\"76.517958\" xlink:href=\"#m96f5244685\" y=\"171.955698\"/>\n     <use style=\"fill:#1f77b4;stroke:#1f77b4;\" x=\"325.840189\" xlink:href=\"#m96f5244685\" y=\"34.802465\"/>\n     <use style=\"fill:#1f77b4;stroke:#1f77b4;\" x=\"64.141175\" xlink:href=\"#m96f5244685\" y=\"163.677204\"/>\n     <use style=\"fill:#1f77b4;stroke:#1f77b4;\" x=\"78.943737\" xlink:href=\"#m96f5244685\" y=\"156.870491\"/>\n     <use style=\"fill:#1f77b4;stroke:#1f77b4;\" x=\"65.465615\" xlink:href=\"#m96f5244685\" y=\"172.368739\"/>\n     <use style=\"fill:#1f77b4;stroke:#1f77b4;\" x=\"302.379192\" xlink:href=\"#m96f5244685\" y=\"28.389651\"/>\n     <use style=\"fill:#1f77b4;stroke:#1f77b4;\" x=\"194.069063\" xlink:href=\"#m96f5244685\" y=\"95.661617\"/>\n     <use style=\"fill:#1f77b4;stroke:#1f77b4;\" x=\"160.940365\" xlink:href=\"#m96f5244685\" y=\"143.181968\"/>\n     <use style=\"fill:#1f77b4;stroke:#1f77b4;\" x=\"200.230895\" xlink:href=\"#m96f5244685\" y=\"86.892775\"/>\n     <use style=\"fill:#1f77b4;stroke:#1f77b4;\" x=\"360.066685\" xlink:href=\"#m96f5244685\" y=\"17.279506\"/>\n     <use style=\"fill:#1f77b4;stroke:#1f77b4;\" x=\"59.932361\" xlink:href=\"#m96f5244685\" y=\"204.046273\"/>\n     <use style=\"fill:#1f77b4;stroke:#1f77b4;\" x=\"83.605835\" xlink:href=\"#m96f5244685\" y=\"150.913422\"/>\n     <use style=\"fill:#1f77b4;stroke:#1f77b4;\" x=\"130.683646\" xlink:href=\"#m96f5244685\" y=\"105.726275\"/>\n     <use style=\"fill:#1f77b4;stroke:#1f77b4;\" x=\"71.253841\" xlink:href=\"#m96f5244685\" y=\"181.44681\"/>\n     <use style=\"fill:#1f77b4;stroke:#1f77b4;\" x=\"112.320325\" xlink:href=\"#m96f5244685\" y=\"146.893449\"/>\n     <use style=\"fill:#1f77b4;stroke:#1f77b4;\" x=\"107.403254\" xlink:href=\"#m96f5244685\" y=\"161.473581\"/>\n     <use style=\"fill:#1f77b4;stroke:#1f77b4;\" x=\"110.280546\" xlink:href=\"#m96f5244685\" y=\"164.756559\"/>\n     <use style=\"fill:#1f77b4;stroke:#1f77b4;\" x=\"66.19866\" xlink:href=\"#m96f5244685\" y=\"170.084128\"/>\n     <use style=\"fill:#1f77b4;stroke:#1f77b4;\" x=\"194.210715\" xlink:href=\"#m96f5244685\" y=\"120.576614\"/>\n     <use style=\"fill:#1f77b4;stroke:#1f77b4;\" x=\"79.427122\" xlink:href=\"#m96f5244685\" y=\"154.588825\"/>\n     <use style=\"fill:#1f77b4;stroke:#1f77b4;\" x=\"62.668002\" xlink:href=\"#m96f5244685\" y=\"190.966121\"/>\n     <use style=\"fill:#1f77b4;stroke:#1f77b4;\" x=\"88.795585\" xlink:href=\"#m96f5244685\" y=\"166.265154\"/>\n     <use style=\"fill:#1f77b4;stroke:#1f77b4;\" x=\"174.237881\" xlink:href=\"#m96f5244685\" y=\"155.413435\"/>\n     <use style=\"fill:#1f77b4;stroke:#1f77b4;\" x=\"69.162714\" xlink:href=\"#m96f5244685\" y=\"177.094784\"/>\n     <use style=\"fill:#1f77b4;stroke:#1f77b4;\" x=\"105.478567\" xlink:href=\"#m96f5244685\" y=\"145.500447\"/>\n     <use style=\"fill:#1f77b4;stroke:#1f77b4;\" x=\"92.524555\" xlink:href=\"#m96f5244685\" y=\"187.36044\"/>\n     <use style=\"fill:#1f77b4;stroke:#1f77b4;\" x=\"56.706252\" xlink:href=\"#m96f5244685\" y=\"157.266599\"/>\n     <use style=\"fill:#1f77b4;stroke:#1f77b4;\" x=\"69.653182\" xlink:href=\"#m96f5244685\" y=\"181.487304\"/>\n     <use style=\"fill:#1f77b4;stroke:#1f77b4;\" x=\"174.096229\" xlink:href=\"#m96f5244685\" y=\"136.131554\"/>\n     <use style=\"fill:#1f77b4;stroke:#1f77b4;\" x=\"65.053055\" xlink:href=\"#m96f5244685\" y=\"187.569538\"/>\n     <use style=\"fill:#1f77b4;stroke:#1f77b4;\" x=\"100.441093\" xlink:href=\"#m96f5244685\" y=\"145.363503\"/>\n     <use style=\"fill:#1f77b4;stroke:#1f77b4;\" x=\"60.911525\" xlink:href=\"#m96f5244685\" y=\"181.519699\"/>\n     <use style=\"fill:#1f77b4;stroke:#1f77b4;\" x=\"98.381837\" xlink:href=\"#m96f5244685\" y=\"163.489458\"/>\n     <use style=\"fill:#1f77b4;stroke:#1f77b4;\" x=\"101.554826\" xlink:href=\"#m96f5244685\" y=\"158.264966\"/>\n     <use style=\"fill:#1f77b4;stroke:#1f77b4;\" x=\"79.062369\" xlink:href=\"#m96f5244685\" y=\"184.584745\"/>\n     <use style=\"fill:#1f77b4;stroke:#1f77b4;\" x=\"79.524507\" xlink:href=\"#m96f5244685\" y=\"205.52689\"/>\n     <use style=\"fill:#1f77b4;stroke:#1f77b4;\" x=\"78.024774\" xlink:href=\"#m96f5244685\" y=\"176.837094\"/>\n     <use style=\"fill:#1f77b4;stroke:#1f77b4;\" x=\"66.790055\" xlink:href=\"#m96f5244685\" y=\"161.165089\"/>\n     <use style=\"fill:#1f77b4;stroke:#1f77b4;\" x=\"131.781444\" xlink:href=\"#m96f5244685\" y=\"165.890398\"/>\n     <use style=\"fill:#1f77b4;stroke:#1f77b4;\" x=\"134.320543\" xlink:href=\"#m96f5244685\" y=\"155.202129\"/>\n     <use style=\"fill:#1f77b4;stroke:#1f77b4;\" x=\"123.197375\" xlink:href=\"#m96f5244685\" y=\"157.003754\"/>\n     <use style=\"fill:#1f77b4;stroke:#1f77b4;\" x=\"58.638022\" xlink:href=\"#m96f5244685\" y=\"200.532773\"/>\n     <use style=\"fill:#1f77b4;stroke:#1f77b4;\" x=\"343.70596\" xlink:href=\"#m96f5244685\" y=\"63.060078\"/>\n     <use style=\"fill:#1f77b4;stroke:#1f77b4;\" x=\"230.898402\" xlink:href=\"#m96f5244685\" y=\"106.315282\"/>\n     <use style=\"fill:#1f77b4;stroke:#1f77b4;\" x=\"302.627081\" xlink:href=\"#m96f5244685\" y=\"69.502342\"/>\n     <use style=\"fill:#1f77b4;stroke:#1f77b4;\" x=\"94.739628\" xlink:href=\"#m96f5244685\" y=\"159.096202\"/>\n     <use style=\"fill:#1f77b4;stroke:#1f77b4;\" x=\"113.807664\" xlink:href=\"#m96f5244685\" y=\"152.771739\"/>\n     <use style=\"fill:#1f77b4;stroke:#1f77b4;\" x=\"148.174041\" xlink:href=\"#m96f5244685\" y=\"137.81685\"/>\n     <use style=\"fill:#1f77b4;stroke:#1f77b4;\" x=\"64.305845\" xlink:href=\"#m96f5244685\" y=\"187.573956\"/>\n     <use style=\"fill:#1f77b4;stroke:#1f77b4;\" x=\"327.097344\" xlink:href=\"#m96f5244685\" y=\"40.508471\"/>\n     <use style=\"fill:#1f77b4;stroke:#1f77b4;\" x=\"146.403399\" xlink:href=\"#m96f5244685\" y=\"145.882565\"/>\n     <use style=\"fill:#1f77b4;stroke:#1f77b4;\" x=\"96.798883\" xlink:href=\"#m96f5244685\" y=\"165.422874\"/>\n     <use style=\"fill:#1f77b4;stroke:#1f77b4;\" x=\"73.279455\" xlink:href=\"#m96f5244685\" y=\"185.651584\"/>\n     <use style=\"fill:#1f77b4;stroke:#1f77b4;\" x=\"94.875967\" xlink:href=\"#m96f5244685\" y=\"170.464774\"/>\n     <use style=\"fill:#1f77b4;stroke:#1f77b4;\" x=\"55.939565\" xlink:href=\"#m96f5244685\" y=\"214.800806\"/>\n     <use style=\"fill:#1f77b4;stroke:#1f77b4;\" x=\"82.871019\" xlink:href=\"#m96f5244685\" y=\"192.878847\"/>\n     <use style=\"fill:#1f77b4;stroke:#1f77b4;\" x=\"100.412762\" xlink:href=\"#m96f5244685\" y=\"166.463943\"/>\n     <use style=\"fill:#1f77b4;stroke:#1f77b4;\" x=\"56.109546\" xlink:href=\"#m96f5244685\" y=\"153.086858\"/>\n     <use style=\"fill:#1f77b4;stroke:#1f77b4;\" x=\"148.846884\" xlink:href=\"#m96f5244685\" y=\"145.347305\"/>\n     <use style=\"fill:#1f77b4;stroke:#1f77b4;\" x=\"57.370243\" xlink:href=\"#m96f5244685\" y=\"179.914655\"/>\n     <use style=\"fill:#1f77b4;stroke:#1f77b4;\" x=\"68.374779\" xlink:href=\"#m96f5244685\" y=\"191.533334\"/>\n     <use style=\"fill:#1f77b4;stroke:#1f77b4;\" x=\"58.79915\" xlink:href=\"#m96f5244685\" y=\"193.560402\"/>\n     <use style=\"fill:#1f77b4;stroke:#1f77b4;\" x=\"79.467846\" xlink:href=\"#m96f5244685\" y=\"190.06759\"/>\n     <use style=\"fill:#1f77b4;stroke:#1f77b4;\" x=\"139.899834\" xlink:href=\"#m96f5244685\" y=\"139.524234\"/>\n     <use style=\"fill:#1f77b4;stroke:#1f77b4;\" x=\"82.304414\" xlink:href=\"#m96f5244685\" y=\"155.721191\"/>\n     <use style=\"fill:#1f77b4;stroke:#1f77b4;\" x=\"117.740258\" xlink:href=\"#m96f5244685\" y=\"163.8355\"/>\n     <use style=\"fill:#1f77b4;stroke:#1f77b4;\" x=\"129.47961\" xlink:href=\"#m96f5244685\" y=\"145.012307\"/>\n     <use style=\"fill:#1f77b4;stroke:#1f77b4;\" x=\"73.205088\" xlink:href=\"#m96f5244685\" y=\"188.239165\"/>\n     <use style=\"fill:#1f77b4;stroke:#1f77b4;\" x=\"64.67768\" xlink:href=\"#m96f5244685\" y=\"193.944803\"/>\n     <use style=\"fill:#1f77b4;stroke:#1f77b4;\" x=\"56.515023\" xlink:href=\"#m96f5244685\" y=\"174.291111\"/>\n     <use style=\"fill:#1f77b4;stroke:#1f77b4;\" x=\"67.994091\" xlink:href=\"#m96f5244685\" y=\"181.479205\"/>\n     <use style=\"fill:#1f77b4;stroke:#1f77b4;\" x=\"102.147991\" xlink:href=\"#m96f5244685\" y=\"163.434975\"/>\n     <use style=\"fill:#1f77b4;stroke:#1f77b4;\" x=\"70.880236\" xlink:href=\"#m96f5244685\" y=\"142.031932\"/>\n     <use style=\"fill:#1f77b4;stroke:#1f77b4;\" x=\"60.870801\" xlink:href=\"#m96f5244685\" y=\"180.43519\"/>\n     <use style=\"fill:#1f77b4;stroke:#1f77b4;\" x=\"113.777563\" xlink:href=\"#m96f5244685\" y=\"193.999728\"/>\n     <use style=\"fill:#1f77b4;stroke:#1f77b4;\" x=\"204.090893\" xlink:href=\"#m96f5244685\" y=\"128.394947\"/>\n     <use style=\"fill:#1f77b4;stroke:#1f77b4;\" x=\"63.199194\" xlink:href=\"#m96f5244685\" y=\"190.520831\"/>\n    </g>\n   </g>\n   <g id=\"matplotlib.axis_1\">\n    <g id=\"xtick_1\">\n     <g id=\"line2d_1\">\n      <defs>\n       <path d=\"M 0 0 \nL 0 3.5 \n\" id=\"mb9b1585865\" style=\"stroke:#000000;stroke-width:0.8;\"/>\n      </defs>\n      <g>\n       <use style=\"stroke:#000000;stroke-width:0.8;\" x=\"55.463262\" xlink:href=\"#mb9b1585865\" y=\"224.760156\"/>\n      </g>\n     </g>\n     <g id=\"text_1\">\n      <!-- 5.0 -->\n      <defs>\n       <path d=\"M 10.796875 72.90625 \nL 49.515625 72.90625 \nL 49.515625 64.59375 \nL 19.828125 64.59375 \nL 19.828125 46.734375 \nQ 21.96875 47.46875 24.109375 47.828125 \nQ 26.265625 48.1875 28.421875 48.1875 \nQ 40.625 48.1875 47.75 41.5 \nQ 54.890625 34.8125 54.890625 23.390625 \nQ 54.890625 11.625 47.5625 5.09375 \nQ 40.234375 -1.421875 26.90625 -1.421875 \nQ 22.3125 -1.421875 17.546875 -0.640625 \nQ 12.796875 0.140625 7.71875 1.703125 \nL 7.71875 11.625 \nQ 12.109375 9.234375 16.796875 8.0625 \nQ 21.484375 6.890625 26.703125 6.890625 \nQ 35.15625 6.890625 40.078125 11.328125 \nQ 45.015625 15.765625 45.015625 23.390625 \nQ 45.015625 31 40.078125 35.4375 \nQ 35.15625 39.890625 26.703125 39.890625 \nQ 22.75 39.890625 18.8125 39.015625 \nQ 14.890625 38.140625 10.796875 36.28125 \nz\n\" id=\"DejaVuSans-53\"/>\n       <path d=\"M 10.6875 12.40625 \nL 21 12.40625 \nL 21 0 \nL 10.6875 0 \nz\n\" id=\"DejaVuSans-46\"/>\n       <path d=\"M 31.78125 66.40625 \nQ 24.171875 66.40625 20.328125 58.90625 \nQ 16.5 51.421875 16.5 36.375 \nQ 16.5 21.390625 20.328125 13.890625 \nQ 24.171875 6.390625 31.78125 6.390625 \nQ 39.453125 6.390625 43.28125 13.890625 \nQ 47.125 21.390625 47.125 36.375 \nQ 47.125 51.421875 43.28125 58.90625 \nQ 39.453125 66.40625 31.78125 66.40625 \nz\nM 31.78125 74.21875 \nQ 44.046875 74.21875 50.515625 64.515625 \nQ 56.984375 54.828125 56.984375 36.375 \nQ 56.984375 17.96875 50.515625 8.265625 \nQ 44.046875 -1.421875 31.78125 -1.421875 \nQ 19.53125 -1.421875 13.0625 8.265625 \nQ 6.59375 17.96875 6.59375 36.375 \nQ 6.59375 54.828125 13.0625 64.515625 \nQ 19.53125 74.21875 31.78125 74.21875 \nz\n\" id=\"DejaVuSans-48\"/>\n      </defs>\n      <g transform=\"translate(47.5117 239.358593)scale(0.1 -0.1)\">\n       <use xlink:href=\"#DejaVuSans-53\"/>\n       <use x=\"63.623047\" xlink:href=\"#DejaVuSans-46\"/>\n       <use x=\"95.410156\" xlink:href=\"#DejaVuSans-48\"/>\n      </g>\n     </g>\n    </g>\n    <g id=\"xtick_2\">\n     <g id=\"line2d_2\">\n      <g>\n       <use style=\"stroke:#000000;stroke-width:0.8;\" x=\"99.729295\" xlink:href=\"#mb9b1585865\" y=\"224.760156\"/>\n      </g>\n     </g>\n     <g id=\"text_2\">\n      <!-- 7.5 -->\n      <defs>\n       <path d=\"M 8.203125 72.90625 \nL 55.078125 72.90625 \nL 55.078125 68.703125 \nL 28.609375 0 \nL 18.3125 0 \nL 43.21875 64.59375 \nL 8.203125 64.59375 \nz\n\" id=\"DejaVuSans-55\"/>\n      </defs>\n      <g transform=\"translate(91.777732 239.358593)scale(0.1 -0.1)\">\n       <use xlink:href=\"#DejaVuSans-55\"/>\n       <use x=\"63.623047\" xlink:href=\"#DejaVuSans-46\"/>\n       <use x=\"95.410156\" xlink:href=\"#DejaVuSans-53\"/>\n      </g>\n     </g>\n    </g>\n    <g id=\"xtick_3\">\n     <g id=\"line2d_3\">\n      <g>\n       <use style=\"stroke:#000000;stroke-width:0.8;\" x=\"143.995327\" xlink:href=\"#mb9b1585865\" y=\"224.760156\"/>\n      </g>\n     </g>\n     <g id=\"text_3\">\n      <!-- 10.0 -->\n      <defs>\n       <path d=\"M 12.40625 8.296875 \nL 28.515625 8.296875 \nL 28.515625 63.921875 \nL 10.984375 60.40625 \nL 10.984375 69.390625 \nL 28.421875 72.90625 \nL 38.28125 72.90625 \nL 38.28125 8.296875 \nL 54.390625 8.296875 \nL 54.390625 0 \nL 12.40625 0 \nz\n\" id=\"DejaVuSans-49\"/>\n      </defs>\n      <g transform=\"translate(132.862515 239.358593)scale(0.1 -0.1)\">\n       <use xlink:href=\"#DejaVuSans-49\"/>\n       <use x=\"63.623047\" xlink:href=\"#DejaVuSans-48\"/>\n       <use x=\"127.246094\" xlink:href=\"#DejaVuSans-46\"/>\n       <use x=\"159.033203\" xlink:href=\"#DejaVuSans-48\"/>\n      </g>\n     </g>\n    </g>\n    <g id=\"xtick_4\">\n     <g id=\"line2d_4\">\n      <g>\n       <use style=\"stroke:#000000;stroke-width:0.8;\" x=\"188.26136\" xlink:href=\"#mb9b1585865\" y=\"224.760156\"/>\n      </g>\n     </g>\n     <g id=\"text_4\">\n      <!-- 12.5 -->\n      <defs>\n       <path d=\"M 19.1875 8.296875 \nL 53.609375 8.296875 \nL 53.609375 0 \nL 7.328125 0 \nL 7.328125 8.296875 \nQ 12.9375 14.109375 22.625 23.890625 \nQ 32.328125 33.6875 34.8125 36.53125 \nQ 39.546875 41.84375 41.421875 45.53125 \nQ 43.3125 49.21875 43.3125 52.78125 \nQ 43.3125 58.59375 39.234375 62.25 \nQ 35.15625 65.921875 28.609375 65.921875 \nQ 23.96875 65.921875 18.8125 64.3125 \nQ 13.671875 62.703125 7.8125 59.421875 \nL 7.8125 69.390625 \nQ 13.765625 71.78125 18.9375 73 \nQ 24.125 74.21875 28.421875 74.21875 \nQ 39.75 74.21875 46.484375 68.546875 \nQ 53.21875 62.890625 53.21875 53.421875 \nQ 53.21875 48.921875 51.53125 44.890625 \nQ 49.859375 40.875 45.40625 35.40625 \nQ 44.1875 33.984375 37.640625 27.21875 \nQ 31.109375 20.453125 19.1875 8.296875 \nz\n\" id=\"DejaVuSans-50\"/>\n      </defs>\n      <g transform=\"translate(177.128547 239.358593)scale(0.1 -0.1)\">\n       <use xlink:href=\"#DejaVuSans-49\"/>\n       <use x=\"63.623047\" xlink:href=\"#DejaVuSans-50\"/>\n       <use x=\"127.246094\" xlink:href=\"#DejaVuSans-46\"/>\n       <use x=\"159.033203\" xlink:href=\"#DejaVuSans-53\"/>\n      </g>\n     </g>\n    </g>\n    <g id=\"xtick_5\">\n     <g id=\"line2d_5\">\n      <g>\n       <use style=\"stroke:#000000;stroke-width:0.8;\" x=\"232.527392\" xlink:href=\"#mb9b1585865\" y=\"224.760156\"/>\n      </g>\n     </g>\n     <g id=\"text_5\">\n      <!-- 15.0 -->\n      <g transform=\"translate(221.39458 239.358593)scale(0.1 -0.1)\">\n       <use xlink:href=\"#DejaVuSans-49\"/>\n       <use x=\"63.623047\" xlink:href=\"#DejaVuSans-53\"/>\n       <use x=\"127.246094\" xlink:href=\"#DejaVuSans-46\"/>\n       <use x=\"159.033203\" xlink:href=\"#DejaVuSans-48\"/>\n      </g>\n     </g>\n    </g>\n    <g id=\"xtick_6\">\n     <g id=\"line2d_6\">\n      <g>\n       <use style=\"stroke:#000000;stroke-width:0.8;\" x=\"276.793425\" xlink:href=\"#mb9b1585865\" y=\"224.760156\"/>\n      </g>\n     </g>\n     <g id=\"text_6\">\n      <!-- 17.5 -->\n      <g transform=\"translate(265.660612 239.358593)scale(0.1 -0.1)\">\n       <use xlink:href=\"#DejaVuSans-49\"/>\n       <use x=\"63.623047\" xlink:href=\"#DejaVuSans-55\"/>\n       <use x=\"127.246094\" xlink:href=\"#DejaVuSans-46\"/>\n       <use x=\"159.033203\" xlink:href=\"#DejaVuSans-53\"/>\n      </g>\n     </g>\n    </g>\n    <g id=\"xtick_7\">\n     <g id=\"line2d_7\">\n      <g>\n       <use style=\"stroke:#000000;stroke-width:0.8;\" x=\"321.059457\" xlink:href=\"#mb9b1585865\" y=\"224.760156\"/>\n      </g>\n     </g>\n     <g id=\"text_7\">\n      <!-- 20.0 -->\n      <g transform=\"translate(309.926645 239.358593)scale(0.1 -0.1)\">\n       <use xlink:href=\"#DejaVuSans-50\"/>\n       <use x=\"63.623047\" xlink:href=\"#DejaVuSans-48\"/>\n       <use x=\"127.246094\" xlink:href=\"#DejaVuSans-46\"/>\n       <use x=\"159.033203\" xlink:href=\"#DejaVuSans-48\"/>\n      </g>\n     </g>\n    </g>\n    <g id=\"xtick_8\">\n     <g id=\"line2d_8\">\n      <g>\n       <use style=\"stroke:#000000;stroke-width:0.8;\" x=\"365.32549\" xlink:href=\"#mb9b1585865\" y=\"224.760156\"/>\n      </g>\n     </g>\n     <g id=\"text_8\">\n      <!-- 22.5 -->\n      <g transform=\"translate(354.192677 239.358593)scale(0.1 -0.1)\">\n       <use xlink:href=\"#DejaVuSans-50\"/>\n       <use x=\"63.623047\" xlink:href=\"#DejaVuSans-50\"/>\n       <use x=\"127.246094\" xlink:href=\"#DejaVuSans-46\"/>\n       <use x=\"159.033203\" xlink:href=\"#DejaVuSans-53\"/>\n      </g>\n     </g>\n    </g>\n    <g id=\"text_9\">\n     <!-- Population -->\n     <defs>\n      <path d=\"M 19.671875 64.796875 \nL 19.671875 37.40625 \nL 32.078125 37.40625 \nQ 38.96875 37.40625 42.71875 40.96875 \nQ 46.484375 44.53125 46.484375 51.125 \nQ 46.484375 57.671875 42.71875 61.234375 \nQ 38.96875 64.796875 32.078125 64.796875 \nz\nM 9.8125 72.90625 \nL 32.078125 72.90625 \nQ 44.34375 72.90625 50.609375 67.359375 \nQ 56.890625 61.8125 56.890625 51.125 \nQ 56.890625 40.328125 50.609375 34.8125 \nQ 44.34375 29.296875 32.078125 29.296875 \nL 19.671875 29.296875 \nL 19.671875 0 \nL 9.8125 0 \nz\n\" id=\"DejaVuSans-80\"/>\n      <path d=\"M 30.609375 48.390625 \nQ 23.390625 48.390625 19.1875 42.75 \nQ 14.984375 37.109375 14.984375 27.296875 \nQ 14.984375 17.484375 19.15625 11.84375 \nQ 23.34375 6.203125 30.609375 6.203125 \nQ 37.796875 6.203125 41.984375 11.859375 \nQ 46.1875 17.53125 46.1875 27.296875 \nQ 46.1875 37.015625 41.984375 42.703125 \nQ 37.796875 48.390625 30.609375 48.390625 \nz\nM 30.609375 56 \nQ 42.328125 56 49.015625 48.375 \nQ 55.71875 40.765625 55.71875 27.296875 \nQ 55.71875 13.875 49.015625 6.21875 \nQ 42.328125 -1.421875 30.609375 -1.421875 \nQ 18.84375 -1.421875 12.171875 6.21875 \nQ 5.515625 13.875 5.515625 27.296875 \nQ 5.515625 40.765625 12.171875 48.375 \nQ 18.84375 56 30.609375 56 \nz\n\" id=\"DejaVuSans-111\"/>\n      <path d=\"M 18.109375 8.203125 \nL 18.109375 -20.796875 \nL 9.078125 -20.796875 \nL 9.078125 54.6875 \nL 18.109375 54.6875 \nL 18.109375 46.390625 \nQ 20.953125 51.265625 25.265625 53.625 \nQ 29.59375 56 35.59375 56 \nQ 45.5625 56 51.78125 48.09375 \nQ 58.015625 40.1875 58.015625 27.296875 \nQ 58.015625 14.40625 51.78125 6.484375 \nQ 45.5625 -1.421875 35.59375 -1.421875 \nQ 29.59375 -1.421875 25.265625 0.953125 \nQ 20.953125 3.328125 18.109375 8.203125 \nz\nM 48.6875 27.296875 \nQ 48.6875 37.203125 44.609375 42.84375 \nQ 40.53125 48.484375 33.40625 48.484375 \nQ 26.265625 48.484375 22.1875 42.84375 \nQ 18.109375 37.203125 18.109375 27.296875 \nQ 18.109375 17.390625 22.1875 11.75 \nQ 26.265625 6.109375 33.40625 6.109375 \nQ 40.53125 6.109375 44.609375 11.75 \nQ 48.6875 17.390625 48.6875 27.296875 \nz\n\" id=\"DejaVuSans-112\"/>\n      <path d=\"M 8.5 21.578125 \nL 8.5 54.6875 \nL 17.484375 54.6875 \nL 17.484375 21.921875 \nQ 17.484375 14.15625 20.5 10.265625 \nQ 23.53125 6.390625 29.59375 6.390625 \nQ 36.859375 6.390625 41.078125 11.03125 \nQ 45.3125 15.671875 45.3125 23.6875 \nL 45.3125 54.6875 \nL 54.296875 54.6875 \nL 54.296875 0 \nL 45.3125 0 \nL 45.3125 8.40625 \nQ 42.046875 3.421875 37.71875 1 \nQ 33.40625 -1.421875 27.6875 -1.421875 \nQ 18.265625 -1.421875 13.375 4.4375 \nQ 8.5 10.296875 8.5 21.578125 \nz\nM 31.109375 56 \nz\n\" id=\"DejaVuSans-117\"/>\n      <path d=\"M 9.421875 75.984375 \nL 18.40625 75.984375 \nL 18.40625 0 \nL 9.421875 0 \nz\n\" id=\"DejaVuSans-108\"/>\n      <path d=\"M 34.28125 27.484375 \nQ 23.390625 27.484375 19.1875 25 \nQ 14.984375 22.515625 14.984375 16.5 \nQ 14.984375 11.71875 18.140625 8.90625 \nQ 21.296875 6.109375 26.703125 6.109375 \nQ 34.1875 6.109375 38.703125 11.40625 \nQ 43.21875 16.703125 43.21875 25.484375 \nL 43.21875 27.484375 \nz\nM 52.203125 31.203125 \nL 52.203125 0 \nL 43.21875 0 \nL 43.21875 8.296875 \nQ 40.140625 3.328125 35.546875 0.953125 \nQ 30.953125 -1.421875 24.3125 -1.421875 \nQ 15.921875 -1.421875 10.953125 3.296875 \nQ 6 8.015625 6 15.921875 \nQ 6 25.140625 12.171875 29.828125 \nQ 18.359375 34.515625 30.609375 34.515625 \nL 43.21875 34.515625 \nL 43.21875 35.40625 \nQ 43.21875 41.609375 39.140625 45 \nQ 35.0625 48.390625 27.6875 48.390625 \nQ 23 48.390625 18.546875 47.265625 \nQ 14.109375 46.140625 10.015625 43.890625 \nL 10.015625 52.203125 \nQ 14.9375 54.109375 19.578125 55.046875 \nQ 24.21875 56 28.609375 56 \nQ 40.484375 56 46.34375 49.84375 \nQ 52.203125 43.703125 52.203125 31.203125 \nz\n\" id=\"DejaVuSans-97\"/>\n      <path d=\"M 18.3125 70.21875 \nL 18.3125 54.6875 \nL 36.8125 54.6875 \nL 36.8125 47.703125 \nL 18.3125 47.703125 \nL 18.3125 18.015625 \nQ 18.3125 11.328125 20.140625 9.421875 \nQ 21.96875 7.515625 27.59375 7.515625 \nL 36.8125 7.515625 \nL 36.8125 0 \nL 27.59375 0 \nQ 17.1875 0 13.234375 3.875 \nQ 9.28125 7.765625 9.28125 18.015625 \nL 9.28125 47.703125 \nL 2.6875 47.703125 \nL 2.6875 54.6875 \nL 9.28125 54.6875 \nL 9.28125 70.21875 \nz\n\" id=\"DejaVuSans-116\"/>\n      <path d=\"M 9.421875 54.6875 \nL 18.40625 54.6875 \nL 18.40625 0 \nL 9.421875 0 \nz\nM 9.421875 75.984375 \nL 18.40625 75.984375 \nL 18.40625 64.59375 \nL 9.421875 64.59375 \nz\n\" id=\"DejaVuSans-105\"/>\n      <path d=\"M 54.890625 33.015625 \nL 54.890625 0 \nL 45.90625 0 \nL 45.90625 32.71875 \nQ 45.90625 40.484375 42.875 44.328125 \nQ 39.84375 48.1875 33.796875 48.1875 \nQ 26.515625 48.1875 22.3125 43.546875 \nQ 18.109375 38.921875 18.109375 30.90625 \nL 18.109375 0 \nL 9.078125 0 \nL 9.078125 54.6875 \nL 18.109375 54.6875 \nL 18.109375 46.1875 \nQ 21.34375 51.125 25.703125 53.5625 \nQ 30.078125 56 35.796875 56 \nQ 45.21875 56 50.046875 50.171875 \nQ 54.890625 44.34375 54.890625 33.015625 \nz\n\" id=\"DejaVuSans-110\"/>\n     </defs>\n     <g transform=\"translate(181.557812 253.036718)scale(0.1 -0.1)\">\n      <use xlink:href=\"#DejaVuSans-80\"/>\n      <use x=\"60.255859\" xlink:href=\"#DejaVuSans-111\"/>\n      <use x=\"121.4375\" xlink:href=\"#DejaVuSans-112\"/>\n      <use x=\"184.914062\" xlink:href=\"#DejaVuSans-117\"/>\n      <use x=\"248.292969\" xlink:href=\"#DejaVuSans-108\"/>\n      <use x=\"276.076172\" xlink:href=\"#DejaVuSans-97\"/>\n      <use x=\"337.355469\" xlink:href=\"#DejaVuSans-116\"/>\n      <use x=\"376.564453\" xlink:href=\"#DejaVuSans-105\"/>\n      <use x=\"404.347656\" xlink:href=\"#DejaVuSans-111\"/>\n      <use x=\"465.529297\" xlink:href=\"#DejaVuSans-110\"/>\n     </g>\n    </g>\n   </g>\n   <g id=\"matplotlib.axis_2\">\n    <g id=\"ytick_1\">\n     <g id=\"line2d_9\">\n      <defs>\n       <path d=\"M 0 0 \nL -3.5 0 \n\" id=\"ma450349381\" style=\"stroke:#000000;stroke-width:0.8;\"/>\n      </defs>\n      <g>\n       <use style=\"stroke:#000000;stroke-width:0.8;\" x=\"40.603125\" xlink:href=\"#ma450349381\" y=\"195.063916\"/>\n      </g>\n     </g>\n     <g id=\"text_10\">\n      <!-- 0 -->\n      <g transform=\"translate(27.240625 198.863135)scale(0.1 -0.1)\">\n       <use xlink:href=\"#DejaVuSans-48\"/>\n      </g>\n     </g>\n    </g>\n    <g id=\"ytick_2\">\n     <g id=\"line2d_10\">\n      <g>\n       <use style=\"stroke:#000000;stroke-width:0.8;\" x=\"40.603125\" xlink:href=\"#ma450349381\" y=\"158.250977\"/>\n      </g>\n     </g>\n     <g id=\"text_11\">\n      <!-- 5 -->\n      <g transform=\"translate(27.240625 162.050195)scale(0.1 -0.1)\">\n       <use xlink:href=\"#DejaVuSans-53\"/>\n      </g>\n     </g>\n    </g>\n    <g id=\"ytick_3\">\n     <g id=\"line2d_11\">\n      <g>\n       <use style=\"stroke:#000000;stroke-width:0.8;\" x=\"40.603125\" xlink:href=\"#ma450349381\" y=\"121.438037\"/>\n      </g>\n     </g>\n     <g id=\"text_12\">\n      <!-- 10 -->\n      <g transform=\"translate(20.878125 125.237256)scale(0.1 -0.1)\">\n       <use xlink:href=\"#DejaVuSans-49\"/>\n       <use x=\"63.623047\" xlink:href=\"#DejaVuSans-48\"/>\n      </g>\n     </g>\n    </g>\n    <g id=\"ytick_4\">\n     <g id=\"line2d_12\">\n      <g>\n       <use style=\"stroke:#000000;stroke-width:0.8;\" x=\"40.603125\" xlink:href=\"#ma450349381\" y=\"84.625098\"/>\n      </g>\n     </g>\n     <g id=\"text_13\">\n      <!-- 15 -->\n      <g transform=\"translate(20.878125 88.424316)scale(0.1 -0.1)\">\n       <use xlink:href=\"#DejaVuSans-49\"/>\n       <use x=\"63.623047\" xlink:href=\"#DejaVuSans-53\"/>\n      </g>\n     </g>\n    </g>\n    <g id=\"ytick_5\">\n     <g id=\"line2d_13\">\n      <g>\n       <use style=\"stroke:#000000;stroke-width:0.8;\" x=\"40.603125\" xlink:href=\"#ma450349381\" y=\"47.812158\"/>\n      </g>\n     </g>\n     <g id=\"text_14\">\n      <!-- 20 -->\n      <g transform=\"translate(20.878125 51.611377)scale(0.1 -0.1)\">\n       <use xlink:href=\"#DejaVuSans-50\"/>\n       <use x=\"63.623047\" xlink:href=\"#DejaVuSans-48\"/>\n      </g>\n     </g>\n    </g>\n    <g id=\"ytick_6\">\n     <g id=\"line2d_14\">\n      <g>\n       <use style=\"stroke:#000000;stroke-width:0.8;\" x=\"40.603125\" xlink:href=\"#ma450349381\" y=\"10.999219\"/>\n      </g>\n     </g>\n     <g id=\"text_15\">\n      <!-- 25 -->\n      <g transform=\"translate(20.878125 14.798438)scale(0.1 -0.1)\">\n       <use xlink:href=\"#DejaVuSans-50\"/>\n       <use x=\"63.623047\" xlink:href=\"#DejaVuSans-53\"/>\n      </g>\n     </g>\n    </g>\n    <g id=\"text_16\">\n     <!-- Price -->\n     <defs>\n      <path d=\"M 41.109375 46.296875 \nQ 39.59375 47.171875 37.8125 47.578125 \nQ 36.03125 48 33.890625 48 \nQ 26.265625 48 22.1875 43.046875 \nQ 18.109375 38.09375 18.109375 28.8125 \nL 18.109375 0 \nL 9.078125 0 \nL 9.078125 54.6875 \nL 18.109375 54.6875 \nL 18.109375 46.1875 \nQ 20.953125 51.171875 25.484375 53.578125 \nQ 30.03125 56 36.53125 56 \nQ 37.453125 56 38.578125 55.875 \nQ 39.703125 55.765625 41.0625 55.515625 \nz\n\" id=\"DejaVuSans-114\"/>\n      <path d=\"M 48.78125 52.59375 \nL 48.78125 44.1875 \nQ 44.96875 46.296875 41.140625 47.34375 \nQ 37.3125 48.390625 33.40625 48.390625 \nQ 24.65625 48.390625 19.8125 42.84375 \nQ 14.984375 37.3125 14.984375 27.296875 \nQ 14.984375 17.28125 19.8125 11.734375 \nQ 24.65625 6.203125 33.40625 6.203125 \nQ 37.3125 6.203125 41.140625 7.25 \nQ 44.96875 8.296875 48.78125 10.40625 \nL 48.78125 2.09375 \nQ 45.015625 0.34375 40.984375 -0.53125 \nQ 36.96875 -1.421875 32.421875 -1.421875 \nQ 20.0625 -1.421875 12.78125 6.34375 \nQ 5.515625 14.109375 5.515625 27.296875 \nQ 5.515625 40.671875 12.859375 48.328125 \nQ 20.21875 56 33.015625 56 \nQ 37.15625 56 41.109375 55.140625 \nQ 45.0625 54.296875 48.78125 52.59375 \nz\n\" id=\"DejaVuSans-99\"/>\n      <path d=\"M 56.203125 29.59375 \nL 56.203125 25.203125 \nL 14.890625 25.203125 \nQ 15.484375 15.921875 20.484375 11.0625 \nQ 25.484375 6.203125 34.421875 6.203125 \nQ 39.59375 6.203125 44.453125 7.46875 \nQ 49.3125 8.734375 54.109375 11.28125 \nL 54.109375 2.78125 \nQ 49.265625 0.734375 44.1875 -0.34375 \nQ 39.109375 -1.421875 33.890625 -1.421875 \nQ 20.796875 -1.421875 13.15625 6.1875 \nQ 5.515625 13.8125 5.515625 26.8125 \nQ 5.515625 40.234375 12.765625 48.109375 \nQ 20.015625 56 32.328125 56 \nQ 43.359375 56 49.78125 48.890625 \nQ 56.203125 41.796875 56.203125 29.59375 \nz\nM 47.21875 32.234375 \nQ 47.125 39.59375 43.09375 43.984375 \nQ 39.0625 48.390625 32.421875 48.390625 \nQ 24.90625 48.390625 20.390625 44.140625 \nQ 15.875 39.890625 15.1875 32.171875 \nz\n\" id=\"DejaVuSans-101\"/>\n     </defs>\n     <g transform=\"translate(14.798438 128.324531)rotate(-90)scale(0.1 -0.1)\">\n      <use xlink:href=\"#DejaVuSans-80\"/>\n      <use x=\"60.287109\" xlink:href=\"#DejaVuSans-114\"/>\n      <use x=\"101.400391\" xlink:href=\"#DejaVuSans-105\"/>\n      <use x=\"129.183594\" xlink:href=\"#DejaVuSans-99\"/>\n      <use x=\"184.164062\" xlink:href=\"#DejaVuSans-101\"/>\n     </g>\n    </g>\n   </g>\n   <g id=\"patch_3\">\n    <path d=\"M 40.603125 224.760156 \nL 40.603125 7.320156 \n\" style=\"fill:none;stroke:#000000;stroke-linecap:square;stroke-linejoin:miter;stroke-width:0.8;\"/>\n   </g>\n   <g id=\"patch_4\">\n    <path d=\"M 375.403125 224.760156 \nL 375.403125 7.320156 \n\" style=\"fill:none;stroke:#000000;stroke-linecap:square;stroke-linejoin:miter;stroke-width:0.8;\"/>\n   </g>\n   <g id=\"patch_5\">\n    <path d=\"M 40.603125 224.760156 \nL 375.403125 224.760156 \n\" style=\"fill:none;stroke:#000000;stroke-linecap:square;stroke-linejoin:miter;stroke-width:0.8;\"/>\n   </g>\n   <g id=\"patch_6\">\n    <path d=\"M 40.603125 7.320156 \nL 375.403125 7.320156 \n\" style=\"fill:none;stroke:#000000;stroke-linecap:square;stroke-linejoin:miter;stroke-width:0.8;\"/>\n   </g>\n  </g>\n </g>\n <defs>\n  <clipPath id=\"p5a6d7bb6c8\">\n   <rect height=\"217.44\" width=\"334.8\" x=\"40.603125\" y=\"7.320156\"/>\n  </clipPath>\n </defs>\n</svg>\n",
      "image/png": "[encoded data removed]"
     },
     "metadata": {
      "needs_background": "light"
     }
    }
   ],
   "source": [
    "dataset.plot(kind = 'scatter',x = 'Population',y = 'Price')"
   ]
  },
  {
   "cell_type": "code",
   "execution_count": 22,
   "metadata": {},
   "outputs": [],
   "source": [
    "def ComputeCost(X,y,theta):\n",
    "    cost = np.power((X * theta.T)-y,2)\n",
    "    return np.sum(cost)/(len(X) * 2)"
   ]
  },
  {
   "cell_type": "code",
   "execution_count": 23,
   "metadata": {},
   "outputs": [
    {
     "output_type": "execute_result",
     "data": {
      "text/plain": "   Ones  Population    Price\n0     1      6.1101  17.5920\n1     1      5.5277   9.1302\n2     1      8.5186  13.6620\n3     1      7.0032  11.8540\n4     1      5.8598   6.8233",
      "text/html": "<div>\n<style scoped>\n    .dataframe tbody tr th:only-of-type {\n        vertical-align: middle;\n    }\n\n    .dataframe tbody tr th {\n        vertical-align: top;\n    }\n\n    .dataframe thead th {\n        text-align: right;\n    }\n</style>\n<table border=\"1\" class=\"dataframe\">\n  <thead>\n    <tr style=\"text-align: right;\">\n      <th></th>\n      <th>Ones</th>\n      <th>Population</th>\n      <th>Price</th>\n    </tr>\n  </thead>\n  <tbody>\n    <tr>\n      <th>0</th>\n      <td>1</td>\n      <td>6.1101</td>\n      <td>17.5920</td>\n    </tr>\n    <tr>\n      <th>1</th>\n      <td>1</td>\n      <td>5.5277</td>\n      <td>9.1302</td>\n    </tr>\n    <tr>\n      <th>2</th>\n      <td>1</td>\n      <td>8.5186</td>\n      <td>13.6620</td>\n    </tr>\n    <tr>\n      <th>3</th>\n      <td>1</td>\n      <td>7.0032</td>\n      <td>11.8540</td>\n    </tr>\n    <tr>\n      <th>4</th>\n      <td>1</td>\n      <td>5.8598</td>\n      <td>6.8233</td>\n    </tr>\n  </tbody>\n</table>\n</div>"
     },
     "metadata": {},
     "execution_count": 23
    }
   ],
   "source": [
    "dataset.insert(0,'Ones',1)\n",
    "dataset.head()"
   ]
  },
  {
   "cell_type": "code",
   "execution_count": 24,
   "metadata": {},
   "outputs": [],
   "source": [
    "cols = dataset.shape[1]"
   ]
  },
  {
   "cell_type": "code",
   "execution_count": 25,
   "metadata": {},
   "outputs": [],
   "source": [
    "X = dataset.iloc[:,0:cols-1]"
   ]
  },
  {
   "cell_type": "code",
   "execution_count": 26,
   "metadata": {},
   "outputs": [],
   "source": [
    "Y = dataset.iloc[:,cols-1:cols]"
   ]
  },
  {
   "cell_type": "code",
   "execution_count": 27,
   "metadata": {},
   "outputs": [],
   "source": [
    "X = np.matrix(X)\n",
    "Y = np.matrix(Y)"
   ]
  },
  {
   "cell_type": "code",
   "execution_count": 29,
   "metadata": {},
   "outputs": [
    {
     "output_type": "execute_result",
     "data": {
      "text/plain": "32.072733877455676"
     },
     "metadata": {},
     "execution_count": 29
    }
   ],
   "source": [
    "theta = np.matrix(np.array([0,0]))\n",
    "Cost = ComputeCost(X,Y,theta)\n",
    "Cost"
   ]
  },
  {
   "cell_type": "code",
   "execution_count": 103,
   "metadata": {},
   "outputs": [],
   "source": [
    "def GradientDescent(X,Y,theta,alpha,iters):\n",
    "    temp = np.matrix(np.zeros(theta.shape))\n",
    "    parameters = int(theta.ravel().shape[1])\n",
    "    cost = np.zeros(iters)\n",
    "\n",
    "    for idx in range(iters):\n",
    "        d = (X * theta.T) - Y\n",
    "\n",
    "        for j in range(parameters):\n",
    "            term = np.multiply(d,X[:,j])\n",
    "            temp[0,j] = theta[0,j] - ((alpha / len(X)) * np.sum(term))\n",
    "\n",
    "        theta = temp\n",
    "        cost[idx] = ComputeCost(X,Y,theta)\n",
    "\n",
    "    return theta,cost"
   ]
  },
  {
   "cell_type": "code",
   "execution_count": 104,
   "metadata": {},
   "outputs": [],
   "source": [
    "alpha = 0.01\n",
    "iters = 1000"
   ]
  },
  {
   "cell_type": "code",
   "execution_count": 105,
   "metadata": {},
   "outputs": [],
   "source": [
    "theta,cost = GradientDescent(X,Y,theta,alpha,iters)"
   ]
  },
  {
   "cell_type": "code",
   "execution_count": 106,
   "metadata": {},
   "outputs": [
    {
     "output_type": "execute_result",
     "data": {
      "text/plain": "4.476971396982805"
     },
     "metadata": {},
     "execution_count": 106
    }
   ],
   "source": [
    "ComputeCost(X,Y,theta)"
   ]
  },
  {
   "cell_type": "code",
   "execution_count": 85,
   "metadata": {},
   "outputs": [
    {
     "output_type": "execute_result",
     "data": {
      "text/plain": "numpy.ndarray"
     },
     "metadata": {},
     "execution_count": 85
    }
   ],
   "source": [
    "n = np.zeros([2,3])\n",
    "type(n)"
   ]
  },
  {
   "cell_type": "code",
   "execution_count": 86,
   "metadata": {},
   "outputs": [
    {
     "output_type": "execute_result",
     "data": {
      "text/plain": "numpy.matrixlib.defmatrix.matrix"
     },
     "metadata": {},
     "execution_count": 86
    }
   ],
   "source": [
    "m = np.matrix(n)\n",
    "type(m)"
   ]
  },
  {
   "cell_type": "code",
   "execution_count": 107,
   "metadata": {},
   "outputs": [],
   "source": [
    "n = np.ones([2,3])\n",
    "n = np.matrix(n)"
   ]
  },
  {
   "cell_type": "code",
   "execution_count": 108,
   "metadata": {},
   "outputs": [
    {
     "output_type": "execute_result",
     "data": {
      "text/plain": "matrix([[1., 1., 1.],\n        [1., 1., 1.]])"
     },
     "metadata": {},
     "execution_count": 108
    }
   ],
   "source": [
    "n"
   ]
  },
  {
   "cell_type": "code",
   "execution_count": 109,
   "metadata": {},
   "outputs": [],
   "source": [
    "m = np.matrix(np.array([1,2,3,4,5,6]).reshape(3,2))"
   ]
  },
  {
   "cell_type": "code",
   "execution_count": 110,
   "metadata": {},
   "outputs": [
    {
     "output_type": "execute_result",
     "data": {
      "text/plain": "matrix([[1, 2],\n        [3, 4],\n        [5, 6]])"
     },
     "metadata": {},
     "execution_count": 110
    }
   ],
   "source": [
    "m"
   ]
  },
  {
   "cell_type": "code",
   "execution_count": 111,
   "metadata": {},
   "outputs": [
    {
     "output_type": "execute_result",
     "data": {
      "text/plain": "matrix([[ 9., 12.],\n        [ 9., 12.]])"
     },
     "metadata": {},
     "execution_count": 111
    }
   ],
   "source": [
    "n*m"
   ]
  },
  {
   "cell_type": "code",
   "execution_count": 113,
   "metadata": {},
   "outputs": [
    {
     "output_type": "execute_result",
     "data": {
      "text/plain": "matrix([[ 9., 12.],\n        [ 9., 12.]])"
     },
     "metadata": {},
     "execution_count": 113
    }
   ],
   "source": [
    "np.dot(n,m)"
   ]
  },
  {
   "cell_type": "code",
   "execution_count": 98,
   "metadata": {},
   "outputs": [],
   "source": [
    "out = np.multiply(n,m.T)"
   ]
  },
  {
   "cell_type": "code",
   "execution_count": 99,
   "metadata": {},
   "outputs": [
    {
     "output_type": "execute_result",
     "data": {
      "text/plain": "matrix([[1., 3., 5.],\n        [2., 4., 6.]])"
     },
     "metadata": {},
     "execution_count": 99
    }
   ],
   "source": []
  },
  {
   "cell_type": "code",
   "execution_count": 126,
   "metadata": {},
   "outputs": [
    {
     "output_type": "execute_result",
     "data": {
      "text/plain": "matrix([[0, 1],\n        [2, 3]])"
     },
     "metadata": {},
     "execution_count": 126
    }
   ],
   "source": [
    "n = np.array(range(4)).reshape(2,2)\n",
    "n = np.matrix(n)\n",
    "n"
   ]
  },
  {
   "cell_type": "code",
   "execution_count": 123,
   "metadata": {},
   "outputs": [
    {
     "output_type": "execute_result",
     "data": {
      "text/plain": "matrix([[1., 1.],\n        [1., 1.]])"
     },
     "metadata": {},
     "execution_count": 123
    }
   ],
   "source": [
    "m = np.matrix(np.ones([2,2]))"
   ]
  },
  {
   "cell_type": "code",
   "execution_count": 124,
   "metadata": {},
   "outputs": [
    {
     "output_type": "execute_result",
     "data": {
      "text/plain": "matrix([[1., 1.],\n        [5., 5.]])"
     },
     "metadata": {},
     "execution_count": 124
    }
   ],
   "source": [
    "n*m"
   ]
  },
  {
   "cell_type": "code",
   "execution_count": 127,
   "metadata": {},
   "outputs": [
    {
     "output_type": "execute_result",
     "data": {
      "text/plain": "matrix([[1., 1.],\n        [5., 5.]])"
     },
     "metadata": {},
     "execution_count": 127
    }
   ],
   "source": [
    "np.dot(n,m)"
   ]
  },
  {
   "cell_type": "code",
   "execution_count": null,
   "metadata": {},
   "outputs": [],
   "source": [
    "n[0,1]"
   ]
  }
 ]
}