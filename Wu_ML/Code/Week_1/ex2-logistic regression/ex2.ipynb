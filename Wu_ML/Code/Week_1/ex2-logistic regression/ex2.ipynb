{
 "cells": [
  {
   "cell_type": "markdown",
   "metadata": {},
   "source": [
    "# Logistic Regression"
   ]
  },
  {
   "cell_type": "code",
   "execution_count": 65,
   "metadata": {},
   "outputs": [],
   "source": [
    "import numpy as np\n",
    "import pandas as pd\n",
    "import matplotlib.pyplot as plt\n",
    "import scipy.optimize as opt"
   ]
  },
  {
   "cell_type": "code",
   "execution_count": 66,
   "metadata": {},
   "outputs": [],
   "source": [
    "def sigmoidFunc(x):\n",
    "    z = 1 / (1+np.exp(-x))\n",
    "    return z"
   ]
  },
  {
   "cell_type": "markdown",
   "metadata": {},
   "source": [
    "逻辑回归-交叉熵损失函数"
   ]
  },
  {
   "cell_type": "code",
   "execution_count": null,
   "metadata": {},
   "outputs": [],
   "source": [
    "def costFunction(theta,X,y):\n",
    "    X = np.matrix(X)\n",
    "    y = np.matrix(y)\n",
    "    theta = np.matrix(theta)\n",
    "    cost = np.multiply(-y,np.log(sigmoidFunc(X*theta.T)))-np.multiply((1-y),np.log(1-sigmoidFunc(X * theta.T)))\n",
    "    return np.sum(cost)/len(X)"
   ]
  },
  {
   "cell_type": "markdown",
   "metadata": {},
   "source": [
    "逻辑回归-交叉熵带正则化项的损失函数"
   ]
  },
  {
   "cell_type": "code",
   "execution_count": null,
   "metadata": {},
   "outputs": [],
   "source": [
    "def gradientDescent(theta,X,y):\n",
    "    theta = np.matrix(theta)\n",
    "    X = np.matrix(X)\n",
    "    y = np.matrix(y)\n",
    "\n",
    "    parameters = int(theta.ravel().shape[1])\n",
    "\n",
    "    grad = np.zeros(parameters)\n",
    "    \n",
    "    error = sigmoidFunc(X * theta.T) - y\n",
    "    \n",
    "    for i in range(parameters):\n",
    "        term = np.multiply(error, X[:,i])\n",
    "        grad[i] = np.sum(term) / len(X)\n",
    "    \n",
    "    return grad"
   ]
  },
  {
   "cell_type": "code",
   "execution_count": null,
   "metadata": {},
   "outputs": [],
   "source": [
    "path1 = 'ex2data1.txt'\n",
    "data1 = pd.read_csv(path1, header = None , names = ['Feature1', 'Feature2', 'Admitted'])\n",
    "data1.head()"
   ]
  },
  {
   "cell_type": "code",
   "execution_count": null,
   "metadata": {},
   "outputs": [],
   "source": [
    "data1.insert(0,'Ones',1)\n",
    "data1.head()"
   ]
  },
  {
   "cell_type": "code",
   "execution_count": null,
   "metadata": {},
   "outputs": [],
   "source": [
    "positive = data1[data1['Admitted'].isin([1])]\n",
    "negative = data1[data1['Admitted'].isin([0])]\n",
    "\n",
    "fig,ax = plt.subplots(figsize = (12,8))\n",
    "ax.scatter(positive['Feature1'],positive['Feature2'],s=50,c='b',marker = 'o',label = 'Admitted')\n",
    "ax.scatter(negative['Feature1'],negative['Feature2'],s=50,c='r',marker = 'x',label = 'Not Admitted')\n",
    "ax.legend()\n",
    "ax.set_xlabel('Feature_1')\n",
    "ax.set_ylabel('Feature_2')\n",
    "plt.show()"
   ]
  },
  {
   "cell_type": "code",
   "execution_count": null,
   "metadata": {},
   "outputs": [],
   "source": [
    "gradientDescent(theta,X,y)"
   ]
  },
  {
   "cell_type": "code",
   "execution_count": null,
   "metadata": {},
   "outputs": [],
   "source": [
    "cols = data1.shape[1]\n",
    "x = data1.iloc[:,0:cols-1]\n",
    "y = data1.iloc[:,cols-1:cols]\n",
    "\n",
    "input_x = np.array(x.values)\n",
    "input_y = np.array(y.values)\n",
    "theta = np.zeros(3)\n",
    ""
   ]
  },
  {
   "cell_type": "code",
   "execution_count": null,
   "metadata": {},
   "outputs": [],
   "source": [
    "cost = costFunction(theta,input_x,input_y)\n",
    "cost"
   ]
  },
  {
   "cell_type": "code",
   "execution_count": null,
   "metadata": {},
   "outputs": [],
   "source": [
    "result = opt.fmin_tnc(func = costFunction, x0 = theta, fprime = gradientDescent, args = (input_x,input_y))\n",
    "result"
   ]
  },
  {
   "cell_type": "code",
   "execution_count": null,
   "metadata": {},
   "outputs": [],
   "source": [
    "costFunction(result[0],x,y)"
   ]
  },
  {
   "cell_type": "code",
   "execution_count": 67,
   "metadata": {},
   "outputs": [],
   "source": [
    "def predict(theta,X):\n",
    "    probability = sigmoidFunc(X * theta.T)\n",
    "    return [1 if x > 0.5 else 0 for x in probability]"
   ]
  },
  {
   "cell_type": "code",
   "execution_count": null,
   "metadata": {},
   "outputs": [],
   "source": [
    "theta_gd = np.matrix(result[0])\n",
    "predictions = predict(theta_gd,input_x)\n",
    "correct = [1 if (a == b) else 0 for (a,b) in zip(predictions,input_y)]\n",
    "accuracy = (sum(map(int,correct))/len(correct))\n",
    "print ('accuracy = {}%'.format(accuracy*100))"
   ]
  },
  {
   "cell_type": "code",
   "execution_count": 79,
   "metadata": {},
   "outputs": [],
   "source": [
    "def costFunctionReg(theta,X,y,lamb):\n",
    "    X = np.matrix(X)\n",
    "    y = np.matrix(y)\n",
    "    theta = np.matrix(theta)\n",
    "\n",
    "    cost = np.multiply(-y,np.log(sigmoidFunc(X * theta.T)))-np.multiply(1-y,np.log(1 - sigmoidFunc(X * theta.T)))\n",
    "\n",
    "    reg_cost = lamb/(len(X) * 2) * (np.sum(np.power(theta[:,1:theta.shape[1]], 2,)))\n",
    "\n",
    "    return np.sum(cost)/len(X) + reg_cost"
   ]
  },
  {
   "cell_type": "code",
   "execution_count": 77,
   "metadata": {},
   "outputs": [],
   "source": [
    "def regGradientDescent(theta,X,y,lamb):\n",
    "    theta = np.matrix(theta)\n",
    "    X = np.matrix(X)\n",
    "    y = np.matrix(y)\n",
    "\n",
    "    parameters = int(theta.ravel().shape[1])\n",
    "\n",
    "    grad = np.zeros(parameters)\n",
    "\n",
    "    error = sigmoidFunc(X * theta.T) - y\n",
    "\n",
    "    for i in range(parameters):\n",
    "        term = np.multiply(error,X[:,i])\n",
    "\n",
    "        if i == 0 :\n",
    "            grad[i] = np.sum(term)/len(X)\n",
    "        else:\n",
    "            grad[i] = np.sum(term)/len(X) + lamb / len(X) * theta[:,i]\n",
    "    return grad"
   ]
  },
  {
   "cell_type": "code",
   "execution_count": 70,
   "metadata": {},
   "outputs": [
    {
     "output_type": "execute_result",
     "data": {
      "text/plain": "   Feature1  Feature2  Admitted\n0  0.051267   0.69956         1\n1 -0.092742   0.68494         1\n2 -0.213710   0.69225         1\n3 -0.375000   0.50219         1\n4 -0.513250   0.46564         1",
      "text/html": "<div>\n<style scoped>\n    .dataframe tbody tr th:only-of-type {\n        vertical-align: middle;\n    }\n\n    .dataframe tbody tr th {\n        vertical-align: top;\n    }\n\n    .dataframe thead th {\n        text-align: right;\n    }\n</style>\n<table border=\"1\" class=\"dataframe\">\n  <thead>\n    <tr style=\"text-align: right;\">\n      <th></th>\n      <th>Feature1</th>\n      <th>Feature2</th>\n      <th>Admitted</th>\n    </tr>\n  </thead>\n  <tbody>\n    <tr>\n      <th>0</th>\n      <td>0.051267</td>\n      <td>0.69956</td>\n      <td>1</td>\n    </tr>\n    <tr>\n      <th>1</th>\n      <td>-0.092742</td>\n      <td>0.68494</td>\n      <td>1</td>\n    </tr>\n    <tr>\n      <th>2</th>\n      <td>-0.213710</td>\n      <td>0.69225</td>\n      <td>1</td>\n    </tr>\n    <tr>\n      <th>3</th>\n      <td>-0.375000</td>\n      <td>0.50219</td>\n      <td>1</td>\n    </tr>\n    <tr>\n      <th>4</th>\n      <td>-0.513250</td>\n      <td>0.46564</td>\n      <td>1</td>\n    </tr>\n  </tbody>\n</table>\n</div>"
     },
     "metadata": {},
     "execution_count": 70
    }
   ],
   "source": [
    "path = 'ex2data2.txt'\n",
    "data2 = pd.read_csv(path, header = None,names = ['Feature1','Feature2','Admitted'])\n",
    "data2.head()"
   ]
  },
  {
   "cell_type": "code",
   "execution_count": 71,
   "metadata": {},
   "outputs": [
    {
     "output_type": "display_data",
     "data": {
      "text/plain": "<Figure size 864x576 with 1 Axes>",
      "image/svg+xml": "<?xml version=\"1.0\" encoding=\"utf-8\" standalone=\"no\"?>\n<!DOCTYPE svg PUBLIC \"-//W3C//DTD SVG 1.1//EN\"\n  \"http://www.w3.org/Graphics/SVG/1.1/DTD/svg11.dtd\">\n<!-- Created with matplotlib (https://matplotlib.org/) -->\n<svg height=\"479.63625pt\" version=\"1.1\" viewBox=\"0 0 735.425 479.63625\" width=\"735.425pt\" xmlns=\"http://www.w3.org/2000/svg\" xmlns:xlink=\"http://www.w3.org/1999/xlink\">\n <defs>\n  <style type=\"text/css\">\n*{stroke-linecap:butt;stroke-linejoin:round;white-space:pre;}\n  </style>\n </defs>\n <g id=\"figure_1\">\n  <g id=\"patch_1\">\n   <path d=\"M 0 479.63625 \nL 735.425 479.63625 \nL 735.425 0 \nL 0 0 \nz\n\" style=\"fill:none;\"/>\n  </g>\n  <g id=\"axes_1\">\n   <g id=\"patch_2\">\n    <path d=\"M 58.625 442.08 \nL 728.225 442.08 \nL 728.225 7.2 \nL 58.625 7.2 \nz\n\" style=\"fill:#ffffff;\"/>\n   </g>\n   <g id=\"PathCollection_1\">\n    <defs>\n     <path d=\"M -3.535534 0 \nL 3.535534 0 \nM 0 3.535534 \nL 0 -3.535534 \n\" id=\"m1feae691d9\" style=\"stroke:#0000ff;stroke-width:1.5;\"/>\n    </defs>\n    <g clip-path=\"url(#pff0c0e3b26)\">\n     <use style=\"fill:#0000ff;stroke:#0000ff;stroke-width:1.5;\" x=\"371.467073\" xlink:href=\"#m1feae691d9\" y=\"114.763198\"/>\n     <use style=\"fill:#0000ff;stroke:#0000ff;stroke-width:1.5;\" x=\"325.737058\" xlink:href=\"#m1feae691d9\" y=\"117.794254\"/>\n     <use style=\"fill:#0000ff;stroke:#0000ff;stroke-width:1.5;\" x=\"287.323705\" xlink:href=\"#m1feae691d9\" y=\"116.278726\"/>\n     <use style=\"fill:#0000ff;stroke:#0000ff;stroke-width:1.5;\" x=\"236.106113\" xlink:href=\"#m1feae691d9\" y=\"155.682449\"/>\n     <use style=\"fill:#0000ff;stroke:#0000ff;stroke-width:1.5;\" x=\"192.204866\" xlink:href=\"#m1feae691d9\" y=\"163.260088\"/>\n     <use style=\"fill:#0000ff;stroke:#0000ff;stroke-width:1.5;\" x=\"188.546694\" xlink:href=\"#m1feae691d9\" y=\"216.301487\"/>\n     <use style=\"fill:#0000ff;stroke:#0000ff;stroke-width:1.5;\" x=\"228.789768\" xlink:href=\"#m1feae691d9\" y=\"252.674776\"/>\n     <use style=\"fill:#0000ff;stroke:#0000ff;stroke-width:1.5;\" x=\"258.055149\" xlink:href=\"#m1feae691d9\" y=\"299.655516\"/>\n     <use style=\"fill:#0000ff;stroke:#0000ff;stroke-width:1.5;\" x=\"360.49192\" xlink:href=\"#m1feae691d9\" y=\"343.605822\"/>\n     <use style=\"fill:#0000ff;stroke:#0000ff;stroke-width:1.5;\" x=\"397.075234\" xlink:href=\"#m1feae691d9\" y=\"366.338739\"/>\n     <use style=\"fill:#0000ff;stroke:#0000ff;stroke-width:1.5;\" x=\"477.561382\" xlink:href=\"#m1feae691d9\" y=\"376.947434\"/>\n     <use style=\"fill:#0000ff;stroke:#0000ff;stroke-width:1.5;\" x=\"523.291715\" xlink:href=\"#m1feae691d9\" y=\"367.854267\"/>\n     <use style=\"fill:#0000ff;stroke:#0000ff;stroke-width:1.5;\" x=\"558.044355\" xlink:href=\"#m1feae691d9\" y=\"310.264211\"/>\n     <use style=\"fill:#0000ff;stroke:#0000ff;stroke-width:1.5;\" x=\"589.141997\" xlink:href=\"#m1feae691d9\" y=\"298.139988\"/>\n     <use style=\"fill:#0000ff;stroke:#0000ff;stroke-width:1.5;\" x=\"528.778974\" xlink:href=\"#m1feae691d9\" y=\"158.713504\"/>\n     <use style=\"fill:#0000ff;stroke:#0000ff;stroke-width:1.5;\" x=\"457.438257\" xlink:href=\"#m1feae691d9\" y=\"139.011643\"/>\n     <use style=\"fill:#0000ff;stroke:#0000ff;stroke-width:1.5;\" x=\"408.049752\" xlink:href=\"#m1feae691d9\" y=\"148.10481\"/>\n     <use style=\"fill:#0000ff;stroke:#0000ff;stroke-width:1.5;\" x=\"340.370701\" xlink:href=\"#m1feae691d9\" y=\"90.514753\"/>\n     <use style=\"fill:#0000ff;stroke:#0000ff;stroke-width:1.5;\" x=\"300.127309\" xlink:href=\"#m1feae691d9\" y=\"114.763198\"/>\n     <use style=\"fill:#0000ff;stroke:#0000ff;stroke-width:1.5;\" x=\"203.179384\" xlink:href=\"#m1feae691d9\" y=\"128.402948\"/>\n     <use style=\"fill:#0000ff;stroke:#0000ff;stroke-width:1.5;\" x=\"162.939486\" xlink:href=\"#m1feae691d9\" y=\"135.980587\"/>\n     <use style=\"fill:#0000ff;stroke:#0000ff;stroke-width:1.5;\" x=\"155.619965\" xlink:href=\"#m1feae691d9\" y=\"190.539588\"/>\n     <use style=\"fill:#0000ff;stroke:#0000ff;stroke-width:1.5;\" x=\"166.597658\" xlink:href=\"#m1feae691d9\" y=\"258.736888\"/>\n     <use style=\"fill:#0000ff;stroke:#0000ff;stroke-width:1.5;\" x=\"221.473423\" xlink:href=\"#m1feae691d9\" y=\"316.326322\"/>\n     <use style=\"fill:#0000ff;stroke:#0000ff;stroke-width:1.5;\" x=\"318.421347\" xlink:href=\"#m1feae691d9\" y=\"342.090294\"/>\n     <use style=\"fill:#0000ff;stroke:#0000ff;stroke-width:1.5;\" x=\"419.027445\" xlink:href=\"#m1feae691d9\" y=\"384.525073\"/>\n     <use style=\"fill:#0000ff;stroke:#0000ff;stroke-width:1.5;\" x=\"503.16859\" xlink:href=\"#m1feae691d9\" y=\"370.885323\"/>\n     <use style=\"fill:#0000ff;stroke:#0000ff;stroke-width:1.5;\" x=\"569.022048\" xlink:href=\"#m1feae691d9\" y=\"370.885323\"/>\n     <use style=\"fill:#0000ff;stroke:#0000ff;stroke-width:1.5;\" x=\"311.105002\" xlink:href=\"#m1feae691d9\" y=\"146.589282\"/>\n     <use style=\"fill:#0000ff;stroke:#0000ff;stroke-width:1.5;\" x=\"261.716497\" xlink:href=\"#m1feae691d9\" y=\"98.092392\"/>\n     <use style=\"fill:#0000ff;stroke:#0000ff;stroke-width:1.5;\" x=\"270.861928\" xlink:href=\"#m1feae691d9\" y=\"60.204197\"/>\n     <use style=\"fill:#0000ff;stroke:#0000ff;stroke-width:1.5;\" x=\"303.785482\" xlink:href=\"#m1feae691d9\" y=\"93.545809\"/>\n     <use style=\"fill:#0000ff;stroke:#0000ff;stroke-width:1.5;\" x=\"300.127309\" xlink:href=\"#m1feae691d9\" y=\"125.371893\"/>\n     <use style=\"fill:#0000ff;stroke:#0000ff;stroke-width:1.5;\" x=\"265.374669\" xlink:href=\"#m1feae691d9\" y=\"161.74456\"/>\n     <use style=\"fill:#0000ff;stroke:#0000ff;stroke-width:1.5;\" x=\"239.764286\" xlink:href=\"#m1feae691d9\" y=\"195.086171\"/>\n     <use style=\"fill:#0000ff;stroke:#0000ff;stroke-width:1.5;\" x=\"259.884235\" xlink:href=\"#m1feae691d9\" y=\"254.190304\"/>\n     <use style=\"fill:#0000ff;stroke:#0000ff;stroke-width:1.5;\" x=\"280.00736\" xlink:href=\"#m1feae691d9\" y=\"304.2021\"/>\n     <use style=\"fill:#0000ff;stroke:#0000ff;stroke-width:1.5;\" x=\"334.883124\" xlink:href=\"#m1feae691d9\" y=\"298.139988\"/>\n     <use style=\"fill:#0000ff;stroke:#0000ff;stroke-width:1.5;\" x=\"375.125563\" xlink:href=\"#m1feae691d9\" y=\"293.593405\"/>\n     <use style=\"fill:#0000ff;stroke:#0000ff;stroke-width:1.5;\" x=\"428.172876\" xlink:href=\"#m1feae691d9\" y=\"345.12135\"/>\n     <use style=\"fill:#0000ff;stroke:#0000ff;stroke-width:1.5;\" x=\"448.292826\" xlink:href=\"#m1feae691d9\" y=\"307.233155\"/>\n     <use style=\"fill:#0000ff;stroke:#0000ff;stroke-width:1.5;\" x=\"508.655849\" xlink:href=\"#m1feae691d9\" y=\"298.139988\"/>\n     <use style=\"fill:#0000ff;stroke:#0000ff;stroke-width:1.5;\" x=\"559.876616\" xlink:href=\"#m1feae691d9\" y=\"289.046822\"/>\n     <use style=\"fill:#0000ff;stroke:#0000ff;stroke-width:1.5;\" x=\"501.339504\" xlink:href=\"#m1feae691d9\" y=\"257.22136\"/>\n     <use style=\"fill:#0000ff;stroke:#0000ff;stroke-width:1.5;\" x=\"554.386182\" xlink:href=\"#m1feae691d9\" y=\"226.910182\"/>\n     <use style=\"fill:#0000ff;stroke:#0000ff;stroke-width:1.5;\" x=\"537.924405\" xlink:href=\"#m1feae691d9\" y=\"204.179338\"/>\n     <use style=\"fill:#0000ff;stroke:#0000ff;stroke-width:1.5;\" x=\"585.483825\" xlink:href=\"#m1feae691d9\" y=\"167.806671\"/>\n     <use style=\"fill:#0000ff;stroke:#0000ff;stroke-width:1.5;\" x=\"426.34379\" xlink:href=\"#m1feae691d9\" y=\"151.135865\"/>\n     <use style=\"fill:#0000ff;stroke:#0000ff;stroke-width:1.5;\" x=\"495.852245\" xlink:href=\"#m1feae691d9\" y=\"120.825309\"/>\n     <use style=\"fill:#0000ff;stroke:#0000ff;stroke-width:1.5;\" x=\"457.438257\" xlink:href=\"#m1feae691d9\" y=\"116.278726\"/>\n     <use style=\"fill:#0000ff;stroke:#0000ff;stroke-width:1.5;\" x=\"398.90432\" xlink:href=\"#m1feae691d9\" y=\"140.527171\"/>\n     <use style=\"fill:#0000ff;stroke:#0000ff;stroke-width:1.5;\" x=\"353.17513\" xlink:href=\"#m1feae691d9\" y=\"176.899838\"/>\n     <use style=\"fill:#0000ff;stroke:#0000ff;stroke-width:1.5;\" x=\"325.737058\" xlink:href=\"#m1feae691d9\" y=\"145.073754\"/>\n     <use style=\"fill:#0000ff;stroke:#0000ff;stroke-width:1.5;\" x=\"289.152791\" xlink:href=\"#m1feae691d9\" y=\"185.993005\"/>\n     <use style=\"fill:#0000ff;stroke:#0000ff;stroke-width:1.5;\" x=\"289.152791\" xlink:href=\"#m1feae691d9\" y=\"223.879126\"/>\n     <use style=\"fill:#0000ff;stroke:#0000ff;stroke-width:1.5;\" x=\"215.986164\" xlink:href=\"#m1feae691d9\" y=\"214.785959\"/>\n     <use style=\"fill:#0000ff;stroke:#0000ff;stroke-width:1.5;\" x=\"285.494619\" xlink:href=\"#m1feae691d9\" y=\"263.283471\"/>\n     <use style=\"fill:#0000ff;stroke:#0000ff;stroke-width:1.5;\" x=\"311.105002\" xlink:href=\"#m1feae691d9\" y=\"316.326322\"/>\n    </g>\n   </g>\n   <g id=\"PathCollection_2\">\n    <defs>\n     <path d=\"M 0 3.535534 \nC 0.937635 3.535534 1.836992 3.163008 2.5 2.5 \nC 3.163008 1.836992 3.535534 0.937635 3.535534 0 \nC 3.535534 -0.937635 3.163008 -1.836992 2.5 -2.5 \nC 1.836992 -3.163008 0.937635 -3.535534 0 -3.535534 \nC -0.937635 -3.535534 -1.836992 -3.163008 -2.5 -2.5 \nC -3.163008 -1.836992 -3.535534 -0.937635 -3.535534 0 \nC -3.535534 0.937635 -3.163008 1.836992 -2.5 2.5 \nC -1.836992 3.163008 -0.937635 3.535534 0 3.535534 \nz\n\" id=\"m7c27243653\" style=\"stroke:#bfbf00;\"/>\n    </defs>\n    <g clip-path=\"url(#pff0c0e3b26)\">\n     <use style=\"fill:#bfbf00;stroke:#bfbf00;\" x=\"413.540186\" xlink:href=\"#m7c27243653\" y=\"66.266309\"/>\n     <use style=\"fill:#bfbf00;stroke:#bfbf00;\" x=\"426.34379\" xlink:href=\"#m7c27243653\" y=\"98.092392\"/>\n     <use style=\"fill:#bfbf00;stroke:#bfbf00;\" x=\"450.121912\" xlink:href=\"#m7c27243653\" y=\"131.434004\"/>\n     <use style=\"fill:#bfbf00;stroke:#bfbf00;\" x=\"515.97537\" xlink:href=\"#m7c27243653\" y=\"102.638976\"/>\n     <use style=\"fill:#bfbf00;stroke:#bfbf00;\" x=\"550.728009\" xlink:href=\"#m7c27243653\" y=\"108.701087\"/>\n     <use style=\"fill:#bfbf00;stroke:#bfbf00;\" x=\"547.069837\" xlink:href=\"#m7c27243653\" y=\"135.980587\"/>\n     <use style=\"fill:#bfbf00;stroke:#bfbf00;\" x=\"598.287429\" xlink:href=\"#m7c27243653\" y=\"155.682449\"/>\n     <use style=\"fill:#bfbf00;stroke:#bfbf00;\" x=\"649.505021\" xlink:href=\"#m7c27243653\" y=\"184.477477\"/>\n     <use style=\"fill:#bfbf00;stroke:#bfbf00;\" x=\"616.581467\" xlink:href=\"#m7c27243653\" y=\"202.66381\"/>\n     <use style=\"fill:#bfbf00;stroke:#bfbf00;\" x=\"660.482714\" xlink:href=\"#m7c27243653\" y=\"242.066289\"/>\n     <use style=\"fill:#bfbf00;stroke:#bfbf00;\" x=\"653.163193\" xlink:href=\"#m7c27243653\" y=\"257.22136\"/>\n     <use style=\"fill:#bfbf00;stroke:#bfbf00;\" x=\"629.385071\" xlink:href=\"#m7c27243653\" y=\"276.923014\"/>\n     <use style=\"fill:#bfbf00;stroke:#bfbf00;\" x=\"640.359589\" xlink:href=\"#m7c27243653\" y=\"302.686572\"/>\n     <use style=\"fill:#bfbf00;stroke:#bfbf00;\" x=\"625.726899\" xlink:href=\"#m7c27243653\" y=\"336.028183\"/>\n     <use style=\"fill:#bfbf00;stroke:#bfbf00;\" x=\"618.410554\" xlink:href=\"#m7c27243653\" y=\"367.854267\"/>\n     <use style=\"fill:#bfbf00;stroke:#bfbf00;\" x=\"607.43286\" xlink:href=\"#m7c27243653\" y=\"375.431906\"/>\n     <use style=\"fill:#bfbf00;stroke:#bfbf00;\" x=\"543.411664\" xlink:href=\"#m7c27243653\" y=\"413.320101\"/>\n     <use style=\"fill:#bfbf00;stroke:#bfbf00;\" x=\"519.633542\" xlink:href=\"#m7c27243653\" y=\"383.009545\"/>\n     <use style=\"fill:#bfbf00;stroke:#bfbf00;\" x=\"503.16859\" xlink:href=\"#m7c27243653\" y=\"346.636878\"/>\n     <use style=\"fill:#bfbf00;stroke:#bfbf00;\" x=\"466.586864\" xlink:href=\"#m7c27243653\" y=\"379.978489\"/>\n     <use style=\"fill:#bfbf00;stroke:#bfbf00;\" x=\"446.463739\" xlink:href=\"#m7c27243653\" y=\"419.382212\"/>\n     <use style=\"fill:#bfbf00;stroke:#bfbf00;\" x=\"382.442226\" xlink:href=\"#m7c27243653\" y=\"416.351157\"/>\n     <use style=\"fill:#bfbf00;stroke:#bfbf00;\" x=\"402.562493\" xlink:href=\"#m7c27243653\" y=\"379.978489\"/>\n     <use style=\"fill:#bfbf00;stroke:#bfbf00;\" x=\"312.934089\" xlink:href=\"#m7c27243653\" y=\"352.698989\"/>\n     <use style=\"fill:#bfbf00;stroke:#bfbf00;\" x=\"225.131595\" xlink:href=\"#m7c27243653\" y=\"345.12135\"/>\n     <use style=\"fill:#bfbf00;stroke:#bfbf00;\" x=\"230.618854\" xlink:href=\"#m7c27243653\" y=\"313.295266\"/>\n     <use style=\"fill:#bfbf00;stroke:#bfbf00;\" x=\"119.038239\" xlink:href=\"#m7c27243653\" y=\"313.295266\"/>\n     <use style=\"fill:#bfbf00;stroke:#bfbf00;\" x=\"133.670929\" xlink:href=\"#m7c27243653\" y=\"251.159249\"/>\n     <use style=\"fill:#bfbf00;stroke:#bfbf00;\" x=\"115.380066\" xlink:href=\"#m7c27243653\" y=\"199.632755\"/>\n     <use style=\"fill:#bfbf00;stroke:#bfbf00;\" x=\"133.670929\" xlink:href=\"#m7c27243653\" y=\"117.794254\"/>\n     <use style=\"fill:#bfbf00;stroke:#bfbf00;\" x=\"226.960682\" xlink:href=\"#m7c27243653\" y=\"113.24767\"/>\n     <use style=\"fill:#bfbf00;stroke:#bfbf00;\" x=\"234.277027\" xlink:href=\"#m7c27243653\" y=\"69.297364\"/>\n     <use style=\"fill:#bfbf00;stroke:#bfbf00;\" x=\"194.033953\" xlink:href=\"#m7c27243653\" y=\"72.32842\"/>\n     <use style=\"fill:#bfbf00;stroke:#bfbf00;\" x=\"181.230349\" xlink:href=\"#m7c27243653\" y=\"113.24767\"/>\n     <use style=\"fill:#bfbf00;stroke:#bfbf00;\" x=\"387.929802\" xlink:href=\"#m7c27243653\" y=\"98.092392\"/>\n     <use style=\"fill:#bfbf00;stroke:#bfbf00;\" x=\"373.296477\" xlink:href=\"#m7c27243653\" y=\"69.297364\"/>\n     <use style=\"fill:#bfbf00;stroke:#bfbf00;\" x=\"322.07952\" xlink:href=\"#m7c27243653\" y=\"54.142086\"/>\n     <use style=\"fill:#bfbf00;stroke:#bfbf00;\" x=\"329.395548\" xlink:href=\"#m7c27243653\" y=\"29.897788\"/>\n     <use style=\"fill:#bfbf00;stroke:#bfbf00;\" x=\"446.463739\" xlink:href=\"#m7c27243653\" y=\"34.438152\"/>\n     <use style=\"fill:#bfbf00;stroke:#bfbf00;\" x=\"481.219555\" xlink:href=\"#m7c27243653\" y=\"88.999225\"/>\n     <use style=\"fill:#bfbf00;stroke:#bfbf00;\" x=\"558.044355\" xlink:href=\"#m7c27243653\" y=\"75.359475\"/>\n     <use style=\"fill:#bfbf00;stroke:#bfbf00;\" x=\"616.581467\" xlink:href=\"#m7c27243653\" y=\"122.340837\"/>\n     <use style=\"fill:#bfbf00;stroke:#bfbf00;\" x=\"569.022048\" xlink:href=\"#m7c27243653\" y=\"126.88742\"/>\n     <use style=\"fill:#bfbf00;stroke:#bfbf00;\" x=\"695.251231\" xlink:href=\"#m7c27243653\" y=\"239.034404\"/>\n     <use style=\"fill:#bfbf00;stroke:#bfbf00;\" x=\"340.370701\" xlink:href=\"#m7c27243653\" y=\"379.978489\"/>\n     <use style=\"fill:#bfbf00;stroke:#bfbf00;\" x=\"280.00736\" xlink:href=\"#m7c27243653\" y=\"392.102712\"/>\n     <use style=\"fill:#bfbf00;stroke:#bfbf00;\" x=\"307.443654\" xlink:href=\"#m7c27243653\" y=\"336.028183\"/>\n     <use style=\"fill:#bfbf00;stroke:#bfbf00;\" x=\"199.521212\" xlink:href=\"#m7c27243653\" y=\"322.388433\"/>\n     <use style=\"fill:#bfbf00;stroke:#bfbf00;\" x=\"206.837557\" xlink:href=\"#m7c27243653\" y=\"287.531294\"/>\n     <use style=\"fill:#bfbf00;stroke:#bfbf00;\" x=\"263.545583\" xlink:href=\"#m7c27243653\" y=\"272.376638\"/>\n     <use style=\"fill:#bfbf00;stroke:#bfbf00;\" x=\"161.107224\" xlink:href=\"#m7c27243653\" y=\"273.891958\"/>\n     <use style=\"fill:#bfbf00;stroke:#bfbf00;\" x=\"144.645447\" xlink:href=\"#m7c27243653\" y=\"304.2021\"/>\n     <use style=\"fill:#bfbf00;stroke:#bfbf00;\" x=\"164.768572\" xlink:href=\"#m7c27243653\" y=\"346.636878\"/>\n     <use style=\"fill:#bfbf00;stroke:#bfbf00;\" x=\"124.525498\" xlink:href=\"#m7c27243653\" y=\"276.923014\"/>\n     <use style=\"fill:#bfbf00;stroke:#bfbf00;\" x=\"91.598769\" xlink:href=\"#m7c27243653\" y=\"195.086171\"/>\n     <use style=\"fill:#bfbf00;stroke:#bfbf00;\" x=\"126.354584\" xlink:href=\"#m7c27243653\" y=\"148.10481\"/>\n     <use style=\"fill:#bfbf00;stroke:#bfbf00;\" x=\"166.597658\" xlink:href=\"#m7c27243653\" y=\"157.197976\"/>\n     <use style=\"fill:#bfbf00;stroke:#bfbf00;\" x=\"201.350298\" xlink:href=\"#m7c27243653\" y=\"52.626558\"/>\n     <use style=\"fill:#bfbf00;stroke:#bfbf00;\" x=\"353.17513\" xlink:href=\"#m7c27243653\" y=\"52.626558\"/>\n     <use style=\"fill:#bfbf00;stroke:#bfbf00;\" x=\"556.085073\" xlink:href=\"#m7c27243653\" y=\"266.144315\"/>\n    </g>\n   </g>\n   <g id=\"matplotlib.axis_1\">\n    <g id=\"xtick_1\">\n     <g id=\"line2d_1\">\n      <defs>\n       <path d=\"M 0 0 \nL 0 3.5 \n\" id=\"m05efb06b3e\" style=\"stroke:#000000;stroke-width:0.8;\"/>\n      </defs>\n      <g>\n       <use style=\"stroke:#000000;stroke-width:0.8;\" x=\"117.024974\" xlink:href=\"#m05efb06b3e\" y=\"442.08\"/>\n      </g>\n     </g>\n     <g id=\"text_1\">\n      <!-- −0.75 -->\n      <defs>\n       <path d=\"M 10.59375 35.5 \nL 73.1875 35.5 \nL 73.1875 27.203125 \nL 10.59375 27.203125 \nz\n\" id=\"DejaVuSans-8722\"/>\n       <path d=\"M 31.78125 66.40625 \nQ 24.171875 66.40625 20.328125 58.90625 \nQ 16.5 51.421875 16.5 36.375 \nQ 16.5 21.390625 20.328125 13.890625 \nQ 24.171875 6.390625 31.78125 6.390625 \nQ 39.453125 6.390625 43.28125 13.890625 \nQ 47.125 21.390625 47.125 36.375 \nQ 47.125 51.421875 43.28125 58.90625 \nQ 39.453125 66.40625 31.78125 66.40625 \nz\nM 31.78125 74.21875 \nQ 44.046875 74.21875 50.515625 64.515625 \nQ 56.984375 54.828125 56.984375 36.375 \nQ 56.984375 17.96875 50.515625 8.265625 \nQ 44.046875 -1.421875 31.78125 -1.421875 \nQ 19.53125 -1.421875 13.0625 8.265625 \nQ 6.59375 17.96875 6.59375 36.375 \nQ 6.59375 54.828125 13.0625 64.515625 \nQ 19.53125 74.21875 31.78125 74.21875 \nz\n\" id=\"DejaVuSans-48\"/>\n       <path d=\"M 10.6875 12.40625 \nL 21 12.40625 \nL 21 0 \nL 10.6875 0 \nz\n\" id=\"DejaVuSans-46\"/>\n       <path d=\"M 8.203125 72.90625 \nL 55.078125 72.90625 \nL 55.078125 68.703125 \nL 28.609375 0 \nL 18.3125 0 \nL 43.21875 64.59375 \nL 8.203125 64.59375 \nz\n\" id=\"DejaVuSans-55\"/>\n       <path d=\"M 10.796875 72.90625 \nL 49.515625 72.90625 \nL 49.515625 64.59375 \nL 19.828125 64.59375 \nL 19.828125 46.734375 \nQ 21.96875 47.46875 24.109375 47.828125 \nQ 26.265625 48.1875 28.421875 48.1875 \nQ 40.625 48.1875 47.75 41.5 \nQ 54.890625 34.8125 54.890625 23.390625 \nQ 54.890625 11.625 47.5625 5.09375 \nQ 40.234375 -1.421875 26.90625 -1.421875 \nQ 22.3125 -1.421875 17.546875 -0.640625 \nQ 12.796875 0.140625 7.71875 1.703125 \nL 7.71875 11.625 \nQ 12.109375 9.234375 16.796875 8.0625 \nQ 21.484375 6.890625 26.703125 6.890625 \nQ 35.15625 6.890625 40.078125 11.328125 \nQ 45.015625 15.765625 45.015625 23.390625 \nQ 45.015625 31 40.078125 35.4375 \nQ 35.15625 39.890625 26.703125 39.890625 \nQ 22.75 39.890625 18.8125 39.015625 \nQ 14.890625 38.140625 10.796875 36.28125 \nz\n\" id=\"DejaVuSans-53\"/>\n      </defs>\n      <g transform=\"translate(101.702318 456.678437)scale(0.1 -0.1)\">\n       <use xlink:href=\"#DejaVuSans-8722\"/>\n       <use x=\"83.789062\" xlink:href=\"#DejaVuSans-48\"/>\n       <use x=\"147.412109\" xlink:href=\"#DejaVuSans-46\"/>\n       <use x=\"179.199219\" xlink:href=\"#DejaVuSans-55\"/>\n       <use x=\"242.822266\" xlink:href=\"#DejaVuSans-53\"/>\n      </g>\n     </g>\n    </g>\n    <g id=\"xtick_2\">\n     <g id=\"line2d_2\">\n      <g>\n       <use style=\"stroke:#000000;stroke-width:0.8;\" x=\"196.4124\" xlink:href=\"#m05efb06b3e\" y=\"442.08\"/>\n      </g>\n     </g>\n     <g id=\"text_2\">\n      <!-- −0.50 -->\n      <g transform=\"translate(181.089744 456.678437)scale(0.1 -0.1)\">\n       <use xlink:href=\"#DejaVuSans-8722\"/>\n       <use x=\"83.789062\" xlink:href=\"#DejaVuSans-48\"/>\n       <use x=\"147.412109\" xlink:href=\"#DejaVuSans-46\"/>\n       <use x=\"179.199219\" xlink:href=\"#DejaVuSans-53\"/>\n       <use x=\"242.822266\" xlink:href=\"#DejaVuSans-48\"/>\n      </g>\n     </g>\n    </g>\n    <g id=\"xtick_3\">\n     <g id=\"line2d_3\">\n      <g>\n       <use style=\"stroke:#000000;stroke-width:0.8;\" x=\"275.799826\" xlink:href=\"#m05efb06b3e\" y=\"442.08\"/>\n      </g>\n     </g>\n     <g id=\"text_3\">\n      <!-- −0.25 -->\n      <defs>\n       <path d=\"M 19.1875 8.296875 \nL 53.609375 8.296875 \nL 53.609375 0 \nL 7.328125 0 \nL 7.328125 8.296875 \nQ 12.9375 14.109375 22.625 23.890625 \nQ 32.328125 33.6875 34.8125 36.53125 \nQ 39.546875 41.84375 41.421875 45.53125 \nQ 43.3125 49.21875 43.3125 52.78125 \nQ 43.3125 58.59375 39.234375 62.25 \nQ 35.15625 65.921875 28.609375 65.921875 \nQ 23.96875 65.921875 18.8125 64.3125 \nQ 13.671875 62.703125 7.8125 59.421875 \nL 7.8125 69.390625 \nQ 13.765625 71.78125 18.9375 73 \nQ 24.125 74.21875 28.421875 74.21875 \nQ 39.75 74.21875 46.484375 68.546875 \nQ 53.21875 62.890625 53.21875 53.421875 \nQ 53.21875 48.921875 51.53125 44.890625 \nQ 49.859375 40.875 45.40625 35.40625 \nQ 44.1875 33.984375 37.640625 27.21875 \nQ 31.109375 20.453125 19.1875 8.296875 \nz\n\" id=\"DejaVuSans-50\"/>\n      </defs>\n      <g transform=\"translate(260.47717 456.678437)scale(0.1 -0.1)\">\n       <use xlink:href=\"#DejaVuSans-8722\"/>\n       <use x=\"83.789062\" xlink:href=\"#DejaVuSans-48\"/>\n       <use x=\"147.412109\" xlink:href=\"#DejaVuSans-46\"/>\n       <use x=\"179.199219\" xlink:href=\"#DejaVuSans-50\"/>\n       <use x=\"242.822266\" xlink:href=\"#DejaVuSans-53\"/>\n      </g>\n     </g>\n    </g>\n    <g id=\"xtick_4\">\n     <g id=\"line2d_4\">\n      <g>\n       <use style=\"stroke:#000000;stroke-width:0.8;\" x=\"355.187252\" xlink:href=\"#m05efb06b3e\" y=\"442.08\"/>\n      </g>\n     </g>\n     <g id=\"text_4\">\n      <!-- 0.00 -->\n      <g transform=\"translate(344.05444 456.678437)scale(0.1 -0.1)\">\n       <use xlink:href=\"#DejaVuSans-48\"/>\n       <use x=\"63.623047\" xlink:href=\"#DejaVuSans-46\"/>\n       <use x=\"95.410156\" xlink:href=\"#DejaVuSans-48\"/>\n       <use x=\"159.033203\" xlink:href=\"#DejaVuSans-48\"/>\n      </g>\n     </g>\n    </g>\n    <g id=\"xtick_5\">\n     <g id=\"line2d_5\">\n      <g>\n       <use style=\"stroke:#000000;stroke-width:0.8;\" x=\"434.574678\" xlink:href=\"#m05efb06b3e\" y=\"442.08\"/>\n      </g>\n     </g>\n     <g id=\"text_5\">\n      <!-- 0.25 -->\n      <g transform=\"translate(423.441866 456.678437)scale(0.1 -0.1)\">\n       <use xlink:href=\"#DejaVuSans-48\"/>\n       <use x=\"63.623047\" xlink:href=\"#DejaVuSans-46\"/>\n       <use x=\"95.410156\" xlink:href=\"#DejaVuSans-50\"/>\n       <use x=\"159.033203\" xlink:href=\"#DejaVuSans-53\"/>\n      </g>\n     </g>\n    </g>\n    <g id=\"xtick_6\">\n     <g id=\"line2d_6\">\n      <g>\n       <use style=\"stroke:#000000;stroke-width:0.8;\" x=\"513.962105\" xlink:href=\"#m05efb06b3e\" y=\"442.08\"/>\n      </g>\n     </g>\n     <g id=\"text_6\">\n      <!-- 0.50 -->\n      <g transform=\"translate(502.829292 456.678437)scale(0.1 -0.1)\">\n       <use xlink:href=\"#DejaVuSans-48\"/>\n       <use x=\"63.623047\" xlink:href=\"#DejaVuSans-46\"/>\n       <use x=\"95.410156\" xlink:href=\"#DejaVuSans-53\"/>\n       <use x=\"159.033203\" xlink:href=\"#DejaVuSans-48\"/>\n      </g>\n     </g>\n    </g>\n    <g id=\"xtick_7\">\n     <g id=\"line2d_7\">\n      <g>\n       <use style=\"stroke:#000000;stroke-width:0.8;\" x=\"593.349531\" xlink:href=\"#m05efb06b3e\" y=\"442.08\"/>\n      </g>\n     </g>\n     <g id=\"text_7\">\n      <!-- 0.75 -->\n      <g transform=\"translate(582.216718 456.678437)scale(0.1 -0.1)\">\n       <use xlink:href=\"#DejaVuSans-48\"/>\n       <use x=\"63.623047\" xlink:href=\"#DejaVuSans-46\"/>\n       <use x=\"95.410156\" xlink:href=\"#DejaVuSans-55\"/>\n       <use x=\"159.033203\" xlink:href=\"#DejaVuSans-53\"/>\n      </g>\n     </g>\n    </g>\n    <g id=\"xtick_8\">\n     <g id=\"line2d_8\">\n      <g>\n       <use style=\"stroke:#000000;stroke-width:0.8;\" x=\"672.736957\" xlink:href=\"#m05efb06b3e\" y=\"442.08\"/>\n      </g>\n     </g>\n     <g id=\"text_8\">\n      <!-- 1.00 -->\n      <defs>\n       <path d=\"M 12.40625 8.296875 \nL 28.515625 8.296875 \nL 28.515625 63.921875 \nL 10.984375 60.40625 \nL 10.984375 69.390625 \nL 28.421875 72.90625 \nL 38.28125 72.90625 \nL 38.28125 8.296875 \nL 54.390625 8.296875 \nL 54.390625 0 \nL 12.40625 0 \nz\n\" id=\"DejaVuSans-49\"/>\n      </defs>\n      <g transform=\"translate(661.604145 456.678437)scale(0.1 -0.1)\">\n       <use xlink:href=\"#DejaVuSans-49\"/>\n       <use x=\"63.623047\" xlink:href=\"#DejaVuSans-46\"/>\n       <use x=\"95.410156\" xlink:href=\"#DejaVuSans-48\"/>\n       <use x=\"159.033203\" xlink:href=\"#DejaVuSans-48\"/>\n      </g>\n     </g>\n    </g>\n    <g id=\"text_9\">\n     <!-- Feature_1 -->\n     <defs>\n      <path d=\"M 9.8125 72.90625 \nL 51.703125 72.90625 \nL 51.703125 64.59375 \nL 19.671875 64.59375 \nL 19.671875 43.109375 \nL 48.578125 43.109375 \nL 48.578125 34.8125 \nL 19.671875 34.8125 \nL 19.671875 0 \nL 9.8125 0 \nz\n\" id=\"DejaVuSans-70\"/>\n      <path d=\"M 56.203125 29.59375 \nL 56.203125 25.203125 \nL 14.890625 25.203125 \nQ 15.484375 15.921875 20.484375 11.0625 \nQ 25.484375 6.203125 34.421875 6.203125 \nQ 39.59375 6.203125 44.453125 7.46875 \nQ 49.3125 8.734375 54.109375 11.28125 \nL 54.109375 2.78125 \nQ 49.265625 0.734375 44.1875 -0.34375 \nQ 39.109375 -1.421875 33.890625 -1.421875 \nQ 20.796875 -1.421875 13.15625 6.1875 \nQ 5.515625 13.8125 5.515625 26.8125 \nQ 5.515625 40.234375 12.765625 48.109375 \nQ 20.015625 56 32.328125 56 \nQ 43.359375 56 49.78125 48.890625 \nQ 56.203125 41.796875 56.203125 29.59375 \nz\nM 47.21875 32.234375 \nQ 47.125 39.59375 43.09375 43.984375 \nQ 39.0625 48.390625 32.421875 48.390625 \nQ 24.90625 48.390625 20.390625 44.140625 \nQ 15.875 39.890625 15.1875 32.171875 \nz\n\" id=\"DejaVuSans-101\"/>\n      <path d=\"M 34.28125 27.484375 \nQ 23.390625 27.484375 19.1875 25 \nQ 14.984375 22.515625 14.984375 16.5 \nQ 14.984375 11.71875 18.140625 8.90625 \nQ 21.296875 6.109375 26.703125 6.109375 \nQ 34.1875 6.109375 38.703125 11.40625 \nQ 43.21875 16.703125 43.21875 25.484375 \nL 43.21875 27.484375 \nz\nM 52.203125 31.203125 \nL 52.203125 0 \nL 43.21875 0 \nL 43.21875 8.296875 \nQ 40.140625 3.328125 35.546875 0.953125 \nQ 30.953125 -1.421875 24.3125 -1.421875 \nQ 15.921875 -1.421875 10.953125 3.296875 \nQ 6 8.015625 6 15.921875 \nQ 6 25.140625 12.171875 29.828125 \nQ 18.359375 34.515625 30.609375 34.515625 \nL 43.21875 34.515625 \nL 43.21875 35.40625 \nQ 43.21875 41.609375 39.140625 45 \nQ 35.0625 48.390625 27.6875 48.390625 \nQ 23 48.390625 18.546875 47.265625 \nQ 14.109375 46.140625 10.015625 43.890625 \nL 10.015625 52.203125 \nQ 14.9375 54.109375 19.578125 55.046875 \nQ 24.21875 56 28.609375 56 \nQ 40.484375 56 46.34375 49.84375 \nQ 52.203125 43.703125 52.203125 31.203125 \nz\n\" id=\"DejaVuSans-97\"/>\n      <path d=\"M 18.3125 70.21875 \nL 18.3125 54.6875 \nL 36.8125 54.6875 \nL 36.8125 47.703125 \nL 18.3125 47.703125 \nL 18.3125 18.015625 \nQ 18.3125 11.328125 20.140625 9.421875 \nQ 21.96875 7.515625 27.59375 7.515625 \nL 36.8125 7.515625 \nL 36.8125 0 \nL 27.59375 0 \nQ 17.1875 0 13.234375 3.875 \nQ 9.28125 7.765625 9.28125 18.015625 \nL 9.28125 47.703125 \nL 2.6875 47.703125 \nL 2.6875 54.6875 \nL 9.28125 54.6875 \nL 9.28125 70.21875 \nz\n\" id=\"DejaVuSans-116\"/>\n      <path d=\"M 8.5 21.578125 \nL 8.5 54.6875 \nL 17.484375 54.6875 \nL 17.484375 21.921875 \nQ 17.484375 14.15625 20.5 10.265625 \nQ 23.53125 6.390625 29.59375 6.390625 \nQ 36.859375 6.390625 41.078125 11.03125 \nQ 45.3125 15.671875 45.3125 23.6875 \nL 45.3125 54.6875 \nL 54.296875 54.6875 \nL 54.296875 0 \nL 45.3125 0 \nL 45.3125 8.40625 \nQ 42.046875 3.421875 37.71875 1 \nQ 33.40625 -1.421875 27.6875 -1.421875 \nQ 18.265625 -1.421875 13.375 4.4375 \nQ 8.5 10.296875 8.5 21.578125 \nz\nM 31.109375 56 \nz\n\" id=\"DejaVuSans-117\"/>\n      <path d=\"M 41.109375 46.296875 \nQ 39.59375 47.171875 37.8125 47.578125 \nQ 36.03125 48 33.890625 48 \nQ 26.265625 48 22.1875 43.046875 \nQ 18.109375 38.09375 18.109375 28.8125 \nL 18.109375 0 \nL 9.078125 0 \nL 9.078125 54.6875 \nL 18.109375 54.6875 \nL 18.109375 46.1875 \nQ 20.953125 51.171875 25.484375 53.578125 \nQ 30.03125 56 36.53125 56 \nQ 37.453125 56 38.578125 55.875 \nQ 39.703125 55.765625 41.0625 55.515625 \nz\n\" id=\"DejaVuSans-114\"/>\n      <path d=\"M 50.984375 -16.609375 \nL 50.984375 -23.578125 \nL -0.984375 -23.578125 \nL -0.984375 -16.609375 \nz\n\" id=\"DejaVuSans-95\"/>\n     </defs>\n     <g transform=\"translate(368.471875 470.078437)scale(0.1 -0.1)\">\n      <use xlink:href=\"#DejaVuSans-70\"/>\n      <use x=\"57.441406\" xlink:href=\"#DejaVuSans-101\"/>\n      <use x=\"118.964844\" xlink:href=\"#DejaVuSans-97\"/>\n      <use x=\"180.244141\" xlink:href=\"#DejaVuSans-116\"/>\n      <use x=\"219.453125\" xlink:href=\"#DejaVuSans-117\"/>\n      <use x=\"282.832031\" xlink:href=\"#DejaVuSans-114\"/>\n      <use x=\"323.914062\" xlink:href=\"#DejaVuSans-101\"/>\n      <use x=\"385.4375\" xlink:href=\"#DejaVuSans-95\"/>\n      <use x=\"435.4375\" xlink:href=\"#DejaVuSans-49\"/>\n     </g>\n    </g>\n   </g>\n   <g id=\"matplotlib.axis_2\">\n    <g id=\"ytick_1\">\n     <g id=\"line2d_9\">\n      <defs>\n       <path d=\"M 0 0 \nL -3.5 0 \n\" id=\"m66a4704fea\" style=\"stroke:#000000;stroke-width:0.8;\"/>\n      </defs>\n      <g>\n       <use style=\"stroke:#000000;stroke-width:0.8;\" x=\"58.625\" xlink:href=\"#m66a4704fea\" y=\"415.289665\"/>\n      </g>\n     </g>\n     <g id=\"text_10\">\n      <!-- −0.75 -->\n      <g transform=\"translate(20.979687 419.088884)scale(0.1 -0.1)\">\n       <use xlink:href=\"#DejaVuSans-8722\"/>\n       <use x=\"83.789062\" xlink:href=\"#DejaVuSans-48\"/>\n       <use x=\"147.412109\" xlink:href=\"#DejaVuSans-46\"/>\n       <use x=\"179.199219\" xlink:href=\"#DejaVuSans-55\"/>\n       <use x=\"242.822266\" xlink:href=\"#DejaVuSans-53\"/>\n      </g>\n     </g>\n    </g>\n    <g id=\"ytick_2\">\n     <g id=\"line2d_10\">\n      <g>\n       <use style=\"stroke:#000000;stroke-width:0.8;\" x=\"58.625\" xlink:href=\"#m66a4704fea\" y=\"363.459029\"/>\n      </g>\n     </g>\n     <g id=\"text_11\">\n      <!-- −0.50 -->\n      <g transform=\"translate(20.979687 367.258248)scale(0.1 -0.1)\">\n       <use xlink:href=\"#DejaVuSans-8722\"/>\n       <use x=\"83.789062\" xlink:href=\"#DejaVuSans-48\"/>\n       <use x=\"147.412109\" xlink:href=\"#DejaVuSans-46\"/>\n       <use x=\"179.199219\" xlink:href=\"#DejaVuSans-53\"/>\n       <use x=\"242.822266\" xlink:href=\"#DejaVuSans-48\"/>\n      </g>\n     </g>\n    </g>\n    <g id=\"ytick_3\">\n     <g id=\"line2d_11\">\n      <g>\n       <use style=\"stroke:#000000;stroke-width:0.8;\" x=\"58.625\" xlink:href=\"#m66a4704fea\" y=\"311.628393\"/>\n      </g>\n     </g>\n     <g id=\"text_12\">\n      <!-- −0.25 -->\n      <g transform=\"translate(20.979687 315.427612)scale(0.1 -0.1)\">\n       <use xlink:href=\"#DejaVuSans-8722\"/>\n       <use x=\"83.789062\" xlink:href=\"#DejaVuSans-48\"/>\n       <use x=\"147.412109\" xlink:href=\"#DejaVuSans-46\"/>\n       <use x=\"179.199219\" xlink:href=\"#DejaVuSans-50\"/>\n       <use x=\"242.822266\" xlink:href=\"#DejaVuSans-53\"/>\n      </g>\n     </g>\n    </g>\n    <g id=\"ytick_4\">\n     <g id=\"line2d_12\">\n      <g>\n       <use style=\"stroke:#000000;stroke-width:0.8;\" x=\"58.625\" xlink:href=\"#m66a4704fea\" y=\"259.797757\"/>\n      </g>\n     </g>\n     <g id=\"text_13\">\n      <!-- 0.00 -->\n      <g transform=\"translate(29.359375 263.596976)scale(0.1 -0.1)\">\n       <use xlink:href=\"#DejaVuSans-48\"/>\n       <use x=\"63.623047\" xlink:href=\"#DejaVuSans-46\"/>\n       <use x=\"95.410156\" xlink:href=\"#DejaVuSans-48\"/>\n       <use x=\"159.033203\" xlink:href=\"#DejaVuSans-48\"/>\n      </g>\n     </g>\n    </g>\n    <g id=\"ytick_5\">\n     <g id=\"line2d_13\">\n      <g>\n       <use style=\"stroke:#000000;stroke-width:0.8;\" x=\"58.625\" xlink:href=\"#m66a4704fea\" y=\"207.967121\"/>\n      </g>\n     </g>\n     <g id=\"text_14\">\n      <!-- 0.25 -->\n      <g transform=\"translate(29.359375 211.76634)scale(0.1 -0.1)\">\n       <use xlink:href=\"#DejaVuSans-48\"/>\n       <use x=\"63.623047\" xlink:href=\"#DejaVuSans-46\"/>\n       <use x=\"95.410156\" xlink:href=\"#DejaVuSans-50\"/>\n       <use x=\"159.033203\" xlink:href=\"#DejaVuSans-53\"/>\n      </g>\n     </g>\n    </g>\n    <g id=\"ytick_6\">\n     <g id=\"line2d_14\">\n      <g>\n       <use style=\"stroke:#000000;stroke-width:0.8;\" x=\"58.625\" xlink:href=\"#m66a4704fea\" y=\"156.136485\"/>\n      </g>\n     </g>\n     <g id=\"text_15\">\n      <!-- 0.50 -->\n      <g transform=\"translate(29.359375 159.935704)scale(0.1 -0.1)\">\n       <use xlink:href=\"#DejaVuSans-48\"/>\n       <use x=\"63.623047\" xlink:href=\"#DejaVuSans-46\"/>\n       <use x=\"95.410156\" xlink:href=\"#DejaVuSans-53\"/>\n       <use x=\"159.033203\" xlink:href=\"#DejaVuSans-48\"/>\n      </g>\n     </g>\n    </g>\n    <g id=\"ytick_7\">\n     <g id=\"line2d_15\">\n      <g>\n       <use style=\"stroke:#000000;stroke-width:0.8;\" x=\"58.625\" xlink:href=\"#m66a4704fea\" y=\"104.305849\"/>\n      </g>\n     </g>\n     <g id=\"text_16\">\n      <!-- 0.75 -->\n      <g transform=\"translate(29.359375 108.105068)scale(0.1 -0.1)\">\n       <use xlink:href=\"#DejaVuSans-48\"/>\n       <use x=\"63.623047\" xlink:href=\"#DejaVuSans-46\"/>\n       <use x=\"95.410156\" xlink:href=\"#DejaVuSans-55\"/>\n       <use x=\"159.033203\" xlink:href=\"#DejaVuSans-53\"/>\n      </g>\n     </g>\n    </g>\n    <g id=\"ytick_8\">\n     <g id=\"line2d_16\">\n      <g>\n       <use style=\"stroke:#000000;stroke-width:0.8;\" x=\"58.625\" xlink:href=\"#m66a4704fea\" y=\"52.475213\"/>\n      </g>\n     </g>\n     <g id=\"text_17\">\n      <!-- 1.00 -->\n      <g transform=\"translate(29.359375 56.274432)scale(0.1 -0.1)\">\n       <use xlink:href=\"#DejaVuSans-49\"/>\n       <use x=\"63.623047\" xlink:href=\"#DejaVuSans-46\"/>\n       <use x=\"95.410156\" xlink:href=\"#DejaVuSans-48\"/>\n       <use x=\"159.033203\" xlink:href=\"#DejaVuSans-48\"/>\n      </g>\n     </g>\n    </g>\n    <g id=\"text_18\">\n     <!-- Feature_2 -->\n     <g transform=\"translate(14.621875 249.593125)rotate(-90)scale(0.1 -0.1)\">\n      <use xlink:href=\"#DejaVuSans-70\"/>\n      <use x=\"57.441406\" xlink:href=\"#DejaVuSans-101\"/>\n      <use x=\"118.964844\" xlink:href=\"#DejaVuSans-97\"/>\n      <use x=\"180.244141\" xlink:href=\"#DejaVuSans-116\"/>\n      <use x=\"219.453125\" xlink:href=\"#DejaVuSans-117\"/>\n      <use x=\"282.832031\" xlink:href=\"#DejaVuSans-114\"/>\n      <use x=\"323.914062\" xlink:href=\"#DejaVuSans-101\"/>\n      <use x=\"385.4375\" xlink:href=\"#DejaVuSans-95\"/>\n      <use x=\"435.4375\" xlink:href=\"#DejaVuSans-50\"/>\n     </g>\n    </g>\n   </g>\n   <g id=\"patch_3\">\n    <path d=\"M 58.625 442.08 \nL 58.625 7.2 \n\" style=\"fill:none;stroke:#000000;stroke-linecap:square;stroke-linejoin:miter;stroke-width:0.8;\"/>\n   </g>\n   <g id=\"patch_4\">\n    <path d=\"M 728.225 442.08 \nL 728.225 7.2 \n\" style=\"fill:none;stroke:#000000;stroke-linecap:square;stroke-linejoin:miter;stroke-width:0.8;\"/>\n   </g>\n   <g id=\"patch_5\">\n    <path d=\"M 58.625 442.08 \nL 728.225 442.08 \n\" style=\"fill:none;stroke:#000000;stroke-linecap:square;stroke-linejoin:miter;stroke-width:0.8;\"/>\n   </g>\n   <g id=\"patch_6\">\n    <path d=\"M 58.625 7.2 \nL 728.225 7.2 \n\" style=\"fill:none;stroke:#000000;stroke-linecap:square;stroke-linejoin:miter;stroke-width:0.8;\"/>\n   </g>\n   <g id=\"legend_1\">\n    <g id=\"patch_7\">\n     <path d=\"M 622.478125 44.55625 \nL 721.225 44.55625 \nQ 723.225 44.55625 723.225 42.55625 \nL 723.225 14.2 \nQ 723.225 12.2 721.225 12.2 \nL 622.478125 12.2 \nQ 620.478125 12.2 620.478125 14.2 \nL 620.478125 42.55625 \nQ 620.478125 44.55625 622.478125 44.55625 \nz\n\" style=\"fill:#ffffff;opacity:0.8;stroke:#cccccc;stroke-linejoin:miter;\"/>\n    </g>\n    <g id=\"PathCollection_3\">\n     <g>\n      <use style=\"fill:#0000ff;stroke:#0000ff;stroke-width:1.5;\" x=\"634.478125\" xlink:href=\"#m1feae691d9\" y=\"21.173437\"/>\n     </g>\n    </g>\n    <g id=\"text_19\">\n     <!-- Admitted -->\n     <defs>\n      <path d=\"M 34.1875 63.1875 \nL 20.796875 26.90625 \nL 47.609375 26.90625 \nz\nM 28.609375 72.90625 \nL 39.796875 72.90625 \nL 67.578125 0 \nL 57.328125 0 \nL 50.6875 18.703125 \nL 17.828125 18.703125 \nL 11.1875 0 \nL 0.78125 0 \nz\n\" id=\"DejaVuSans-65\"/>\n      <path d=\"M 45.40625 46.390625 \nL 45.40625 75.984375 \nL 54.390625 75.984375 \nL 54.390625 0 \nL 45.40625 0 \nL 45.40625 8.203125 \nQ 42.578125 3.328125 38.25 0.953125 \nQ 33.9375 -1.421875 27.875 -1.421875 \nQ 17.96875 -1.421875 11.734375 6.484375 \nQ 5.515625 14.40625 5.515625 27.296875 \nQ 5.515625 40.1875 11.734375 48.09375 \nQ 17.96875 56 27.875 56 \nQ 33.9375 56 38.25 53.625 \nQ 42.578125 51.265625 45.40625 46.390625 \nz\nM 14.796875 27.296875 \nQ 14.796875 17.390625 18.875 11.75 \nQ 22.953125 6.109375 30.078125 6.109375 \nQ 37.203125 6.109375 41.296875 11.75 \nQ 45.40625 17.390625 45.40625 27.296875 \nQ 45.40625 37.203125 41.296875 42.84375 \nQ 37.203125 48.484375 30.078125 48.484375 \nQ 22.953125 48.484375 18.875 42.84375 \nQ 14.796875 37.203125 14.796875 27.296875 \nz\n\" id=\"DejaVuSans-100\"/>\n      <path d=\"M 52 44.1875 \nQ 55.375 50.25 60.0625 53.125 \nQ 64.75 56 71.09375 56 \nQ 79.640625 56 84.28125 50.015625 \nQ 88.921875 44.046875 88.921875 33.015625 \nL 88.921875 0 \nL 79.890625 0 \nL 79.890625 32.71875 \nQ 79.890625 40.578125 77.09375 44.375 \nQ 74.3125 48.1875 68.609375 48.1875 \nQ 61.625 48.1875 57.5625 43.546875 \nQ 53.515625 38.921875 53.515625 30.90625 \nL 53.515625 0 \nL 44.484375 0 \nL 44.484375 32.71875 \nQ 44.484375 40.625 41.703125 44.40625 \nQ 38.921875 48.1875 33.109375 48.1875 \nQ 26.21875 48.1875 22.15625 43.53125 \nQ 18.109375 38.875 18.109375 30.90625 \nL 18.109375 0 \nL 9.078125 0 \nL 9.078125 54.6875 \nL 18.109375 54.6875 \nL 18.109375 46.1875 \nQ 21.1875 51.21875 25.484375 53.609375 \nQ 29.78125 56 35.6875 56 \nQ 41.65625 56 45.828125 52.96875 \nQ 50 49.953125 52 44.1875 \nz\n\" id=\"DejaVuSans-109\"/>\n      <path d=\"M 9.421875 54.6875 \nL 18.40625 54.6875 \nL 18.40625 0 \nL 9.421875 0 \nz\nM 9.421875 75.984375 \nL 18.40625 75.984375 \nL 18.40625 64.59375 \nL 9.421875 64.59375 \nz\n\" id=\"DejaVuSans-105\"/>\n     </defs>\n     <g transform=\"translate(652.478125 23.798437)scale(0.1 -0.1)\">\n      <use xlink:href=\"#DejaVuSans-65\"/>\n      <use x=\"68.392578\" xlink:href=\"#DejaVuSans-100\"/>\n      <use x=\"131.869141\" xlink:href=\"#DejaVuSans-109\"/>\n      <use x=\"229.28125\" xlink:href=\"#DejaVuSans-105\"/>\n      <use x=\"257.064453\" xlink:href=\"#DejaVuSans-116\"/>\n      <use x=\"296.273438\" xlink:href=\"#DejaVuSans-116\"/>\n      <use x=\"335.482422\" xlink:href=\"#DejaVuSans-101\"/>\n      <use x=\"397.005859\" xlink:href=\"#DejaVuSans-100\"/>\n     </g>\n    </g>\n    <g id=\"PathCollection_4\">\n     <g>\n      <use style=\"fill:#bfbf00;stroke:#bfbf00;\" x=\"634.478125\" xlink:href=\"#m7c27243653\" y=\"35.851562\"/>\n     </g>\n    </g>\n    <g id=\"text_20\">\n     <!-- Not Admitted -->\n     <defs>\n      <path d=\"M 9.8125 72.90625 \nL 23.09375 72.90625 \nL 55.421875 11.921875 \nL 55.421875 72.90625 \nL 64.984375 72.90625 \nL 64.984375 0 \nL 51.703125 0 \nL 19.390625 60.984375 \nL 19.390625 0 \nL 9.8125 0 \nz\n\" id=\"DejaVuSans-78\"/>\n      <path d=\"M 30.609375 48.390625 \nQ 23.390625 48.390625 19.1875 42.75 \nQ 14.984375 37.109375 14.984375 27.296875 \nQ 14.984375 17.484375 19.15625 11.84375 \nQ 23.34375 6.203125 30.609375 6.203125 \nQ 37.796875 6.203125 41.984375 11.859375 \nQ 46.1875 17.53125 46.1875 27.296875 \nQ 46.1875 37.015625 41.984375 42.703125 \nQ 37.796875 48.390625 30.609375 48.390625 \nz\nM 30.609375 56 \nQ 42.328125 56 49.015625 48.375 \nQ 55.71875 40.765625 55.71875 27.296875 \nQ 55.71875 13.875 49.015625 6.21875 \nQ 42.328125 -1.421875 30.609375 -1.421875 \nQ 18.84375 -1.421875 12.171875 6.21875 \nQ 5.515625 13.875 5.515625 27.296875 \nQ 5.515625 40.765625 12.171875 48.375 \nQ 18.84375 56 30.609375 56 \nz\n\" id=\"DejaVuSans-111\"/>\n      <path id=\"DejaVuSans-32\"/>\n     </defs>\n     <g transform=\"translate(652.478125 38.476562)scale(0.1 -0.1)\">\n      <use xlink:href=\"#DejaVuSans-78\"/>\n      <use x=\"74.804688\" xlink:href=\"#DejaVuSans-111\"/>\n      <use x=\"135.986328\" xlink:href=\"#DejaVuSans-116\"/>\n      <use x=\"175.195312\" xlink:href=\"#DejaVuSans-32\"/>\n      <use x=\"206.982422\" xlink:href=\"#DejaVuSans-65\"/>\n      <use x=\"275.375\" xlink:href=\"#DejaVuSans-100\"/>\n      <use x=\"338.851562\" xlink:href=\"#DejaVuSans-109\"/>\n      <use x=\"436.263672\" xlink:href=\"#DejaVuSans-105\"/>\n      <use x=\"464.046875\" xlink:href=\"#DejaVuSans-116\"/>\n      <use x=\"503.255859\" xlink:href=\"#DejaVuSans-116\"/>\n      <use x=\"542.464844\" xlink:href=\"#DejaVuSans-101\"/>\n      <use x=\"603.988281\" xlink:href=\"#DejaVuSans-100\"/>\n     </g>\n    </g>\n   </g>\n  </g>\n </g>\n <defs>\n  <clipPath id=\"pff0c0e3b26\">\n   <rect height=\"434.88\" width=\"669.6\" x=\"58.625\" y=\"7.2\"/>\n  </clipPath>\n </defs>\n</svg>\n",
      "image/png": "[encoded data removed]"
     },
     "metadata": {
      "needs_background": "light"
     }
    }
   ],
   "source": [
    "positive = data2[data2['Admitted'].isin([1])]\n",
    "negative = data2[data2['Admitted'].isin([0])]\n",
    "\n",
    "fig,ax = plt.subplots(figsize = (12,8))\n",
    "ax.scatter(positive['Feature1'],positive['Feature2'],s=50,c='b',marker = '+',label = 'Admitted')\n",
    "ax.scatter(negative['Feature1'],negative['Feature2'],s=50,c='y',marker = 'o',label = 'Not Admitted')\n",
    "ax.legend()\n",
    "ax.set_xlabel('Feature_1')\n",
    "ax.set_ylabel('Feature_2')\n",
    "plt.show()"
   ]
  },
  {
   "cell_type": "code",
   "execution_count": 72,
   "metadata": {},
   "outputs": [
    {
     "output_type": "execute_result",
     "data": {
      "text/plain": "   Admitted  Ones       F10      F01       F20       F11       F02       F30  \\\n0         1     1  0.051267  0.69956  0.002628  0.035864  0.489384  0.000135   \n1         1     1 -0.092742  0.68494  0.008601 -0.063523  0.469143 -0.000798   \n2         1     1 -0.213710  0.69225  0.045672 -0.147941  0.479210 -0.009761   \n3         1     1 -0.375000  0.50219  0.140625 -0.188321  0.252195 -0.052734   \n4         1     1 -0.513250  0.46564  0.263426 -0.238990  0.216821 -0.135203   \n\n        F21       F12  ...       F23       F14       F05           F60  \\\n0  0.001839  0.025089  ...  0.000900  0.012278  0.167542  1.815630e-08   \n1  0.005891 -0.043509  ...  0.002764 -0.020412  0.150752  6.362953e-07   \n2  0.031616 -0.102412  ...  0.015151 -0.049077  0.158970  9.526844e-05   \n3  0.070620 -0.094573  ...  0.017810 -0.023851  0.031940  2.780914e-03   \n4  0.122661 -0.111283  ...  0.026596 -0.024128  0.021890  1.827990e-02   \n\n            F51       F42       F33       F24       F15       F06  \n0  2.477505e-07  0.000003  0.000046  0.000629  0.008589  0.117206  \n1 -4.699318e-06  0.000035 -0.000256  0.001893 -0.013981  0.103256  \n2 -3.085938e-04  0.001000 -0.003238  0.010488 -0.033973  0.110047  \n3 -3.724126e-03  0.004987 -0.006679  0.008944 -0.011978  0.016040  \n4 -1.658422e-02  0.015046 -0.013650  0.012384 -0.011235  0.010193  \n\n[5 rows x 29 columns]",
      "text/html": "<div>\n<style scoped>\n    .dataframe tbody tr th:only-of-type {\n        vertical-align: middle;\n    }\n\n    .dataframe tbody tr th {\n        vertical-align: top;\n    }\n\n    .dataframe thead th {\n        text-align: right;\n    }\n</style>\n<table border=\"1\" class=\"dataframe\">\n  <thead>\n    <tr style=\"text-align: right;\">\n      <th></th>\n      <th>Admitted</th>\n      <th>Ones</th>\n      <th>F10</th>\n      <th>F01</th>\n      <th>F20</th>\n      <th>F11</th>\n      <th>F02</th>\n      <th>F30</th>\n      <th>F21</th>\n      <th>F12</th>\n      <th>...</th>\n      <th>F23</th>\n      <th>F14</th>\n      <th>F05</th>\n      <th>F60</th>\n      <th>F51</th>\n      <th>F42</th>\n      <th>F33</th>\n      <th>F24</th>\n      <th>F15</th>\n      <th>F06</th>\n    </tr>\n  </thead>\n  <tbody>\n    <tr>\n      <th>0</th>\n      <td>1</td>\n      <td>1</td>\n      <td>0.051267</td>\n      <td>0.69956</td>\n      <td>0.002628</td>\n      <td>0.035864</td>\n      <td>0.489384</td>\n      <td>0.000135</td>\n      <td>0.001839</td>\n      <td>0.025089</td>\n      <td>...</td>\n      <td>0.000900</td>\n      <td>0.012278</td>\n      <td>0.167542</td>\n      <td>1.815630e-08</td>\n      <td>2.477505e-07</td>\n      <td>0.000003</td>\n      <td>0.000046</td>\n      <td>0.000629</td>\n      <td>0.008589</td>\n      <td>0.117206</td>\n    </tr>\n    <tr>\n      <th>1</th>\n      <td>1</td>\n      <td>1</td>\n      <td>-0.092742</td>\n      <td>0.68494</td>\n      <td>0.008601</td>\n      <td>-0.063523</td>\n      <td>0.469143</td>\n      <td>-0.000798</td>\n      <td>0.005891</td>\n      <td>-0.043509</td>\n      <td>...</td>\n      <td>0.002764</td>\n      <td>-0.020412</td>\n      <td>0.150752</td>\n      <td>6.362953e-07</td>\n      <td>-4.699318e-06</td>\n      <td>0.000035</td>\n      <td>-0.000256</td>\n      <td>0.001893</td>\n      <td>-0.013981</td>\n      <td>0.103256</td>\n    </tr>\n    <tr>\n      <th>2</th>\n      <td>1</td>\n      <td>1</td>\n      <td>-0.213710</td>\n      <td>0.69225</td>\n      <td>0.045672</td>\n      <td>-0.147941</td>\n      <td>0.479210</td>\n      <td>-0.009761</td>\n      <td>0.031616</td>\n      <td>-0.102412</td>\n      <td>...</td>\n      <td>0.015151</td>\n      <td>-0.049077</td>\n      <td>0.158970</td>\n      <td>9.526844e-05</td>\n      <td>-3.085938e-04</td>\n      <td>0.001000</td>\n      <td>-0.003238</td>\n      <td>0.010488</td>\n      <td>-0.033973</td>\n      <td>0.110047</td>\n    </tr>\n    <tr>\n      <th>3</th>\n      <td>1</td>\n      <td>1</td>\n      <td>-0.375000</td>\n      <td>0.50219</td>\n      <td>0.140625</td>\n      <td>-0.188321</td>\n      <td>0.252195</td>\n      <td>-0.052734</td>\n      <td>0.070620</td>\n      <td>-0.094573</td>\n      <td>...</td>\n      <td>0.017810</td>\n      <td>-0.023851</td>\n      <td>0.031940</td>\n      <td>2.780914e-03</td>\n      <td>-3.724126e-03</td>\n      <td>0.004987</td>\n      <td>-0.006679</td>\n      <td>0.008944</td>\n      <td>-0.011978</td>\n      <td>0.016040</td>\n    </tr>\n    <tr>\n      <th>4</th>\n      <td>1</td>\n      <td>1</td>\n      <td>-0.513250</td>\n      <td>0.46564</td>\n      <td>0.263426</td>\n      <td>-0.238990</td>\n      <td>0.216821</td>\n      <td>-0.135203</td>\n      <td>0.122661</td>\n      <td>-0.111283</td>\n      <td>...</td>\n      <td>0.026596</td>\n      <td>-0.024128</td>\n      <td>0.021890</td>\n      <td>1.827990e-02</td>\n      <td>-1.658422e-02</td>\n      <td>0.015046</td>\n      <td>-0.013650</td>\n      <td>0.012384</td>\n      <td>-0.011235</td>\n      <td>0.010193</td>\n    </tr>\n  </tbody>\n</table>\n<p>5 rows × 29 columns</p>\n</div>"
     },
     "metadata": {},
     "execution_count": 72
    }
   ],
   "source": [
    "degree = 7\n",
    "x1 = data2['Feature1']\n",
    "x2 = data2['Feature2']\n",
    "data2.insert(3,'Ones',1)\n",
    "\n",
    "for i in range(1,degree):\n",
    "    for j in range(0,i+1):\n",
    "        data2['F'+str(i-j)+str(j)] = np.power(x1,i-j) * np.power(x2,j)\n",
    "\n",
    "data2.drop('Feature1', axis = 1, inplace = True)\n",
    "data2.drop('Feature2', axis = 1, inplace = True)\n",
    "\n",
    "data2.head()\n",
    ""
   ]
  },
  {
   "cell_type": "code",
   "execution_count": 73,
   "metadata": {},
   "outputs": [],
   "source": [
    "cols = data2.shape[1]\n",
    "y = data2.iloc[:,0:1]\n",
    "X = data2.iloc[:,1:cols]\n",
    "\n",
    "y_2 = np.array(y.values)\n",
    "X_2 = np.array(X.values)\n",
    "theta2 = np.zeros(cols-1)\n",
    "\n",
    "lamb = 1"
   ]
  },
  {
   "cell_type": "code",
   "execution_count": 74,
   "metadata": {},
   "outputs": [
    {
     "output_type": "execute_result",
     "data": {
      "text/plain": "0.6931471805599454"
     },
     "metadata": {},
     "execution_count": 74
    }
   ],
   "source": [
    "costFunctionReg(X_2,y_2,theta2,lamb)"
   ]
  },
  {
   "cell_type": "code",
   "execution_count": 75,
   "metadata": {},
   "outputs": [
    {
     "output_type": "execute_result",
     "data": {
      "text/plain": "array([8.47457627e-03, 1.87880932e-02, 7.77711864e-05, 5.03446395e-02,\n       1.15013308e-02, 3.76648474e-02, 1.83559872e-02, 7.32393391e-03,\n       8.19244468e-03, 2.34764889e-02, 3.93486234e-02, 2.23923907e-03,\n       1.28600503e-02, 3.09593720e-03, 3.93028171e-02, 1.99707467e-02,\n       4.32983232e-03, 3.38643902e-03, 5.83822078e-03, 4.47629067e-03,\n       3.10079849e-02, 3.10312442e-02, 1.09740238e-03, 6.31570797e-03,\n       4.08503006e-04, 7.26504316e-03, 1.37646175e-03, 3.87936363e-02])"
     },
     "metadata": {},
     "execution_count": 75
    }
   ],
   "source": [
    "regGradientDescent(lamb,theta2,X_2,y_2)"
   ]
  },
  {
   "cell_type": "code",
   "execution_count": 80,
   "metadata": {},
   "outputs": [
    {
     "output_type": "execute_result",
     "data": {
      "text/plain": "(array([ 1.27271026,  0.62529964,  1.18111686, -2.01987399, -0.91743189,\n        -1.43166928,  0.12393227, -0.36553118, -0.35725404, -0.17516291,\n        -1.45817009, -0.05098418, -0.61558554, -0.27469165, -1.19271298,\n        -0.24217841, -0.20603299, -0.04466178, -0.27778951, -0.29539514,\n        -0.45645982, -1.04319155,  0.02779373, -0.2924487 ,  0.0155576 ,\n        -0.32742405, -0.1438915 , -0.92467487]), 32, 1)"
     },
     "metadata": {},
     "execution_count": 80
    }
   ],
   "source": [
    "result = opt.fmin_tnc(func = costFunctionReg, x0 = theta2, fprime = regGradientDescent,args=(X_2,y_2,lamb))\n",
    "result"
   ]
  },
  {
   "cell_type": "code",
   "execution_count": null,
   "metadata": {},
   "outputs": [],
   "source": [
    "theta_min = np.matrix(result2[0])\n",
    "predictions = predict(theta_min, X2)\n",
    "correct = [1 if (a == b ) else 0 for (a, b) in zip(predictions, y2)]\n",
    "accuracy = (sum(map(int, correct)) % len(correct))\n",
    "print ('accuracy = {0}%'.format(accuracy))"
   ]
  }
 ],
 "metadata": {
  "language_info": {
   "name": "python",
   "codemirror_mode": {
    "name": "ipython",
    "version": 3
   },
   "version": "3.6.9-final"
  },
  "orig_nbformat": 2,
  "file_extension": ".py",
  "mimetype": "text/x-python",
  "name": "python",
  "npconvert_exporter": "python",
  "pygments_lexer": "ipython3",
  "version": 3,
  "kernelspec": {
   "name": "python3",
   "display_name": "Python 3"
  }
 },
 "nbformat": 4,
 "nbformat_minor": 2
}