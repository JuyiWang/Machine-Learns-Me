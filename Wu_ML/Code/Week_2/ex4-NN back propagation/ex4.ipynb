{
 "nbformat": 4,
 "nbformat_minor": 2,
 "metadata": {
  "language_info": {
   "name": "python",
   "codemirror_mode": {
    "name": "ipython",
    "version": 3
   },
   "version": "3.6.9-final"
  },
  "orig_nbformat": 2,
  "file_extension": ".py",
  "mimetype": "text/x-python",
  "name": "python",
  "npconvert_exporter": "python",
  "pygments_lexer": "ipython3",
  "version": 3,
  "kernelspec": {
   "name": "python3",
   "display_name": "Python 3"
  }
 },
 "cells": [
  {
   "cell_type": "markdown",
   "metadata": {},
   "source": [
    "# Neural Networks Learning"
   ]
  },
  {
   "cell_type": "code",
   "execution_count": 1,
   "metadata": {},
   "outputs": [],
   "source": [
    "import numpy as np\n",
    "import pandas as pd\n",
    "import scipy.io as scio"
   ]
  },
  {
   "cell_type": "code",
   "execution_count": 2,
   "metadata": {},
   "outputs": [
    {
     "output_type": "execute_result",
     "data": {
      "text/plain": "{'__header__': b'MATLAB 5.0 MAT-file, Platform: GLNXA64, Created on: Sun Oct 16 13:09:09 2011',\n '__version__': '1.0',\n '__globals__': [],\n 'X': array([[0., 0., 0., ..., 0., 0., 0.],\n        [0., 0., 0., ..., 0., 0., 0.],\n        [0., 0., 0., ..., 0., 0., 0.],\n        ...,\n        [0., 0., 0., ..., 0., 0., 0.],\n        [0., 0., 0., ..., 0., 0., 0.],\n        [0., 0., 0., ..., 0., 0., 0.]]),\n 'y': array([[10],\n        [10],\n        [10],\n        ...,\n        [ 9],\n        [ 9],\n        [ 9]], dtype=uint8)}"
     },
     "metadata": {},
     "execution_count": 2
    }
   ],
   "source": [
    "data = scio.loadmat('ex4data1.mat')\n",
    "data"
   ]
  },
  {
   "cell_type": "code",
   "execution_count": 144,
   "metadata": {},
   "outputs": [
    {
     "output_type": "execute_result",
     "data": {
      "text/plain": "((5000, 400), (5000, 1))"
     },
     "metadata": {},
     "execution_count": 144
    }
   ],
   "source": [
    "X = data['X']\n",
    "y = data['y']\n",
    "X.shape,y.shape"
   ]
  },
  {
   "cell_type": "markdown",
   "metadata": {},
   "source": [
    "我们也需要对我们的y标签进行一次one-hot 编码。 one-hot 编码将类标签n（k类）转换为长度为k的向量，其中索引n为“hot”（1），而其余为0。 Scikitlearn有一个内置的实用程序，我们可以使用这个。"
   ]
  },
  {
   "cell_type": "code",
   "execution_count": 6,
   "metadata": {},
   "outputs": [
    {
     "output_type": "execute_result",
     "data": {
      "text/plain": "(array([[0., 0., 0., ..., 0., 0., 1.],\n        [0., 0., 0., ..., 0., 0., 1.],\n        [0., 0., 0., ..., 0., 0., 1.],\n        ...,\n        [0., 0., 0., ..., 0., 1., 0.],\n        [0., 0., 0., ..., 0., 1., 0.],\n        [0., 0., 0., ..., 0., 1., 0.]]), (5000, 10))"
     },
     "metadata": {},
     "execution_count": 6
    }
   ],
   "source": [
    "from sklearn.preprocessing import OneHotEncoder\n",
    "\n",
    "encoder = OneHotEncoder(sparse=False)\n",
    "y_onehot = encoder.fit_transform(y)\n",
    "y_onehot,y_onehot.shape"
   ]
  },
  {
   "cell_type": "code",
   "execution_count": 7,
   "metadata": {},
   "outputs": [],
   "source": [
    "def sigmoidFunc(x):\n",
    "    return 1 / (1 + np.exp(-x))"
   ]
  },
  {
   "cell_type": "markdown",
   "metadata": {},
   "source": [
    "## 前向传播"
   ]
  },
  {
   "cell_type": "code",
   "execution_count": 81,
   "metadata": {},
   "outputs": [],
   "source": [
    "def forwardPropagate(X, theta1, theta2):\n",
    "    rows = X.shape[0]\n",
    "    a1 = np.insert(X, 0, np.ones(rows), axis = 1)\n",
    "    z2 = a1 * theta1.T\n",
    "    a2 = np.insert(sigmoidFunc(z2), 0, np.ones(rows), axis = 1)\n",
    "    z3 = a2 * theta2.T\n",
    "    a3 = sigmoidFunc(z3)\n",
    "\n",
    "    return a1,z2,a2,z3,a3"
   ]
  },
  {
   "cell_type": "markdown",
   "metadata": {},
   "source": [
    "## 代价函数"
   ]
  },
  {
   "cell_type": "code",
   "execution_count": 82,
   "metadata": {},
   "outputs": [],
   "source": [
    "def costFunc(params, input_size, hidden_size, k_nums, X, y):\n",
    "    rows = X.shape[0]\n",
    "    X = np.matrix(X)\n",
    "    y = np.matrix(y)\n",
    "\n",
    "    theta1 = params[:hidden_size * (input_size + 1)]\n",
    "    theta1 = np.matrix(np.reshape(theta1, (hidden_size, input_size + 1)))\n",
    "    theta2 = params[hidden_size * (input_size + 1):]\n",
    "    theta2 = np.matrix(np.reshape(theta2, (k_nums, hidden_size + 1)))\n",
    "\n",
    "    a1,z2,a2,z3,h = forwardPropagate(X, theta1, theta2)\n",
    "\n",
    "    J = 0\n",
    "    for i in range(rows):   # sum i from 1 to m\n",
    "        J += np.sum(np.multiply(-y[i,:], np.log(h[i,:])) - np.multiply(1-y[i,:], np.log(1-h[i,:])))     # sum k from 1 to K\n",
    "    J = J/rows  # div m\n",
    "\n",
    "    return J"
   ]
  },
  {
   "cell_type": "code",
   "execution_count": 136,
   "metadata": {},
   "outputs": [
    {
     "output_type": "execute_result",
     "data": {
      "text/plain": "((5000, 10), (25, 401), (10, 26))"
     },
     "metadata": {},
     "execution_count": 136
    }
   ],
   "source": [
    "input_size = 400\n",
    "hidden_size = 25\n",
    "k_nums = 10\n",
    "lamb = 1\n",
    "\n",
    "params = (np.random.random(size=hidden_size * (input_size + 1) + k_nums * (hidden_size + 1)) - 0.5) * 0.25\n",
    "\n",
    "rows = X.shape[0]\n",
    "X = np.matrix(X)\n",
    "y = np.matrix(y_onehot)\n",
    "\n",
    "theta1 = np.matrix(np.reshape(params[:hidden_size * (input_size + 1)], (hidden_size, input_size + 1)))\n",
    "theta2 = np.matrix(np.reshape(params[hidden_size * (input_size + 1):], (k_nums, hidden_size + 1)))\n",
    "\n",
    "a1,z2,a2,z3,h = forwardPropagate(X, theta1, theta2)\n",
    "\n",
    "h.shape,theta1.shape,theta2.shape"
   ]
  },
  {
   "cell_type": "code",
   "execution_count": 58,
   "metadata": {
    "tags": [
     "outputPrepend",
     "outputPrepend",
     "outputPrepend",
     "outputPrepend",
     "outputPrepend",
     "outputPrepend",
     "outputPrepend",
     "outputPrepend",
     "outputPrepend",
     "outputPrepend",
     "outputPrepend",
     "outputPrepend",
     "outputPrepend",
     "outputPrepend",
     "outputPrepend",
     "outputPrepend",
     "outputPrepend",
     "outputPrepend",
     "outputPrepend",
     "outputPrepend"
    ]
   },
   "outputs": [
    {
     "output_type": "execute_result",
     "data": {
      "text/plain": "7.225827627437019"
     },
     "metadata": {},
     "execution_count": 58
    }
   ],
   "source": [
    "cost = costFunc(params, input_size, hidden_size, k_nums, X, y)\n",
    "cost"
   ]
  },
  {
   "cell_type": "markdown",
   "metadata": {},
   "source": [
    "## 正则化代价函数"
   ]
  },
  {
   "cell_type": "code",
   "execution_count": 84,
   "metadata": {},
   "outputs": [],
   "source": [
    "def costFuncReg(params, input_size, hidden_size, k_nums, X, y, lamb):\n",
    "    rows = X.shape[0]\n",
    "    X = np.matrix(X)\n",
    "    y = np.matrix(y)\n",
    "\n",
    "    theta1 = params[:hidden_size * (input_size + 1)]\n",
    "    theta1 = np.matrix(np.reshape(theta1, (hidden_size, input_size + 1)))\n",
    "    theta2 = params[hidden_size * (input_size + 1):]\n",
    "    theta2 = np.matrix(np.reshape(theta2, (k_nums, hidden_size + 1)))\n",
    "\n",
    "    a1,z2,a2,z3,h = forwardPropagate(X, theta1, theta2)\n",
    "\n",
    "    J = 0\n",
    "    for i in range(rows):   # sum i from 1 to m\n",
    "        J += np.sum(np.multiply(-y[i,:], np.log(h[i,:])) - np.multiply(1-y[i,:], np.log(1-h[i,:])))     # sum k from 1 to K\n",
    "    J = J/rows  # div m):\n",
    "\n",
    "    # theta1[:,1:] 25 * 400 \\ theta2[:,1:] 10 * 25 \\ np.sum 对整个矩阵求和\n",
    "    R = np.sum(np.power(theta1[:,1:],2)) + np.sum(np.power(theta2[:,1:],2))     # sum k from 1 to 400 \\ j from 1 to 25\n",
    "    R = lamb / (2 * rows) * R\n",
    "\n",
    "    cost = J+R\n",
    "    return cost "
   ]
  },
  {
   "cell_type": "code",
   "execution_count": 79,
   "metadata": {},
   "outputs": [
    {
     "output_type": "execute_result",
     "data": {
      "text/plain": "91"
     },
     "metadata": {},
     "execution_count": 79
    }
   ],
   "source": [
    "t = np.matrix(np.array([[1,3,5],[2,4,6]]))\n",
    "a = np.power(t,2)\n",
    "b = np.sum(a)\n",
    "b"
   ]
  },
  {
   "cell_type": "code",
   "execution_count": 85,
   "metadata": {},
   "outputs": [
    {
     "output_type": "execute_result",
     "data": {
      "text/plain": "6.985988849486904"
     },
     "metadata": {},
     "execution_count": 85
    }
   ],
   "source": [
    "cost = costFuncReg(params, input_size, hidden_size, k_nums, X, y, lamb)\n",
    "cost"
   ]
  },
  {
   "cell_type": "markdown",
   "metadata": {},
   "source": [
    "## 反向传播算法"
   ]
  },
  {
   "cell_type": "code",
   "execution_count": 99,
   "metadata": {},
   "outputs": [],
   "source": [
    "def sigmoidGradient(z):\n",
    "    return np.multiply(sigmoidFunc(z), (1 - sigmoidFunc(z))) "
   ]
  },
  {
   "cell_type": "code",
   "execution_count": 118,
   "metadata": {},
   "outputs": [],
   "source": [
    "def backPropagation(params, input_size, hidden_size, k_nums, X, y, lamb):\n",
    "    rows = X.shape[0]\n",
    "    X = np.matrix(X)\n",
    "    y = np.matrix(y)\n",
    "\n",
    "    theta1 = params[:hidden_size * (input_size + 1)]\n",
    "    theta1 = np.matrix(np.reshape(theta1, (hidden_size, input_size + 1)))\n",
    "    theta2 = params[hidden_size * (input_size + 1):]\n",
    "    theta2 = np.matrix(np.reshape(theta2, (k_nums, hidden_size + 1)))\n",
    "\n",
    "    a1,z2,a2,z3,h = forwardPropagate(X, theta1, theta2)\n",
    "\n",
    "    J = 0 \n",
    "    delta1 = np.zeros(theta1.shape)\n",
    "    delta2 = np.zeros(theta2.shape)\n",
    "\n",
    "    for t in range(rows):\n",
    "        a1t = a1[t,:]       # (1,401)\n",
    "        z2t = z2[t,:]       # (1,25)\n",
    "        a2t = a2[t,:]       # (1,26)\n",
    "        ht = h[t,:]\n",
    "        yt = y[t,:]\n",
    "        d3t = ht - yt       # (1,10)\n",
    "        \n",
    "        z2t = np.insert(z2t, 0, values = np.ones(1))        # (1,26)\n",
    "        d2t = np.multiply((theta2.T * d3t.T).T,sigmoidGradient(z2t))        \n",
    "        # theta2 (10,26) d3t (1,10)  theta2.T * d3t.T).T (1,26) d2t (1,26)\n",
    "\n",
    "        delta1 = delta1 + (d2t[:,1:]).T * a1t\n",
    "        delta2 = delta2 + d3t.T * a2t\n",
    "\n",
    "    delta1 = delta1 / rows      # (25,401)\n",
    "    delta2 = delta2 / rows      # (10,26)\n",
    "\n",
    "    delta1[:,1:] = delta1[:,1:] + lamb / rows * (delta1[:,1:])\n",
    "    delta2[:,1:] = delta2[:,1:] + lamb / rows * (delta2[:,1:])\n",
    "\n",
    "    grad = np.concatenate((np.ravel(delta1),np.ravel(delta2)))\n",
    "\n",
    "    return grad"
   ]
  },
  {
   "cell_type": "code",
   "execution_count": 119,
   "metadata": {},
   "outputs": [
    {
     "output_type": "execute_result",
     "data": {
      "text/plain": "((10285,), array([-0.01563594,  0.        ,  0.        , ...,  0.22241588,\n         0.16556693,  0.26344854]))"
     },
     "metadata": {},
     "execution_count": 119
    }
   ],
   "source": [
    "grad = backPropagation(params, input_size, hidden_size, k_nums, X, y, lamb)\n",
    "grad.shape,params.shape"
   ]
  },
  {
   "cell_type": "code",
   "execution_count": 137,
   "metadata": {},
   "outputs": [
    {
     "output_type": "execute_result",
     "data": {
      "text/plain": "     fun: 0.46053137784748743\n     jac: array([-0.0025787 ,  0.        ,  0.        , ...,  0.0004536 ,\n        0.00061774,  0.00103578])\n message: 'Converged (|f_n-f_(n-1)| ~= 0)'\n    nfev: 353\n     nit: 21\n  status: 1\n success: True\n       x: array([ 0.72667445, -0.11096635, -0.00726166, ..., -1.44639989,\n        4.52283045,  0.94603657])"
     },
     "metadata": {},
     "execution_count": 137
    }
   ],
   "source": [
    "from scipy.optimize import minimize\n",
    "fmin = minimize(fun = costFuncReg, x0 = params, args = (input_size, hidden_size, k_nums, X, y, lamb), method='TNC', jac=backPropagation)\n",
    "fmin"
   ]
  },
  {
   "cell_type": "markdown",
   "metadata": {},
   "source": [
    "训练过程和Mr.Huang有些不同，不到99%"
   ]
  },
  {
   "cell_type": "code",
   "execution_count": 151,
   "metadata": {},
   "outputs": [
    {
     "output_type": "stream",
     "name": "stdout",
     "text": "accuracy = 98.74000000000001%\n"
    }
   ],
   "source": [
    "X = np.matrix(X)\n",
    "theta1 = np.matrix(np.reshape(fmin.x[:hidden_size * (input_size + 1)], (hidden_size, (input_size + 1))))\n",
    "theta2 = np.matrix(np.reshape(fmin.x[hidden_size * (input_size + 1):], (k_nums, (hidden_size + 1))))\n",
    "\n",
    "a1, z2, a2, z3, h = forwardPropagate(X, theta1, theta2)\n",
    "y_pred = np.array(np.argmax(h, axis=1) + 1)\n",
    "\n",
    "correct = [1 if a == b else 0 for (a, b) in zip(y_pred, y)]\n",
    "accuracy = (sum(map(int, correct)) / float(len(correct)))\n",
    "print ('accuracy = {0}%'.format(accuracy * 100))"
   ]
  },
  {
   "cell_type": "code",
   "execution_count": null,
   "metadata": {},
   "outputs": [],
   "source": []
  },
  {
   "cell_type": "code",
   "execution_count": null,
   "metadata": {},
   "outputs": [],
   "source": []
  }
 ]
}