{
 "cells": [
  {
   "cell_type": "markdown",
   "metadata": {},
   "source": [
    "# Neural Network"
   ]
  },
  {
   "cell_type": "code",
   "execution_count": 2,
   "metadata": {},
   "outputs": [],
   "source": [
    "import numpy as np\n",
    "import pandas as pd\n",
    "import scipy.io as scio"
   ]
  },
  {
   "cell_type": "code",
   "execution_count": 3,
   "metadata": {},
   "outputs": [
    {
     "output_type": "execute_result",
     "data": {
      "text/plain": "{'__header__': b'MATLAB 5.0 MAT-file, Platform: GLNXA64, Created on: Sun Oct 16 13:09:09 2011',\n '__version__': '1.0',\n '__globals__': [],\n 'X': array([[0., 0., 0., ..., 0., 0., 0.],\n        [0., 0., 0., ..., 0., 0., 0.],\n        [0., 0., 0., ..., 0., 0., 0.],\n        ...,\n        [0., 0., 0., ..., 0., 0., 0.],\n        [0., 0., 0., ..., 0., 0., 0.],\n        [0., 0., 0., ..., 0., 0., 0.]]),\n 'y': array([[10],\n        [10],\n        [10],\n        ...,\n        [ 9],\n        [ 9],\n        [ 9]], dtype=uint8)}"
     },
     "metadata": {},
     "execution_count": 3
    }
   ],
   "source": [
    "data = scio.loadmat('ex3data1.mat')\n",
    "data"
   ]
  },
  {
   "cell_type": "code",
   "execution_count": 84,
   "metadata": {},
   "outputs": [],
   "source": [
    "X = data['X']\n",
    "y = data['y']"
   ]
  },
  {
   "cell_type": "code",
   "execution_count": 19,
   "metadata": {},
   "outputs": [],
   "source": [
    "def sigmoidFunc(x):\n",
    "    z = 1 / (1 + np.exp(-x))\n",
    "    return z"
   ]
  },
  {
   "cell_type": "code",
   "execution_count": 27,
   "metadata": {},
   "outputs": [],
   "source": [
    "def costFunc(theta,X,y):\n",
    "    X = np.matrix(X)\n",
    "    y = np.matrix(y)\n",
    "    theta = np.matrix(theta)\n",
    "\n",
    "    J = np.multiply(-y,np.log(sigmoidFunc(X * theta.T))) - np.multiply((1-y), np.log(1 - sigmoidFunc(X * theta.T)))\n",
    "\n",
    "    cost = np.sum(J) / len(X)\n",
    "    return cost"
   ]
  },
  {
   "cell_type": "code",
   "execution_count": 65,
   "metadata": {},
   "outputs": [],
   "source": [
    "def costFuncReg(theta,X,y,lamb):\n",
    "    theta = np.matrix(theta)\n",
    "    X = np.matrix(X)\n",
    "    y = np.matrix(y)\n",
    "    \n",
    "    J = np.multiply(-y, np.log(sigmoidFunc(X * theta.T))) - np.multiply(1-y, np.log(1 - sigmoidFunc(X * theta.T)))\n",
    "    R = lamb / (len(X) * 2) * np.sum(np.power(theta[:, 1:theta.shape[1]], 2))\n",
    "\n",
    "    cost = np.sum(J)/len(X) + R\n",
    "    return cost"
   ]
  },
  {
   "cell_type": "code",
   "execution_count": 29,
   "metadata": {},
   "outputs": [],
   "source": [
    "def loopGradientDescent(theta,X,y,lamb):\n",
    "    X = np.matrix(X)\n",
    "    y = np.matrix(y)\n",
    "    theta = np.matrix(theta)\n",
    "\n",
    "    parameters = int(theta.ravel().shape[1])\n",
    "    grad = np.zeros(parameters)\n",
    "\n",
    "    error = sigmoidFunc(X * theta.T) - y\n",
    "\n",
    "    for j in range(parameters):\n",
    "        term = np.multiply(error, X[:,j])\n",
    "        if j == 0:\n",
    "            grad[j] = np.sum(term)/len(X)\n",
    "        else:\n",
    "            grad[j] = (np.sum(term) / len(X)) + (lamb / len(X)) * theta[:,j]\n",
    "    return grad"
   ]
  },
  {
   "cell_type": "code",
   "execution_count": 50,
   "metadata": {},
   "outputs": [],
   "source": [
    "def gradientDescent(theta,X,y,lamb):\n",
    "    X = np.matrix(X)\n",
    "    y = np.matrix(y)\n",
    "\n",
    "    theta = np.matrix(theta)\n",
    "\n",
    "    error = sigmoidFunc(X * theta.T) - y\n",
    "\n",
    "    grad =  ((X.T * error) / len(X)).T + (lamb / len(X)) * theta\n",
    "    grad[0,0] = np.sum(np.multiply(error, X[:,0])) / len(X)\n",
    "\n",
    "    return np.array(grad).ravel()"
   ]
  },
  {
   "cell_type": "code",
   "execution_count": 71,
   "metadata": {},
   "outputs": [],
   "source": [
    "from scipy.optimize import minimize\n",
    "\n",
    "def oneVsAll(X,y,k_nums,lamb):\n",
    "    rows = X.shape[0]\n",
    "    features = X.shape[1]\n",
    "\n",
    "    parameters = np.zeros((k_nums, features+1))\n",
    "\n",
    "    X = np.insert(X, 0, values = np.ones(rows), axis = 1)\n",
    "\n",
    "    for i in range(1, k_nums+1):\n",
    "        theta = np.zeros(features+1)\n",
    "        y_i = np.array([1 if item == i else 0 for item in y])\n",
    "        y_i = np.reshape(y_i,(rows,1))\n",
    "        \n",
    "        theta_i = minimize(fun=costFuncReg, x0=theta, args=(X, y_i, lamb), method='TNC', jac=gradientDescent)\n",
    "\n",
    "        parameters[i-1,:] = theta_i.x\n",
    "    return parameters"
   ]
  },
  {
   "cell_type": "code",
   "execution_count": 78,
   "metadata": {},
   "outputs": [],
   "source": [
    "def predictAll(X,parameters):\n",
    "    rows = X.shape[0]\n",
    "    features = X.shape[1]\n",
    "    k_nums = parameters.shape[0]\n",
    "\n",
    "    X = np.insert(X, 0, values = np.ones(rows), axis = 1)\n",
    "    theta = np.matrix(parameters)\n",
    "\n",
    "    a = sigmoidFunc(X * theta.T)\n",
    "    out = np.argmax(a, axis = 1)\n",
    "    return out"
   ]
  },
  {
   "cell_type": "code",
   "execution_count": 76,
   "metadata": {},
   "outputs": [
    {
     "output_type": "execute_result",
     "data": {
      "text/plain": "array([[-4.29071517e+00, -2.24312238e-02,  0.00000000e+00, ...,\n         1.63869050e-02, -1.56160749e-12,  0.00000000e+00],\n       [-4.70758625e+00, -4.60171322e-02,  0.00000000e+00, ...,\n         9.91064290e-02, -5.19164526e-03,  0.00000000e+00],\n       [-7.10248566e+00, -2.86020206e-02,  0.00000000e+00, ...,\n        -1.76555125e-05, -1.68290820e-08,  0.00000000e+00],\n       ...,\n       [-1.01939780e+01, -1.30686656e-01,  0.00000000e+00, ...,\n        -5.71690820e-03,  6.60325036e-04,  0.00000000e+00],\n       [-6.75038923e+00, -9.86252408e-02,  0.00000000e+00, ...,\n        -2.22479316e-02,  1.25931747e-03,  0.00000000e+00],\n       [-1.32933641e+01, -5.77002255e-02,  0.00000000e+00, ...,\n        -4.26986342e-05,  3.00124699e-09,  0.00000000e+00]])"
     },
     "metadata": {},
     "execution_count": 76
    }
   ],
   "source": [
    "k_nums = 10\n",
    "lamb = 0.01\n",
    "para = oneVsAll(X, y, k_nums,lamb)\n",
    "# para计算量很大，运行很慢\n",
    "para"
   ]
  },
  {
   "cell_type": "code",
   "execution_count": 83,
   "metadata": {},
   "outputs": [
    {
     "output_type": "execute_result",
     "data": {
      "text/plain": "0.9734"
     },
     "metadata": {},
     "execution_count": 83
    }
   ],
   "source": [
    "y_pre = predictAll(X,para)\n",
    "\n",
    "# pra的索引位为0~9，label为1~10.因此a+1 == b ?\n",
    "precision = [1 if a+1 == b else 0 for (a,b) in zip(y_pre,y)]\n",
    "accuary = sum((map(int,precision))) / float(len(precision))\n",
    "accuary"
   ]
  },
  {
   "cell_type": "code",
   "execution_count": null,
   "metadata": {},
   "outputs": [],
   "source": []
  }
 ],
 "metadata": {
  "language_info": {
   "name": "python",
   "codemirror_mode": {
    "name": "ipython",
    "version": 3
   },
   "version": "3.6.9-final"
  },
  "orig_nbformat": 2,
  "file_extension": ".py",
  "mimetype": "text/x-python",
  "name": "python",
  "npconvert_exporter": "python",
  "pygments_lexer": "ipython3",
  "version": 3,
  "kernelspec": {
   "name": "python3",
   "display_name": "Python 3"
  }
 },
 "nbformat": 4,
 "nbformat_minor": 2
}