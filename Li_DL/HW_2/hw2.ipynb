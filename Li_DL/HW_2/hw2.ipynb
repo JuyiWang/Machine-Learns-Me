{
 "cells": [
  {
   "cell_type": "markdown",
   "metadata": {},
   "source": [
    "# Machine Learning HW2"
   ]
  },
  {
   "cell_type": "markdown",
   "metadata": {},
   "source": [
    "## Read Training Set"
   ]
  },
  {
   "cell_type": "code",
   "execution_count": 1,
   "metadata": {},
   "outputs": [],
   "source": [
    "import numpy as np\n",
    "import pandas as pd"
   ]
  },
  {
   "cell_type": "code",
   "execution_count": 2,
   "metadata": {
    "tags": [
     "outputPrepend",
     "outputPrepend",
     "outputPrepend",
     "outputPrepend",
     "outputPrepend",
     "outputPrepend",
     "outputPrepend",
     "outputPrepend",
     "outputPrepend",
     "outputPrepend",
     "outputPrepend",
     "outputPrepend",
     "outputPrepend",
     "outputPrepend",
     "outputPrepend",
     "outputPrepend",
     "outputPrepend",
     "outputPrepend",
     "outputPrepend",
     "outputPrepend",
     "outputPrepend",
     "outputPrepend",
     "outputPrepend",
     "outputPrepend"
    ]
   },
   "outputs": [],
   "source": [
    "train_file = 'data/X_train'\n",
    "label_file = 'data/Y_train'\n",
    "test_file = 'data/X_test'\n",
    "\n",
    "with open(train_file, 'r') as f:\n",
    "    next(f) # 跳过首行表头\n",
    "    X_train = np.array([line.strip('\\n').split(',')[1:] for line in f], dtype = float)\n",
    "with open(label_file, 'r') as f:\n",
    "    next(f)\n",
    "    Y_train = np.array([line.strip('\\n').split(',')[1] for line in f], dtype = float)\n",
    "with open(test_file, 'r') as f:\n",
    "    next(f)\n",
    "    X_test = np.array([line.strip('\\n').split(',')[1:] for line in f], dtype = float)"
   ]
  },
  {
   "cell_type": "markdown",
   "metadata": {},
   "source": [
    "### Normalization"
   ]
  },
  {
   "cell_type": "code",
   "execution_count": 3,
   "metadata": {},
   "outputs": [],
   "source": [
    "def normalize(X, train = True, normal_column = None):\n",
    "    # This function normalize specific colunms of X\n",
    "    # \n",
    "    # Arguments:\n",
    "    #     X: data to be processed\n",
    "    #     train: Boolean,'True' when processing traning data,'False' when not\n",
    "    #     normal_column: indexes of the colunms that will be normalized.If 'None' when all of colunms will be normalized\n",
    "    # Outputs:\n",
    "    #     X: nomarlized data\n",
    "    #     X_mean: computed mean value of training data\n",
    "    #     X_std: computed standard deviation of training data\n",
    "\n",
    "    if not normal_column:\n",
    "        normal_column = np.arange(X.shape[1])\n",
    "    if train:\n",
    "        X_mean = np.mean(X[:,normal_column], axis = 0).reshape(1, -1)\n",
    "        X_std = np.std(X[:,normal_column], axis = 0).reshape(1, -1)\n",
    "    X[:,normal_column] = (X[:,normal_column] - X_mean) / X_std\n",
    "    return X, X_mean, X_std"
   ]
  },
  {
   "cell_type": "markdown",
   "metadata": {},
   "source": [
    "### Shuffle"
   ]
  },
  {
   "cell_type": "code",
   "execution_count": 4,
   "metadata": {},
   "outputs": [],
   "source": [
    "def shuffle(X, Y):\n",
    "    # This function shuffles two equal-length list/array, X and Y, together.\n",
    "\n",
    "    randomize = np.arange(len(X))\n",
    "    np.random.shuffle(randomize)\n",
    "    return X[randomize], Y[randomize]"
   ]
  },
  {
   "cell_type": "markdown",
   "metadata": {},
   "source": [
    "### Diveid train and val"
   ]
  },
  {
   "cell_type": "code",
   "execution_count": 5,
   "metadata": {},
   "outputs": [],
   "source": [
    "def train_dev_divide(X, Y, div_ratio = 0.2):\n",
    "    # This function normalize specific colunms of X\n",
    "\n",
    "    train_size = int(len(X) * (1 - div_ratio))\n",
    "    return X[:train_size], Y[:train_size], X[train_size:], Y[train_size:]"
   ]
  },
  {
   "cell_type": "markdown",
   "metadata": {},
   "source": [
    "### Data preprocessing"
   ]
  },
  {
   "cell_type": "code",
   "execution_count": 6,
   "metadata": {},
   "outputs": [],
   "source": [
    "X, Y = shuffle(X_train, Y_train)\n",
    "X, _, _ = normalize(X)\n",
    "train_X, train_y, val_X, val_y = train_dev_divide(X, Y)"
   ]
  },
  {
   "cell_type": "code",
   "execution_count": 7,
   "metadata": {},
   "outputs": [
    {
     "output_type": "stream",
     "name": "stdout",
     "text": "(43404, 510)\n"
    }
   ],
   "source": [
    "train_size = train_X.shape[0]\n",
    "val_size = val_X.shape[0]\n",
    "params_size = train_X.shape[1]\n",
    "print(train_X.shape)"
   ]
  },
  {
   "cell_type": "markdown",
   "metadata": {},
   "source": [
    "## Training\n",
    "**Logistic Regression & Adam**"
   ]
  },
  {
   "cell_type": "markdown",
   "metadata": {},
   "source": [
    "### Sigmoid function"
   ]
  },
  {
   "cell_type": "code",
   "execution_count": 8,
   "metadata": {},
   "outputs": [],
   "source": [
    "def sigmoid_func(z):\n",
    "    # Sigmoid function can be used to calculate probability.\n",
    "    # To avoid overflow, minimum/maximum output value is set.\n",
    "    return 1 / (1 + np.exp(-z))"
   ]
  },
  {
   "cell_type": "markdown",
   "metadata": {},
   "source": [
    "### Adam"
   ]
  },
  {
   "cell_type": "code",
   "execution_count": null,
   "metadata": {},
   "outputs": [],
   "source": [
    "params = int(params_size + 1)\n",
    "w = np.zeros([params,1])\n",
    "X = np.concatenate((np.ones([train_size,1]), train_X), axis = 1)\n",
    "\n",
    "# Initialize the parameters of the adam\n",
    "print(\"Initialize successfully \")\n",
    "iteration = 10\n",
    "learning_rate = 0.001\n",
    "s = np.empty([params,1])\n",
    "r = np.empty([params,1])\n",
    "p_1 = 0.9\n",
    "p_2 = 0.999\n",
    "eps = 1e-8\n",
    "print(\"Train processing begin ... \")\n",
    "for i in range(iteration):\n",
    "    loss = np.sum(np.power(sigmoid_func(np.dot(X, w)) - train_y, 2), axis = 1)\n",
    "    print(loss)"
   ]
  },
  {
   "cell_type": "code",
   "execution_count": null,
   "metadata": {},
   "outputs": [],
   "source": []
  }
 ],
 "metadata": {
  "language_info": {
   "codemirror_mode": {
    "name": "ipython",
    "version": 3
   },
   "file_extension": ".py",
   "mimetype": "text/x-python",
   "name": "python",
   "nbconvert_exporter": "python",
   "pygments_lexer": "ipython3",
   "version": "3.6.9-final"
  },
  "orig_nbformat": 2,
  "kernelspec": {
   "name": "python3",
   "display_name": "Python 3"
  }
 },
 "nbformat": 4,
 "nbformat_minor": 2
}