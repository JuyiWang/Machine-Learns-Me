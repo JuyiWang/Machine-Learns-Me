{
 "cells": [
  {
   "cell_type": "markdown",
   "metadata": {},
   "source": [
    "# Machine Learning HW.4"
   ]
  },
  {
   "cell_type": "markdown",
   "metadata": {},
   "source": [
    "## Recurrent Neural Network - Glove"
   ]
  },
  {
   "cell_type": "code",
   "execution_count": 1,
   "metadata": {},
   "outputs": [],
   "source": [
    "import os\n",
    "import torch\n",
    "import numpy as np\n",
    "import pandas as pd\n",
    "import torch.nn as nn\n",
    "import torch.nn.functional as F\n",
    "import torch.optim as optimz\n",
    "from torch.utils.data import Dataset,DataLoader\n",
    "from sklearn.model_selection import train_test_split"
   ]
  },
  {
   "cell_type": "code",
   "execution_count": 2,
   "metadata": {},
   "outputs": [],
   "source": [
    "# Load the data\n",
    "def load_training_data(path):\n",
    "    if 'training_label' in path:\n",
    "        with open(path, 'r', encoding = 'utf-8') as f:\n",
    "            lines = f.readlines()\n",
    "            lines = [line.strip('\\n').split() for line in lines]\n",
    "        X = [line[2:] for line in lines]\n",
    "        Y = [int(line[0]) for line in lines]\n",
    "        return X,Y\n",
    "    else:\n",
    "        with open(path, 'r', encoding = 'utf-8') as f:\n",
    "            lines = f.readlines()\n",
    "            lines = [line.strip('\\n').split() for line in lines]\n",
    "        X = lines\n",
    "        return X\n",
    "\n",
    "def load_testing_data(path):\n",
    "    with open(path, 'r', encoding = 'utf-8') as f:\n",
    "        lines = f.readlines()\n",
    "        seq = [''.join(line.strip('\\n').split(',')[1:]).strip() for line in lines]\n",
    "    X = [line.split() for line in seq]\n",
    "    return X     "
   ]
  },
  {
   "cell_type": "code",
   "execution_count": 3,
   "metadata": {},
   "outputs": [],
   "source": [
    "class data_processing():\n",
    "    \n",
    "    def __init__(self, embed_dim = 100, seq_len = 128):\n",
    "        self.idx = 1\n",
    "        self.embed_dim = embed_dim\n",
    "        self.seq_len = seq_len\n",
    "        self.word2idx = {}\n",
    "        self.word2vec = {}\n",
    "        self.embedding_matrix = []\n",
    "        \n",
    "    # load the pre-trained Glove embedding vocab\n",
    "    def load_embedding_vocab(self, path):\n",
    "        with open(path, 'r', encoding = 'utf-8', errors = 'ignore') as f:\n",
    "            for line in f:\n",
    "                tokens = line.split()\n",
    "                self.word2vec[tokens[0]] = np.asarray(tokens[1:], dtype = 'float32')\n",
    "                \n",
    "    # add <PAD> - index 0 and <UNK> - index len+1\n",
    "    def add_embedding(self):\n",
    "        self.word2idx['<PAD>'] = 0\n",
    "        vector = torch.empty(1, self.embed_dim)\n",
    "        self.embedding_matrix = torch.cat([vector, self.embedding_matrix], 0)\n",
    "        self.word2idx['<UNK>'] = self.idx\n",
    "        self.idx += 1\n",
    "        vector = torch.empty(1, self.embed_dim)\n",
    "        torch.nn.init.uniform_(vector)\n",
    "        self.embedding_matrix = torch.cat([self.embedding_matrix, vector], 0)\n",
    "    \n",
    "    # bulid the embedding matrix for RNN\n",
    "    def build_embedding_matrix(self, path):\n",
    "        self.load_embedding_vocab(path)\n",
    "        for word in self.word2vec:\n",
    "            self.word2idx[word] = self.idx\n",
    "            self.embedding_matrix.append(self.word2vec[word])\n",
    "            self.idx += 1\n",
    "        self.embedding_matrix = torch.tensor(np.asarray(self.embedding_matrix), dtype = torch.float)\n",
    "        self.add_embedding()\n",
    "        assert self.embedding_matrix.shape[0] == self.idx \n",
    "        return self.embedding_matrix\n",
    "    \n",
    "    # turn the input sequence to the index of vocab and pad the input sequence to the max length\n",
    "    def seq_to_index(self, sequence):\n",
    "        seq = [self.word2idx[word] if word in self.word2idx else self.word2idx['<UNK>'] for word in sequence]\n",
    "        seq = seq[:self.seq_len]\n",
    "        x = (np.ones(self.seq_len) * 0).astype('int64')\n",
    "        x[:len(seq)] = seq\n",
    "        return x     "
   ]
  },
  {
   "cell_type": "code",
   "execution_count": 4,
   "metadata": {},
   "outputs": [],
   "source": [
    "class TextDataset():\n",
    "\n",
    "    def __init__(self, process, X, y = None):\n",
    "        self.X, self.Y = [],[]\n",
    "        for item in X:\n",
    "            self.X.append(process.seq_to_index(item))\n",
    "        if y is not None:\n",
    "            self.Y = torch.LongTensor(y)\n",
    "            assert len(self.X) == len(self.Y)\n",
    "        else:\n",
    "            self.Y = y \n",
    "    \n",
    "    def __len__(self):\n",
    "        return len(self.X)\n",
    "\n",
    "    def __getitem__(self,index):\n",
    "        return self.X[index],self.Y[index] if self.Y is not None else self.X[index]"
   ]
  },
  {
   "cell_type": "code",
   "execution_count": 6,
   "metadata": {},
   "outputs": [],
   "source": [
    "class RNN(nn.Module):\n",
    "    \n",
    "    def __init__(self,embed_matrix, embed_grade = False, hidden_dim = 128, num_layers = 1, bidirectional = False, dropout = 0.5):\n",
    "        super(RNN,self).__init__()\n",
    "        self.embedding = nn.Embedding.from_pretrained(embed_matrix)\n",
    "        self.embed_dim = embed_matrix.shape[1]\n",
    "        self.rnn = nn.LSTM(self.embed_dim, hidden_dim, num_layers = num_layers, batch_first = True, bidirectional = bidirectional)\n",
    "        self.func = nn.Sequential(\n",
    "            nn.Dropout(dropout),\n",
    "            nn.Linear(hidden_dim,2 * hidden_dim),\n",
    "            nn.Linear(2 * hidden_dim, hidden_dim),\n",
    "            nn.Linear(hidden_dim, 2),\n",
    "            nn.Sigmoid()\n",
    "        )\n",
    "\n",
    "    def forward(self,x):\n",
    "        tokens = self.embedding(x)\n",
    "        x_len = torch.sum(x != 0, dim = -1)\n",
    "        x_pack,x_unsort = self.squeeze_embedding(tokens,x_len)\n",
    "        out,(h_t,c_t) = self.rnn(x_pack)\n",
    "\n",
    "        h_t = torch.transpose(h_t, 0, 1)[x_unsort]\n",
    "        h_t = torch.transpose(h_t, 0, 1)\n",
    "        out = self.func(h_t)\n",
    "        return out.reshape((h_t.shape[1],2))\n",
    "\n",
    "    def squeeze_embedding(self,tokens,x_len):\n",
    "        x_sort = torch.sort(-x_len)[1].long()\n",
    "        x_unsort = torch.sort(x_sort)[1].long()\n",
    "        x_len = x_len[x_sort]\n",
    "        tokens = tokens[x_sort]\n",
    "        tokens_pack = nn.utils.rnn.pack_padded_sequence(tokens, x_len, batch_first = True)\n",
    "        return tokens_pack, x_unsort"
   ]
  },
  {
   "cell_type": "code",
   "execution_count": 7,
   "metadata": {},
   "outputs": [],
   "source": [
    "def evaluation(pre, label):\n",
    "    acc = np.sum(np.argmax(pre.cpu().data.numpy(), axis = 1) == label.numpy())\n",
    "    return acc"
   ]
  },
  {
   "cell_type": "code",
   "execution_count": 8,
   "metadata": {},
   "outputs": [],
   "source": [
    "def train(model, train, valid, batch_size, epoch_num, lr, device):\n",
    "    print('Begin to train.')\n",
    "    optimizer = optimz.Adam(model.parameters(), lr = lr)\n",
    "    criterion = nn.CrossEntropyLoss()\n",
    "    best_acc = 0\n",
    "    train_len,val_len = len(train) * batch_size, len(valid)\n",
    "    for epoch in range(epoch_num):\n",
    "        # train\n",
    "        model.train()\n",
    "        train_acc, train_loss = 0,0\n",
    "        for idx, (data, label) in enumerate(train):\n",
    "            train_pre = model(data.to(device))\n",
    "            loss = criterion(train_pre, label.to(device))\n",
    "            loss.backward()\n",
    "            optimizer.step()\n",
    "            train_loss += loss.item()\n",
    "            train_acc += evaluation(train_pre, label)\n",
    "        # validation\n",
    "        model.eval()\n",
    "        with torch.no_grad():\n",
    "            val_acc, val_loss = 0,0\n",
    "            for idx, (data, label) in enumerate(valid):\n",
    "                val_pre = model(data.to(device))\n",
    "                loss = criterion(val_pre, label.to(device))\n",
    "                val_loss += loss.item()\n",
    "                val_acc += evaluation(val_pre, label)\n",
    "\n",
    "        print('Epoch[%02d|%02d] | Train loss is : %.5f | Train acc is : %.3f | Valid loss is : %.5f | Valid acc is : %.3f '% \\\n",
    "            (epoch+1, epoch_num,train_loss / train_len , train_acc / train_len, val_loss / val_len, val_acc / val_len / batch_size))\n",
    "\n",
    "        if val_acc/val_len > best_acc:\n",
    "            best_acc = val_acc/val_len\n",
    "            print('***** The best accuracy in validation set is %.3f'%(val_acc / val_len / batch_size))"
   ]
  },
  {
   "cell_type": "code",
   "execution_count": 9,
   "metadata": {},
   "outputs": [],
   "source": [
    "def biu():\n",
    "    file_path = 'ml2020spring-hw4'\n",
    "    label_path = 'training_label.txt'\n",
    "    nolabel_path = 'training_nolabel.txt'\n",
    "    test_path = 'testing_data.txt'\n",
    "\n",
    "    train_label_data, train_label = load_training_data(os.path.join(file_path, label_path))\n",
    "    train_nolabel_data = load_training_data(os.path.join(file_path, nolabel_path))\n",
    "    test_data = load_testing_data(os.path.join(file_path, test_path))\n",
    "\n",
    "    data = train_label_data + train_nolabel_data + test_data\n",
    "    print('Data load successfully.')\n",
    "\n",
    "    device = 'cuda' if torch.cuda.is_available() else 'cpu'\n",
    "    lr = 1e-6\n",
    "    batch_size = 32\n",
    "    max_seq_len = 32\n",
    "    embed_dim = 100\n",
    "    epoch_num = 10\n",
    "    print(f'Super parameters set successfully, device is {device}.')\n",
    "\n",
    "    data_pro = data_processing(embed_dim = embed_dim, seq_len = max_seq_len)\n",
    "    embedding = data_pro.build_embedding_matrix('glove.6B.100d.txt')\n",
    "    print('Embedding matrix build successfully.')\n",
    "\n",
    "    train_X, val_X, train_y, val_y = train_test_split(train_label_data, train_label, train_size = 0.8)\n",
    "    train_set = TextDataset(data_pro, train_X, train_y)\n",
    "    valid_set = TextDataset(data_pro, val_X, val_y)\n",
    "    train_loader = DataLoader(train_set, batch_size = batch_size, shuffle = True)\n",
    "    valid_loader = DataLoader(valid_set, batch_size = batch_size, shuffle = True)\n",
    "    print('Data Loader build successfully.')\n",
    "\n",
    "    model = RNN(embedding).to(device)\n",
    "    print('RNN model initialize successfully.')\n",
    "    \n",
    "    train(model, train_loader, valid_loader, batch_size, epoch_num, lr, device)"
   ]
  },
  {
   "cell_type": "code",
   "execution_count": 10,
   "metadata": {},
   "outputs": [
    {
     "name": "stdout",
     "output_type": "stream",
     "text": [
      "Data load successfully.\n",
      "Super parameters set successfully, device is cpu.\n",
      "Embedding matrix build successfully.\n"
     ]
    },
    {
     "name": "stderr",
     "output_type": "stream",
     "text": [
      "/Users/Juyi/anaconda3/envs/deeplearing/lib/python3.6/site-packages/sklearn/model_selection/_split.py:2179: FutureWarning: From version 0.21, test_size will always complement train_size unless both are specified.\n",
      "  FutureWarning)\n"
     ]
    },
    {
     "name": "stdout",
     "output_type": "stream",
     "text": [
      "Data Loader build successfully.\n",
      "RNN model initialize successfully.\n",
      "Begin to train.\n",
      "Epoch[01|10] | Train loss is : 0.02144 | Train acc is : 0.568 | Valid loss is : 0.66950 | Valid acc is : 0.613 \n",
      "***** The best accuracy in validation set is 0.613\n",
      "Epoch[02|10] | Train loss is : 0.01995 | Train acc is : 0.648 | Valid loss is : 0.61716 | Valid acc is : 0.676 \n",
      "***** The best accuracy in validation set is 0.676\n",
      "Epoch[03|10] | Train loss is : 0.01885 | Train acc is : 0.689 | Valid loss is : 0.59131 | Valid acc is : 0.703 \n",
      "***** The best accuracy in validation set is 0.703\n",
      "Epoch[04|10] | Train loss is : 0.01842 | Train acc is : 0.706 | Valid loss is : 0.58994 | Valid acc is : 0.707 \n",
      "***** The best accuracy in validation set is 0.707\n",
      "Epoch[05|10] | Train loss is : 0.01826 | Train acc is : 0.714 | Valid loss is : 0.58198 | Valid acc is : 0.717 \n",
      "***** The best accuracy in validation set is 0.717\n",
      "Epoch[06|10] | Train loss is : 0.01810 | Train acc is : 0.721 | Valid loss is : 0.57597 | Valid acc is : 0.724 \n",
      "***** The best accuracy in validation set is 0.724\n",
      "Epoch[07|10] | Train loss is : 0.01803 | Train acc is : 0.724 | Valid loss is : 0.57235 | Valid acc is : 0.729 \n",
      "***** The best accuracy in validation set is 0.729\n",
      "Epoch[08|10] | Train loss is : 0.01784 | Train acc is : 0.729 | Valid loss is : 0.56678 | Valid acc is : 0.733 \n",
      "***** The best accuracy in validation set is 0.733\n",
      "Epoch[09|10] | Train loss is : 0.01768 | Train acc is : 0.733 | Valid loss is : 0.56337 | Valid acc is : 0.737 \n",
      "***** The best accuracy in validation set is 0.737\n",
      "Epoch[10|10] | Train loss is : 0.01750 | Train acc is : 0.739 | Valid loss is : 0.55689 | Valid acc is : 0.742 \n",
      "***** The best accuracy in validation set is 0.742\n"
     ]
    }
   ],
   "source": [
    "biu()"
   ]
  },
  {
   "cell_type": "code",
   "execution_count": null,
   "metadata": {},
   "outputs": [],
   "source": []
  },
  {
   "cell_type": "code",
   "execution_count": null,
   "metadata": {},
   "outputs": [],
   "source": []
  }
 ],
 "metadata": {
  "kernelspec": {
   "display_name": "Python 3",
   "language": "python",
   "name": "python3"
  },
  "language_info": {
   "codemirror_mode": {
    "name": "ipython",
    "version": 3
   },
   "file_extension": ".py",
   "mimetype": "text/x-python",
   "name": "python",
   "nbconvert_exporter": "python",
   "pygments_lexer": "ipython3",
   "version": "3.6.9"
  }
 },
 "nbformat": 4,
 "nbformat_minor": 2
}
