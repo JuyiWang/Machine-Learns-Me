{
 "cells": [
  {
   "cell_type": "markdown",
   "metadata": {},
   "source": [
    "# Machine Learning HW.3 "
   ]
  },
  {
   "cell_type": "markdown",
   "metadata": {},
   "source": [
    "# CNN-Classification"
   ]
  },
  {
   "cell_type": "markdown",
   "metadata": {},
   "source": [
    "Dataset: https://www.kaggle.com/c/ml2020spring-hw3/data"
   ]
  },
  {
   "cell_type": "code",
   "execution_count": 49,
   "metadata": {},
   "outputs": [],
   "source": [
    "import os\n",
    "import cv2\n",
    "import numpy as np\n",
    "import pandas as pd\n",
    "import torch\n",
    "import torch.nn as nn\n",
    "import torch.nn.functional as F"
   ]
  },
  {
   "cell_type": "code",
   "execution_count": 55,
   "metadata": {},
   "outputs": [],
   "source": [
    "def read_photo(path,label = False):\n",
    "    path_list = os.listdir(path)\n",
    "    x = np.zeros([len(path_list), 128, 128, 3])\n",
    "    y = np.zeros([len(path_list), 1])\n",
    "    for i,f in enumerate(path_list):\n",
    "        img = cv2.imread(os.path.join(path, f))\n",
    "        x[i,:,:] = cv2.resize(img, (128, 128))\n",
    "        if label:\n",
    "            y[i,:] = int(f.split('_')[0])\n",
    "    if label:\n",
    "        return x, y\n",
    "    else:\n",
    "        return x"
   ]
  },
  {
   "cell_type": "code",
   "execution_count": 56,
   "metadata": {
    "tags": [
     "outputPrepend",
     "outputPrepend",
     "outputPrepend",
     "outputPrepend",
     "outputPrepend",
     "outputPrepend",
     "outputPrepend",
     "outputPrepend",
     "outputPrepend",
     "outputPrepend",
     "outputPrepend"
    ]
   },
   "outputs": [],
   "source": [
    "path = '/Users/Juyi/Desktop/Code/Data/food-11'\n",
    "train_data, train_label = read_photo(os.path.join(path, 'training'), True)\n",
    "val_data, val_label = read_photo(os.path.join(path, 'validation'), True)\n",
    "testing_data = read_photo(os.path.join(path, 'testing'))"
   ]
  },
  {
   "cell_type": "code",
   "execution_count": 57,
   "metadata": {},
   "outputs": [
    {
     "output_type": "stream",
     "name": "stdout",
     "text": "(9866, 128, 128, 3) (9866, 1)\n(3430, 128, 128, 3) (3430, 1)\n(3110, 128, 128, 3)\n"
    }
   ],
   "source": [
    "print(train_data.shape,train_label.shape)\n",
    "print(val_data.shape,val_label.shape)\n",
    "print(testing_data.shape)"
   ]
  },
  {
   "cell_type": "code",
   "execution_count": null,
   "metadata": {},
   "outputs": [],
   "source": []
  }
 ],
 "metadata": {
  "language_info": {
   "codemirror_mode": {
    "name": "ipython",
    "version": 3
   },
   "file_extension": ".py",
   "mimetype": "text/x-python",
   "name": "python",
   "nbconvert_exporter": "python",
   "pygments_lexer": "ipython3",
   "version": "3.6.9-final"
  },
  "orig_nbformat": 2,
  "kernelspec": {
   "name": "python3",
   "display_name": "Python 3"
  }
 },
 "nbformat": 4,
 "nbformat_minor": 2
}