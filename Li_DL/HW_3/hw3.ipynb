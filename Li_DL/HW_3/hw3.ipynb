{
 "cells": [
  {
   "cell_type": "markdown",
   "metadata": {},
   "source": [
    "# Machine Learning HW.3 "
   ]
  },
  {
   "cell_type": "markdown",
   "metadata": {},
   "source": [
    "# CNN-Classification"
   ]
  },
  {
   "cell_type": "markdown",
   "metadata": {},
   "source": [
    "Dataset: https://www.kaggle.com/c/ml2020spring-hw3/data"
   ]
  },
  {
   "cell_type": "code",
   "execution_count": 16,
   "metadata": {},
   "outputs": [],
   "source": [
    "import os\n",
    "import cv2\n",
    "import numpy as np\n",
    "import pandas as pd\n",
    "import torch\n",
    "import torch.nn as nn\n",
    "import torch.nn.functional as F\n",
    "import torch.optim as optimz\n",
    "import torchvision.transforms as transforms\n",
    "from torch.utils.data import DataLoader,Dataset"
   ]
  },
  {
   "cell_type": "code",
   "execution_count": 2,
   "metadata": {},
   "outputs": [],
   "source": [
    "def read_photo(path,label = False):\n",
    "    path_list = os.listdir(path)\n",
    "    x = np.zeros([len(path_list), 128, 128, 3])\n",
    "    y = np.zeros([len(path_list), 1])\n",
    "    for i,f in enumerate(path_list):\n",
    "        img = cv2.imread(os.path.join(path, f))\n",
    "        x[i,:,:] = cv2.resize(img, (128, 128))\n",
    "        if label:\n",
    "            y[i,:] = int(f.split('_')[0])\n",
    "    if label:\n",
    "        return x, y\n",
    "    else:\n",
    "        return x"
   ]
  },
  {
   "cell_type": "code",
   "execution_count": 6,
   "metadata": {
    "tags": [
     "outputPrepend",
     "outputPrepend",
     "outputPrepend",
     "outputPrepend",
     "outputPrepend",
     "outputPrepend",
     "outputPrepend",
     "outputPrepend",
     "outputPrepend",
     "outputPrepend",
     "outputPrepend"
    ]
   },
   "outputs": [],
   "source": [
    "path = '/Users/Juyi/Desktop/Code/Data/food-11'\n",
    "train_data, train_label = read_photo(os.path.join(path, 'training'), True)\n",
    "val_data, val_label = read_photo(os.path.join(path, 'validation'), True)\n",
    "test_data = read_photo(os.path.join(path, 'testing'))"
   ]
  },
  {
   "cell_type": "code",
   "execution_count": 4,
   "metadata": {},
   "outputs": [
    {
     "output_type": "stream",
     "name": "stdout",
     "text": "(9866, 128, 128, 3) (9866, 1)\n(3430, 128, 128, 3) (3430, 1)\n(3110, 128, 128, 3)\n"
    }
   ],
   "source": [
    "print(train_data.shape,train_label.shape)\n",
    "print(val_data.shape,val_label.shape)\n",
    "print(test_data.shape)"
   ]
  },
  {
   "cell_type": "code",
   "execution_count": 5,
   "metadata": {},
   "outputs": [],
   "source": [
    "train_transforms = transforms.Compose([transforms.ToPILImage(), transforms.RandomHorizontalFlip(), \n",
    "        transforms.RandomRotation(15), transforms.ToTensor()])\n",
    "test_transforms = transforms.Compose([transforms.ToPILImage(), transforms.ToTensor()])\n",
    "\n",
    "class ImgData(Dataset):\n",
    "    def __init__(self, x, y = None, transforms = None):\n",
    "        self.x = x\n",
    "        self.y = y\n",
    "        if y is not None:\n",
    "            self.y = torch.LongTensor(y)\n",
    "        self.transforms = transforms\n",
    "\n",
    "    def __getitem__(self, index):\n",
    "        X = self.x[index]\n",
    "        if self.transforms is not None:\n",
    "            X = self.transforms(X)\n",
    "        if self.y is not None:\n",
    "            Y = self.y[index]\n",
    "            return X,Y\n",
    "        else:\n",
    "            return Y\n",
    "\n",
    "    def __len__(self):\n",
    "        return len(self.x)"
   ]
  },
  {
   "cell_type": "code",
   "execution_count": 7,
   "metadata": {},
   "outputs": [],
   "source": [
    "batch_size = 128\n",
    "train_set = ImgData(train_data, train_label, train_transforms)\n",
    "val_set = ImgData(val_data, val_label, test_transforms)\n",
    "test_set = ImgData(test_data)\n",
    "\n",
    "train_loader = DataLoader(train_set, batch_size = batch_size, shuffle = True)\n",
    "val_loader = DataLoader(val_set, batch_size = batch_size, shuffle = False)\n",
    "test_loader = DataLoader(test_set, batch_size = 128, shuffle = False)"
   ]
  },
  {
   "cell_type": "code",
   "execution_count": 13,
   "metadata": {},
   "outputs": [],
   "source": [
    "class Cnn(nn.Module):\n",
    "    def __init__(self):\n",
    "        super(Cnn, self).__init__()\n",
    "        self.cnn = nn.Sequential(\n",
    "            nn.Conv2d(3, 64, 3, 1, 1),      # [64, 128, 128]\n",
    "            nn.BatchNorm2d(64),\n",
    "            nn.ReLU(),\n",
    "            nn.MaxPool2d(2, 2),             # [64, 64, 64]\n",
    "\n",
    "            nn.Conv2d(64, 128, 3, 1, 1),    # [128, 64, 64]\n",
    "            nn.BatchNorm2d(128),\n",
    "            nn.ReLU(),\n",
    "            nn.MaxPool2d(2, 2),             # [128, 32, 32]\n",
    "\n",
    "            nn.Conv2d(128, 256, 3, 1, 1),   # [256, 32, 32]\n",
    "            nn.BatchNorm2d(256),\n",
    "            nn.ReLU(),\n",
    "            nn.MaxPool2d(2, 2),             # [256, 16, 16]\n",
    "\n",
    "            nn.MaxPool2d(256, 512, 3, 1, 1),# [512, 16, 16]\n",
    "            nn.BatchNorm2d(512),\n",
    "            nn.ReLU(),\n",
    "            nn.MaxPool2d(2, 2),             # [512, 8, 8]\n",
    "\n",
    "            nn.MaxPool2d(512, 512, 3, 1, 1),# [512, 8,8]\n",
    "            nn.BatchNorm2d(512),\n",
    "            nn.ReLU(),\n",
    "            nn.MaxPool2d(2, 2)              # [512, 4, 4]\n",
    "        )\n",
    "        \n",
    "        self.func = nn.Sequential(\n",
    "            nn.Linear(512 * 8 * 8, 1024),    # [1024]\n",
    "            nn.ReLU(),\n",
    "            nn.Linear(1024, 512),            # [512]\n",
    "            nn.ReLU(),\n",
    "            nn.Linear(512, 11)               # [11]\n",
    "        )\n",
    "    \n",
    "    def forward(self, x):\n",
    "        cnn_out = self.cnn(x)\n",
    "        cnn_out = cnn_out.view(cnn_out.size()[0], -1)   #flattn\n",
    "        func_out = self.func(cnn_out)\n",
    "        return func_out"
   ]
  },
  {
   "cell_type": "code",
   "execution_count": 17,
   "metadata": {},
   "outputs": [
    {
     "output_type": "error",
     "ename": "AttributeError",
     "evalue": "module 'torch.optim' has no attribute 'adam'",
     "traceback": [
      "\u001b[0;31m---------------------------------------------------------------------------\u001b[0m",
      "\u001b[0;31mAttributeError\u001b[0m                            Traceback (most recent call last)",
      "\u001b[0;32m<ipython-input-17-74e92792f086>\u001b[0m in \u001b[0;36m<module>\u001b[0;34m\u001b[0m\n\u001b[1;32m      1\u001b[0m \u001b[0mdevice\u001b[0m \u001b[0;34m=\u001b[0m \u001b[0;34m'cuda'\u001b[0m \u001b[0;32mif\u001b[0m \u001b[0mtorch\u001b[0m\u001b[0;34m.\u001b[0m\u001b[0mcuda\u001b[0m\u001b[0;34m.\u001b[0m\u001b[0mis_available\u001b[0m\u001b[0;34m(\u001b[0m\u001b[0;34m)\u001b[0m \u001b[0;32melse\u001b[0m \u001b[0;34m'cpu'\u001b[0m\u001b[0;34m\u001b[0m\u001b[0;34m\u001b[0m\u001b[0m\n\u001b[1;32m      2\u001b[0m \u001b[0mcnn\u001b[0m \u001b[0;34m=\u001b[0m \u001b[0mCnn\u001b[0m\u001b[0;34m(\u001b[0m\u001b[0;34m)\u001b[0m\u001b[0;34m.\u001b[0m\u001b[0mto\u001b[0m\u001b[0;34m(\u001b[0m\u001b[0mdevice\u001b[0m\u001b[0;34m)\u001b[0m\u001b[0;34m\u001b[0m\u001b[0;34m\u001b[0m\u001b[0m\n\u001b[0;32m----> 3\u001b[0;31m \u001b[0moptimzer\u001b[0m \u001b[0;34m=\u001b[0m \u001b[0moptimz\u001b[0m\u001b[0;34m.\u001b[0m\u001b[0madam\u001b[0m\u001b[0;34m(\u001b[0m\u001b[0mcnn\u001b[0m\u001b[0;34m.\u001b[0m\u001b[0mparameters\u001b[0m\u001b[0;34m(\u001b[0m\u001b[0;34m)\u001b[0m\u001b[0;34m,\u001b[0m \u001b[0mlr\u001b[0m \u001b[0;34m=\u001b[0m \u001b[0;36m0.001\u001b[0m\u001b[0;34m)\u001b[0m\u001b[0;34m\u001b[0m\u001b[0;34m\u001b[0m\u001b[0m\n\u001b[0m\u001b[1;32m      4\u001b[0m \u001b[0mcritization\u001b[0m \u001b[0;34m=\u001b[0m \u001b[0mnn\u001b[0m\u001b[0;34m.\u001b[0m\u001b[0mCrossEntropyLoss\u001b[0m\u001b[0;34m(\u001b[0m\u001b[0;34m)\u001b[0m\u001b[0;34m\u001b[0m\u001b[0;34m\u001b[0m\u001b[0m\n\u001b[1;32m      5\u001b[0m \u001b[0mepoch_num\u001b[0m \u001b[0;34m=\u001b[0m \u001b[0;36m2\u001b[0m\u001b[0;34m\u001b[0m\u001b[0;34m\u001b[0m\u001b[0m\n",
      "\u001b[0;31mAttributeError\u001b[0m: module 'torch.optim' has no attribute 'adam'"
     ]
    }
   ],
   "source": [
    "device = 'cuda' if torch.cuda.is_available() else 'cpu'\n",
    "cnn = Cnn().to(device)\n",
    "optimzer = optimz.Adam(cnn.parameters(), lr = 0.001)\n",
    "critization = nn.CrossEntropyLoss()\n",
    "epoch_num = 2\n",
    "for epoch in range(epoch_num):\n",
    "    train_loss = 0\n",
    "    val_loss = 0\n",
    "    train_acc = 0\n",
    "    val_acc = 0\n",
    "    cnn.train()\n",
    "    for i,data in enumerate(train_loader):\n",
    "        optimzer.zero_grad()\n",
    "        cnn_out = cnn(data[0].to(device))\n",
    "        batch_loss = critization(cnn_out, data[1].to(device))\n",
    "        batch_loss.backward()\n",
    "        optimzer.step()\n",
    "        break"
   ]
  },
  {
   "cell_type": "code",
   "execution_count": null,
   "metadata": {},
   "outputs": [],
   "source": []
  }
 ],
 "metadata": {
  "language_info": {
   "codemirror_mode": {
    "name": "ipython",
    "version": 3
   },
   "file_extension": ".py",
   "mimetype": "text/x-python",
   "name": "python",
   "nbconvert_exporter": "python",
   "pygments_lexer": "ipython3",
   "version": "3.6.9-final"
  },
  "orig_nbformat": 2,
  "kernelspec": {
   "name": "python3",
   "display_name": "Python 3"
  }
 },
 "nbformat": 4,
 "nbformat_minor": 2
}