{
 "cells": [
  {
   "cell_type": "markdown",
   "metadata": {},
   "source": [
    "# Machine Learning HW1"
   ]
  },
  {
   "cell_type": "markdown",
   "metadata": {},
   "source": [
    "## PM2.5 Prediction"
   ]
  },
  {
   "cell_type": "code",
   "execution_count": 1,
   "metadata": {},
   "outputs": [],
   "source": [
    "import numpy as np\n",
    "import pandas as pd"
   ]
  },
  {
   "cell_type": "code",
   "execution_count": 2,
   "metadata": {},
   "outputs": [
    {
     "output_type": "execute_result",
     "data": {
      "text/plain": "          日期  測站          測項     0     1     2     3     4     5     6  ...  \\\n0   2014/1/1  豐原    AMB_TEMP    14    14    14    13    12    12    12  ...   \n1   2014/1/1  豐原         CH4   1.8   1.8   1.8   1.8   1.8   1.8   1.8  ...   \n2   2014/1/1  豐原          CO  0.51  0.41  0.39  0.37  0.35   0.3  0.37  ...   \n3   2014/1/1  豐原        NMHC   0.2  0.15  0.13  0.12  0.11  0.06   0.1  ...   \n4   2014/1/1  豐原          NO   0.9   0.6   0.5   1.7   1.8   1.5   1.9  ...   \n5   2014/1/1  豐原         NO2    16   9.2   8.2   6.9   6.8   3.8   6.9  ...   \n6   2014/1/1  豐原         NOx    17   9.8   8.7   8.6   8.5   5.3   8.8  ...   \n7   2014/1/1  豐原          O3    16    30    27    23    24    28    24  ...   \n8   2014/1/1  豐原        PM10    56    50    48    35    25    12     4  ...   \n9   2014/1/1  豐原       PM2.5    26    39    36    35    31    28    25  ...   \n10  2014/1/1  豐原    RAINFALL    NR    NR    NR    NR    NR    NR    NR  ...   \n11  2014/1/1  豐原          RH    77    68    67    74    72    73    74  ...   \n12  2014/1/1  豐原         SO2   1.8     2   1.7   1.6   1.9   1.4   1.5  ...   \n13  2014/1/1  豐原         THC     2     2     2   1.9   1.9   1.8   1.9  ...   \n14  2014/1/1  豐原       WD_HR    37    80    57    76   110   106   101  ...   \n15  2014/1/1  豐原  WIND_DIREC    35    79   2.4    55    94   116   106  ...   \n16  2014/1/1  豐原  WIND_SPEED   1.4   1.8     1   0.6   1.7   2.5   2.5  ...   \n17  2014/1/1  豐原       WS_HR   0.5   0.9   0.6   0.3   0.6   1.9     2  ...   \n\n      14    15    16    17    18    19    20    21    22    23  \n0     22    22    21    19    17    16    15    15    15    15  \n1    1.8   1.8   1.8   1.8   1.8   1.8   1.8   1.8   1.8   1.8  \n2   0.37  0.37  0.47  0.69  0.56  0.45  0.38  0.35  0.36  0.32  \n3    0.1  0.13  0.14  0.23  0.18  0.12   0.1  0.09   0.1  0.08  \n4    2.5   2.2   2.5   2.3   2.1   1.9   1.5   1.6   1.8   1.5  \n5     11    11    22    28    19    12   8.1     7   6.9     6  \n6     14    13    25    30    21    13   9.7   8.6   8.7   7.5  \n7     65    64    51    34    33    34    37    38    38    36  \n8     52    51    66    85    85    63    46    36    42    42  \n9     36    45    42    49    45    44    41    30    24    13  \n10    NR    NR    NR    NR    NR    NR    NR    NR    NR    NR  \n11    47    49    56    67    72    69    70    70    70    69  \n12   3.9   4.4   9.9   5.1   3.4   2.3     2   1.9   1.9   1.9  \n13   1.9   1.9   1.9   2.1     2   1.9   1.9   1.9   1.9   1.9  \n14   307   304   307   124   118   121   113   112   106   110  \n15   313   305   291   124   119   118   114   108   102   111  \n16   2.5   2.2   1.4   2.2   2.8     3   2.6   2.7   2.1   2.1  \n17   2.1   2.1   1.9     1   2.5   2.5   2.8   2.6   2.4   2.3  \n\n[18 rows x 27 columns]",
      "text/html": "<div>\n<style scoped>\n    .dataframe tbody tr th:only-of-type {\n        vertical-align: middle;\n    }\n\n    .dataframe tbody tr th {\n        vertical-align: top;\n    }\n\n    .dataframe thead th {\n        text-align: right;\n    }\n</style>\n<table border=\"1\" class=\"dataframe\">\n  <thead>\n    <tr style=\"text-align: right;\">\n      <th></th>\n      <th>日期</th>\n      <th>測站</th>\n      <th>測項</th>\n      <th>0</th>\n      <th>1</th>\n      <th>2</th>\n      <th>3</th>\n      <th>4</th>\n      <th>5</th>\n      <th>6</th>\n      <th>...</th>\n      <th>14</th>\n      <th>15</th>\n      <th>16</th>\n      <th>17</th>\n      <th>18</th>\n      <th>19</th>\n      <th>20</th>\n      <th>21</th>\n      <th>22</th>\n      <th>23</th>\n    </tr>\n  </thead>\n  <tbody>\n    <tr>\n      <th>0</th>\n      <td>2014/1/1</td>\n      <td>豐原</td>\n      <td>AMB_TEMP</td>\n      <td>14</td>\n      <td>14</td>\n      <td>14</td>\n      <td>13</td>\n      <td>12</td>\n      <td>12</td>\n      <td>12</td>\n      <td>...</td>\n      <td>22</td>\n      <td>22</td>\n      <td>21</td>\n      <td>19</td>\n      <td>17</td>\n      <td>16</td>\n      <td>15</td>\n      <td>15</td>\n      <td>15</td>\n      <td>15</td>\n    </tr>\n    <tr>\n      <th>1</th>\n      <td>2014/1/1</td>\n      <td>豐原</td>\n      <td>CH4</td>\n      <td>1.8</td>\n      <td>1.8</td>\n      <td>1.8</td>\n      <td>1.8</td>\n      <td>1.8</td>\n      <td>1.8</td>\n      <td>1.8</td>\n      <td>...</td>\n      <td>1.8</td>\n      <td>1.8</td>\n      <td>1.8</td>\n      <td>1.8</td>\n      <td>1.8</td>\n      <td>1.8</td>\n      <td>1.8</td>\n      <td>1.8</td>\n      <td>1.8</td>\n      <td>1.8</td>\n    </tr>\n    <tr>\n      <th>2</th>\n      <td>2014/1/1</td>\n      <td>豐原</td>\n      <td>CO</td>\n      <td>0.51</td>\n      <td>0.41</td>\n      <td>0.39</td>\n      <td>0.37</td>\n      <td>0.35</td>\n      <td>0.3</td>\n      <td>0.37</td>\n      <td>...</td>\n      <td>0.37</td>\n      <td>0.37</td>\n      <td>0.47</td>\n      <td>0.69</td>\n      <td>0.56</td>\n      <td>0.45</td>\n      <td>0.38</td>\n      <td>0.35</td>\n      <td>0.36</td>\n      <td>0.32</td>\n    </tr>\n    <tr>\n      <th>3</th>\n      <td>2014/1/1</td>\n      <td>豐原</td>\n      <td>NMHC</td>\n      <td>0.2</td>\n      <td>0.15</td>\n      <td>0.13</td>\n      <td>0.12</td>\n      <td>0.11</td>\n      <td>0.06</td>\n      <td>0.1</td>\n      <td>...</td>\n      <td>0.1</td>\n      <td>0.13</td>\n      <td>0.14</td>\n      <td>0.23</td>\n      <td>0.18</td>\n      <td>0.12</td>\n      <td>0.1</td>\n      <td>0.09</td>\n      <td>0.1</td>\n      <td>0.08</td>\n    </tr>\n    <tr>\n      <th>4</th>\n      <td>2014/1/1</td>\n      <td>豐原</td>\n      <td>NO</td>\n      <td>0.9</td>\n      <td>0.6</td>\n      <td>0.5</td>\n      <td>1.7</td>\n      <td>1.8</td>\n      <td>1.5</td>\n      <td>1.9</td>\n      <td>...</td>\n      <td>2.5</td>\n      <td>2.2</td>\n      <td>2.5</td>\n      <td>2.3</td>\n      <td>2.1</td>\n      <td>1.9</td>\n      <td>1.5</td>\n      <td>1.6</td>\n      <td>1.8</td>\n      <td>1.5</td>\n    </tr>\n    <tr>\n      <th>5</th>\n      <td>2014/1/1</td>\n      <td>豐原</td>\n      <td>NO2</td>\n      <td>16</td>\n      <td>9.2</td>\n      <td>8.2</td>\n      <td>6.9</td>\n      <td>6.8</td>\n      <td>3.8</td>\n      <td>6.9</td>\n      <td>...</td>\n      <td>11</td>\n      <td>11</td>\n      <td>22</td>\n      <td>28</td>\n      <td>19</td>\n      <td>12</td>\n      <td>8.1</td>\n      <td>7</td>\n      <td>6.9</td>\n      <td>6</td>\n    </tr>\n    <tr>\n      <th>6</th>\n      <td>2014/1/1</td>\n      <td>豐原</td>\n      <td>NOx</td>\n      <td>17</td>\n      <td>9.8</td>\n      <td>8.7</td>\n      <td>8.6</td>\n      <td>8.5</td>\n      <td>5.3</td>\n      <td>8.8</td>\n      <td>...</td>\n      <td>14</td>\n      <td>13</td>\n      <td>25</td>\n      <td>30</td>\n      <td>21</td>\n      <td>13</td>\n      <td>9.7</td>\n      <td>8.6</td>\n      <td>8.7</td>\n      <td>7.5</td>\n    </tr>\n    <tr>\n      <th>7</th>\n      <td>2014/1/1</td>\n      <td>豐原</td>\n      <td>O3</td>\n      <td>16</td>\n      <td>30</td>\n      <td>27</td>\n      <td>23</td>\n      <td>24</td>\n      <td>28</td>\n      <td>24</td>\n      <td>...</td>\n      <td>65</td>\n      <td>64</td>\n      <td>51</td>\n      <td>34</td>\n      <td>33</td>\n      <td>34</td>\n      <td>37</td>\n      <td>38</td>\n      <td>38</td>\n      <td>36</td>\n    </tr>\n    <tr>\n      <th>8</th>\n      <td>2014/1/1</td>\n      <td>豐原</td>\n      <td>PM10</td>\n      <td>56</td>\n      <td>50</td>\n      <td>48</td>\n      <td>35</td>\n      <td>25</td>\n      <td>12</td>\n      <td>4</td>\n      <td>...</td>\n      <td>52</td>\n      <td>51</td>\n      <td>66</td>\n      <td>85</td>\n      <td>85</td>\n      <td>63</td>\n      <td>46</td>\n      <td>36</td>\n      <td>42</td>\n      <td>42</td>\n    </tr>\n    <tr>\n      <th>9</th>\n      <td>2014/1/1</td>\n      <td>豐原</td>\n      <td>PM2.5</td>\n      <td>26</td>\n      <td>39</td>\n      <td>36</td>\n      <td>35</td>\n      <td>31</td>\n      <td>28</td>\n      <td>25</td>\n      <td>...</td>\n      <td>36</td>\n      <td>45</td>\n      <td>42</td>\n      <td>49</td>\n      <td>45</td>\n      <td>44</td>\n      <td>41</td>\n      <td>30</td>\n      <td>24</td>\n      <td>13</td>\n    </tr>\n    <tr>\n      <th>10</th>\n      <td>2014/1/1</td>\n      <td>豐原</td>\n      <td>RAINFALL</td>\n      <td>NR</td>\n      <td>NR</td>\n      <td>NR</td>\n      <td>NR</td>\n      <td>NR</td>\n      <td>NR</td>\n      <td>NR</td>\n      <td>...</td>\n      <td>NR</td>\n      <td>NR</td>\n      <td>NR</td>\n      <td>NR</td>\n      <td>NR</td>\n      <td>NR</td>\n      <td>NR</td>\n      <td>NR</td>\n      <td>NR</td>\n      <td>NR</td>\n    </tr>\n    <tr>\n      <th>11</th>\n      <td>2014/1/1</td>\n      <td>豐原</td>\n      <td>RH</td>\n      <td>77</td>\n      <td>68</td>\n      <td>67</td>\n      <td>74</td>\n      <td>72</td>\n      <td>73</td>\n      <td>74</td>\n      <td>...</td>\n      <td>47</td>\n      <td>49</td>\n      <td>56</td>\n      <td>67</td>\n      <td>72</td>\n      <td>69</td>\n      <td>70</td>\n      <td>70</td>\n      <td>70</td>\n      <td>69</td>\n    </tr>\n    <tr>\n      <th>12</th>\n      <td>2014/1/1</td>\n      <td>豐原</td>\n      <td>SO2</td>\n      <td>1.8</td>\n      <td>2</td>\n      <td>1.7</td>\n      <td>1.6</td>\n      <td>1.9</td>\n      <td>1.4</td>\n      <td>1.5</td>\n      <td>...</td>\n      <td>3.9</td>\n      <td>4.4</td>\n      <td>9.9</td>\n      <td>5.1</td>\n      <td>3.4</td>\n      <td>2.3</td>\n      <td>2</td>\n      <td>1.9</td>\n      <td>1.9</td>\n      <td>1.9</td>\n    </tr>\n    <tr>\n      <th>13</th>\n      <td>2014/1/1</td>\n      <td>豐原</td>\n      <td>THC</td>\n      <td>2</td>\n      <td>2</td>\n      <td>2</td>\n      <td>1.9</td>\n      <td>1.9</td>\n      <td>1.8</td>\n      <td>1.9</td>\n      <td>...</td>\n      <td>1.9</td>\n      <td>1.9</td>\n      <td>1.9</td>\n      <td>2.1</td>\n      <td>2</td>\n      <td>1.9</td>\n      <td>1.9</td>\n      <td>1.9</td>\n      <td>1.9</td>\n      <td>1.9</td>\n    </tr>\n    <tr>\n      <th>14</th>\n      <td>2014/1/1</td>\n      <td>豐原</td>\n      <td>WD_HR</td>\n      <td>37</td>\n      <td>80</td>\n      <td>57</td>\n      <td>76</td>\n      <td>110</td>\n      <td>106</td>\n      <td>101</td>\n      <td>...</td>\n      <td>307</td>\n      <td>304</td>\n      <td>307</td>\n      <td>124</td>\n      <td>118</td>\n      <td>121</td>\n      <td>113</td>\n      <td>112</td>\n      <td>106</td>\n      <td>110</td>\n    </tr>\n    <tr>\n      <th>15</th>\n      <td>2014/1/1</td>\n      <td>豐原</td>\n      <td>WIND_DIREC</td>\n      <td>35</td>\n      <td>79</td>\n      <td>2.4</td>\n      <td>55</td>\n      <td>94</td>\n      <td>116</td>\n      <td>106</td>\n      <td>...</td>\n      <td>313</td>\n      <td>305</td>\n      <td>291</td>\n      <td>124</td>\n      <td>119</td>\n      <td>118</td>\n      <td>114</td>\n      <td>108</td>\n      <td>102</td>\n      <td>111</td>\n    </tr>\n    <tr>\n      <th>16</th>\n      <td>2014/1/1</td>\n      <td>豐原</td>\n      <td>WIND_SPEED</td>\n      <td>1.4</td>\n      <td>1.8</td>\n      <td>1</td>\n      <td>0.6</td>\n      <td>1.7</td>\n      <td>2.5</td>\n      <td>2.5</td>\n      <td>...</td>\n      <td>2.5</td>\n      <td>2.2</td>\n      <td>1.4</td>\n      <td>2.2</td>\n      <td>2.8</td>\n      <td>3</td>\n      <td>2.6</td>\n      <td>2.7</td>\n      <td>2.1</td>\n      <td>2.1</td>\n    </tr>\n    <tr>\n      <th>17</th>\n      <td>2014/1/1</td>\n      <td>豐原</td>\n      <td>WS_HR</td>\n      <td>0.5</td>\n      <td>0.9</td>\n      <td>0.6</td>\n      <td>0.3</td>\n      <td>0.6</td>\n      <td>1.9</td>\n      <td>2</td>\n      <td>...</td>\n      <td>2.1</td>\n      <td>2.1</td>\n      <td>1.9</td>\n      <td>1</td>\n      <td>2.5</td>\n      <td>2.5</td>\n      <td>2.8</td>\n      <td>2.6</td>\n      <td>2.4</td>\n      <td>2.3</td>\n    </tr>\n  </tbody>\n</table>\n<p>18 rows × 27 columns</p>\n</div>"
     },
     "metadata": {},
     "execution_count": 2
    }
   ],
   "source": [
    "data = pd.read_csv('ml2020spring-hw1/train.csv', encoding = 'big5')\n",
    "data.head(18)"
   ]
  },
  {
   "cell_type": "code",
   "execution_count": 3,
   "metadata": {},
   "outputs": [
    {
     "output_type": "execute_result",
     "data": {
      "text/plain": "(4320, 24)"
     },
     "metadata": {},
     "execution_count": 3
    }
   ],
   "source": [
    "data1 = data.iloc[:,3:]\n",
    "data1[data1 == 'NR'] = 0\n",
    "data1.shape"
   ]
  },
  {
   "cell_type": "code",
   "execution_count": 4,
   "metadata": {},
   "outputs": [],
   "source": [
    "raw_data = data1.to_numpy()"
   ]
  },
  {
   "cell_type": "markdown",
   "metadata": {},
   "source": [
    "### Extract Feature 1\n",
    "\n",
    "将 $ 4320 * 18$ 的数据转为 $12 * 20 * 24 * 18 $ 的数据，12个月，每月20天，每天24小时，每小时18个特征。\n",
    "\n",
    "必须分开12个月计算，每个月的时间不连续。"
   ]
  },
  {
   "cell_type": "code",
   "execution_count": 5,
   "metadata": {},
   "outputs": [],
   "source": [
    "month_data = {}\n",
    "for month in range(12):\n",
    "    sample = np.empty([18, 480])\n",
    "    for day in range(20):\n",
    "        sample[:,day * 24 : (day+1) * 24] = raw_data[18 * (month * 20 + day) : 18 * (month * 20 + day + 1),:]\n",
    "    month_data[month] = sample"
   ]
  },
  {
   "cell_type": "code",
   "execution_count": 6,
   "metadata": {},
   "outputs": [
    {
     "output_type": "execute_result",
     "data": {
      "text/plain": "array([[ 23.  ,  23.  ,  23.  , ...,  13.  ,  13.  ,  13.  ],\n       [  1.6 ,   1.7 ,   1.7 , ...,   1.8 ,   1.8 ,   1.8 ],\n       [  0.22,   0.2 ,   0.18, ...,   0.51,   0.57,   0.56],\n       ...,\n       [ 93.  ,  50.  ,  99.  , ..., 118.  , 100.  , 105.  ],\n       [  1.8 ,   2.1 ,   3.2 , ...,   1.5 ,   2.  ,   2.  ],\n       [  1.3 ,   0.9 ,   1.  , ...,   1.6 ,   1.8 ,   2.  ]])"
     },
     "metadata": {},
     "execution_count": 6
    }
   ],
   "source": [
    "# 每个月数据均为 18 * 480\n",
    "month_data[11]"
   ]
  },
  {
   "cell_type": "markdown",
   "metadata": {},
   "source": [
    "### Extract Feature 2\n",
    "每个月连续时间480小时，每9个小时产生一组data，每月共471组连续数据。"
   ]
  },
  {
   "cell_type": "code",
   "execution_count": 7,
   "metadata": {
    "tags": [
     "outputPrepend",
     "outputPrepend",
     "outputPrepend",
     "outputPrepend",
     "outputPrepend",
     "outputPrepend",
     "outputPrepend",
     "outputPrepend",
     "outputPrepend"
    ]
   },
   "outputs": [
    {
     "output_type": "stream",
     "name": "stdout",
     "text": "(5652, 162)\n(5652, 1)\n"
    }
   ],
   "source": [
    "x_data = np.empty([471 * 12, 18 * 9], dtype = float)\n",
    "y_data = np.empty([471 * 12, 1], dtype = float)\n",
    "for month in range(12):\n",
    "    for day in range(20):\n",
    "        for hour in range(24):\n",
    "            if day == 19 and hour > 14:\n",
    "                continue\n",
    "            x_data[month * 471 + day * 24 + hour,:] = month_data[month][:,day * 24 + hour : day * 24 + hour + 9].reshape(1, -1)\n",
    "            y_data[month * 471 + day * 24 + hour,:] = month_data[month][9,day * 24 + hour + 9]\n",
    "print(x_data.shape)\n",
    "print(y_data.shape)"
   ]
  },
  {
   "cell_type": "markdown",
   "metadata": {},
   "source": [
    "### Normalization"
   ]
  },
  {
   "cell_type": "code",
   "execution_count": 8,
   "metadata": {},
   "outputs": [
    {
     "output_type": "execute_result",
     "data": {
      "text/plain": "((162,), (162,))"
     },
     "metadata": {},
     "execution_count": 8
    }
   ],
   "source": [
    "x_mean = np.mean(x_data, axis = 0)\n",
    "x_std = np.std(x_data, axis = 0)\n",
    "x_mean.shape,x_std.shape"
   ]
  },
  {
   "cell_type": "code",
   "execution_count": 9,
   "metadata": {},
   "outputs": [
    {
     "output_type": "execute_result",
     "data": {
      "text/plain": "array([[-1.35825331, -1.35883937, -1.359222  , ...,  0.26650729,\n         0.2656797 , -1.14082131],\n       [-1.35825331, -1.35883937, -1.51819928, ...,  0.26650729,\n        -1.13963133, -1.32832904],\n       [-1.35825331, -1.51789368, -1.67717656, ..., -1.13923451,\n        -1.32700613, -0.85955971],\n       ...,\n       [-0.88092053, -0.72262212, -0.56433559, ..., -0.57693779,\n        -0.29644471, -0.39079039],\n       [-0.7218096 , -0.56356781, -0.72331287, ..., -0.29578943,\n        -0.39013211, -0.1095288 ],\n       [-0.56269867, -0.72262212, -0.88229015, ..., -0.38950555,\n        -0.10906991,  0.07797893]])"
     },
     "metadata": {},
     "execution_count": 9
    }
   ],
   "source": [
    "for i in range(len(x_data)):\n",
    "    for j in range(len(x_data[i])):\n",
    "        if x_std[j]:\n",
    "            x_data[i][j] = (x_data[i][j] - x_mean[j]) / x_std[j]\n",
    "x_data"
   ]
  },
  {
   "cell_type": "markdown",
   "metadata": {},
   "source": [
    "### Shuffle the set"
   ]
  },
  {
   "cell_type": "code",
   "execution_count": 59,
   "metadata": {},
   "outputs": [],
   "source": [
    "import random\n",
    "index = [i for i in range(len(x_data))]\n",
    "random.shuffle(index)\n",
    "x_data = x_data[index]"
   ]
  },
  {
   "cell_type": "markdown",
   "metadata": {},
   "source": [
    "### Split Validation Set"
   ]
  },
  {
   "cell_type": "code",
   "execution_count": 60,
   "metadata": {},
   "outputs": [],
   "source": [
    "import math\n",
    "x_train, y_train = x_data[:math.floor(len(x_data) * 0.8),:], y_data[:math.floor(len(x_data) * 0.8),:]\n",
    "x_val, y_val = x_data[math.floor(len(x_data) * 0.8):,:], y_data[math.floor(len(x_data) * 0.8):,:]"
   ]
  },
  {
   "cell_type": "markdown",
   "metadata": {},
   "source": [
    "### Linear Regression"
   ]
  },
  {
   "cell_type": "markdown",
   "metadata": {},
   "source": [
    "### Adagrad"
   ]
  },
  {
   "cell_type": "code",
   "execution_count": 63,
   "metadata": {
    "tags": [
     "outputPrepend",
     "outputPrepend",
     "outputPrepend",
     "outputPrepend",
     "outputPrepend",
     "outputPrepend",
     "outputPrepend",
     "outputPrepend",
     "outputPrepend",
     "outputPrepend"
    ]
   },
   "outputs": [
    {
     "output_type": "stream",
     "name": "stdout",
     "text": "No.100 loss is 317789.39911053376\nNo.200 loss is 113778.16286938918\nNo.300 loss is 58422.67407566133\nNo.400 loss is 34747.065315552616\nNo.500 loss is 22386.362672656123\nNo.600 loss is 15138.24245595807\nNo.700 loss is 10573.734165545917\nNo.800 loss is 7564.170371096305\nNo.900 loss is 5516.2309618577\nNo.1000 loss is 4089.8506443231886\nNo.1100 loss is 3078.0947616085286\nNo.1200 loss is 2349.595916282807\nNo.1300 loss is 1818.313374246674\nNo.1400 loss is 1426.514842934186\nNo.1500 loss is 1134.6981629163583\nNo.1600 loss is 915.3890419206072\nNo.1700 loss is 749.2084235921003\nNo.1800 loss is 622.3182598547368\nNo.1900 loss is 524.729002703214\nNo.2000 loss is 449.1587054981753\nNo.2100 loss is 390.25233264655583\nNo.2200 loss is 344.0403786404491\nNo.2300 loss is 307.5589127111676\nNo.2400 loss is 278.58000836097665\nNo.2500 loss is 255.4185945381079\nNo.2600 loss is 236.79281534460966\nNo.2700 loss is 221.72224426895477\nNo.2800 loss is 209.453133680352\nNo.2900 loss is 199.40314139919678\nNo.3000 loss is 191.1202017543743\nNo.3100 loss is 184.25174414767795\nNo.3200 loss is 178.52153255027358\nNo.3300 loss is 173.7121526294403\nNo.3400 loss is 169.6517080317249\nNo.3500 loss is 166.20367022990973\nNo.3600 loss is 163.25910255538403\nNo.3700 loss is 160.73067972252753\nNo.3800 loss is 158.54807092244147\nNo.3900 loss is 156.65436255795453\nNo.4000 loss is 155.00327660167403\nNo.4100 loss is 153.5569999945755\nNo.4200 loss is 152.28448492205334\nNo.4300 loss is 151.16011314865358\nNo.4400 loss is 150.16264272626685\nNo.4500 loss is 149.27437440771413\nNo.4600 loss is 148.480489538299\nNo.4700 loss is 147.76852220011108\nNo.4800 loss is 147.1279367928359\nNo.4900 loss is 146.54978868101912\nNo.5000 loss is 146.02645049339074\n"
    }
   ],
   "source": [
    "iteration = 3000\n",
    "learning_rate = 100\n",
    "eps = 1e-7\n",
    "rows = int(x_train.shape[0])\n",
    "params = int(x_train.shape[1])\n",
    "\n",
    "w = np.matrix(np.zeros([params+1, 1]))\n",
    "x = np.matrix(np.concatenate((np.ones([rows, 1]),x_train), axis = 1).astype(float))\n",
    "y = np.matrix(y_train)\n",
    "\n",
    "adgrad = np.matrix(np.zeros([params+1, 1]))\n",
    "for item in range(iteration):\n",
    "    z = x * w - y\n",
    "    loss = np.sum(np.power((x * w - y), 2)) / (rows * 2)\n",
    "    gradient = x.T * (x * w - y) / rows\n",
    "    adgrad += np.power(gradient, 2)\n",
    "    w = w - np.multiply(learning_rate / (np.sqrt(adgrad) + eps) , gradient)\n",
    "    if (item+1) % 100 == 0:\n",
    "        print(f'No.{item+1} loss is {loss}')"
   ]
  },
  {
   "cell_type": "code",
   "execution_count": null,
   "metadata": {},
   "outputs": [],
   "source": []
  }
 ],
 "metadata": {
  "language_info": {
   "codemirror_mode": {
    "name": "ipython",
    "version": 3
   },
   "file_extension": ".py",
   "mimetype": "text/x-python",
   "name": "python",
   "nbconvert_exporter": "python",
   "pygments_lexer": "ipython3",
   "version": "3.6.9-final"
  },
  "orig_nbformat": 2,
  "kernelspec": {
   "name": "python3",
   "display_name": "Python 3"
  }
 },
 "nbformat": 4,
 "nbformat_minor": 2
}