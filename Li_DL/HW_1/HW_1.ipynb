{
 "cells": [
  {
   "cell_type": "markdown",
   "metadata": {},
   "source": [
    "# Machine Learning HW1"
   ]
  },
  {
   "cell_type": "markdown",
   "metadata": {},
   "source": [
    "## PM2.5 Prediction"
   ]
  },
  {
   "cell_type": "code",
   "execution_count": 2,
   "metadata": {},
   "outputs": [],
   "source": [
    "import numpy as np\n",
    "import pandas as pd"
   ]
  },
  {
   "cell_type": "code",
   "execution_count": 44,
   "metadata": {},
   "outputs": [
    {
     "output_type": "execute_result",
     "data": {
      "text/plain": "          日期  測站          測項     0     1     2     3     4     5     6  ...  \\\n0   2014/1/1  豐原    AMB_TEMP    14    14    14    13    12    12    12  ...   \n1   2014/1/1  豐原         CH4   1.8   1.8   1.8   1.8   1.8   1.8   1.8  ...   \n2   2014/1/1  豐原          CO  0.51  0.41  0.39  0.37  0.35   0.3  0.37  ...   \n3   2014/1/1  豐原        NMHC   0.2  0.15  0.13  0.12  0.11  0.06   0.1  ...   \n4   2014/1/1  豐原          NO   0.9   0.6   0.5   1.7   1.8   1.5   1.9  ...   \n5   2014/1/1  豐原         NO2    16   9.2   8.2   6.9   6.8   3.8   6.9  ...   \n6   2014/1/1  豐原         NOx    17   9.8   8.7   8.6   8.5   5.3   8.8  ...   \n7   2014/1/1  豐原          O3    16    30    27    23    24    28    24  ...   \n8   2014/1/1  豐原        PM10    56    50    48    35    25    12     4  ...   \n9   2014/1/1  豐原       PM2.5    26    39    36    35    31    28    25  ...   \n10  2014/1/1  豐原    RAINFALL    NR    NR    NR    NR    NR    NR    NR  ...   \n11  2014/1/1  豐原          RH    77    68    67    74    72    73    74  ...   \n12  2014/1/1  豐原         SO2   1.8     2   1.7   1.6   1.9   1.4   1.5  ...   \n13  2014/1/1  豐原         THC     2     2     2   1.9   1.9   1.8   1.9  ...   \n14  2014/1/1  豐原       WD_HR    37    80    57    76   110   106   101  ...   \n15  2014/1/1  豐原  WIND_DIREC    35    79   2.4    55    94   116   106  ...   \n16  2014/1/1  豐原  WIND_SPEED   1.4   1.8     1   0.6   1.7   2.5   2.5  ...   \n17  2014/1/1  豐原       WS_HR   0.5   0.9   0.6   0.3   0.6   1.9     2  ...   \n\n      14    15    16    17    18    19    20    21    22    23  \n0     22    22    21    19    17    16    15    15    15    15  \n1    1.8   1.8   1.8   1.8   1.8   1.8   1.8   1.8   1.8   1.8  \n2   0.37  0.37  0.47  0.69  0.56  0.45  0.38  0.35  0.36  0.32  \n3    0.1  0.13  0.14  0.23  0.18  0.12   0.1  0.09   0.1  0.08  \n4    2.5   2.2   2.5   2.3   2.1   1.9   1.5   1.6   1.8   1.5  \n5     11    11    22    28    19    12   8.1     7   6.9     6  \n6     14    13    25    30    21    13   9.7   8.6   8.7   7.5  \n7     65    64    51    34    33    34    37    38    38    36  \n8     52    51    66    85    85    63    46    36    42    42  \n9     36    45    42    49    45    44    41    30    24    13  \n10    NR    NR    NR    NR    NR    NR    NR    NR    NR    NR  \n11    47    49    56    67    72    69    70    70    70    69  \n12   3.9   4.4   9.9   5.1   3.4   2.3     2   1.9   1.9   1.9  \n13   1.9   1.9   1.9   2.1     2   1.9   1.9   1.9   1.9   1.9  \n14   307   304   307   124   118   121   113   112   106   110  \n15   313   305   291   124   119   118   114   108   102   111  \n16   2.5   2.2   1.4   2.2   2.8     3   2.6   2.7   2.1   2.1  \n17   2.1   2.1   1.9     1   2.5   2.5   2.8   2.6   2.4   2.3  \n\n[18 rows x 27 columns]",
      "text/html": "<div>\n<style scoped>\n    .dataframe tbody tr th:only-of-type {\n        vertical-align: middle;\n    }\n\n    .dataframe tbody tr th {\n        vertical-align: top;\n    }\n\n    .dataframe thead th {\n        text-align: right;\n    }\n</style>\n<table border=\"1\" class=\"dataframe\">\n  <thead>\n    <tr style=\"text-align: right;\">\n      <th></th>\n      <th>日期</th>\n      <th>測站</th>\n      <th>測項</th>\n      <th>0</th>\n      <th>1</th>\n      <th>2</th>\n      <th>3</th>\n      <th>4</th>\n      <th>5</th>\n      <th>6</th>\n      <th>...</th>\n      <th>14</th>\n      <th>15</th>\n      <th>16</th>\n      <th>17</th>\n      <th>18</th>\n      <th>19</th>\n      <th>20</th>\n      <th>21</th>\n      <th>22</th>\n      <th>23</th>\n    </tr>\n  </thead>\n  <tbody>\n    <tr>\n      <th>0</th>\n      <td>2014/1/1</td>\n      <td>豐原</td>\n      <td>AMB_TEMP</td>\n      <td>14</td>\n      <td>14</td>\n      <td>14</td>\n      <td>13</td>\n      <td>12</td>\n      <td>12</td>\n      <td>12</td>\n      <td>...</td>\n      <td>22</td>\n      <td>22</td>\n      <td>21</td>\n      <td>19</td>\n      <td>17</td>\n      <td>16</td>\n      <td>15</td>\n      <td>15</td>\n      <td>15</td>\n      <td>15</td>\n    </tr>\n    <tr>\n      <th>1</th>\n      <td>2014/1/1</td>\n      <td>豐原</td>\n      <td>CH4</td>\n      <td>1.8</td>\n      <td>1.8</td>\n      <td>1.8</td>\n      <td>1.8</td>\n      <td>1.8</td>\n      <td>1.8</td>\n      <td>1.8</td>\n      <td>...</td>\n      <td>1.8</td>\n      <td>1.8</td>\n      <td>1.8</td>\n      <td>1.8</td>\n      <td>1.8</td>\n      <td>1.8</td>\n      <td>1.8</td>\n      <td>1.8</td>\n      <td>1.8</td>\n      <td>1.8</td>\n    </tr>\n    <tr>\n      <th>2</th>\n      <td>2014/1/1</td>\n      <td>豐原</td>\n      <td>CO</td>\n      <td>0.51</td>\n      <td>0.41</td>\n      <td>0.39</td>\n      <td>0.37</td>\n      <td>0.35</td>\n      <td>0.3</td>\n      <td>0.37</td>\n      <td>...</td>\n      <td>0.37</td>\n      <td>0.37</td>\n      <td>0.47</td>\n      <td>0.69</td>\n      <td>0.56</td>\n      <td>0.45</td>\n      <td>0.38</td>\n      <td>0.35</td>\n      <td>0.36</td>\n      <td>0.32</td>\n    </tr>\n    <tr>\n      <th>3</th>\n      <td>2014/1/1</td>\n      <td>豐原</td>\n      <td>NMHC</td>\n      <td>0.2</td>\n      <td>0.15</td>\n      <td>0.13</td>\n      <td>0.12</td>\n      <td>0.11</td>\n      <td>0.06</td>\n      <td>0.1</td>\n      <td>...</td>\n      <td>0.1</td>\n      <td>0.13</td>\n      <td>0.14</td>\n      <td>0.23</td>\n      <td>0.18</td>\n      <td>0.12</td>\n      <td>0.1</td>\n      <td>0.09</td>\n      <td>0.1</td>\n      <td>0.08</td>\n    </tr>\n    <tr>\n      <th>4</th>\n      <td>2014/1/1</td>\n      <td>豐原</td>\n      <td>NO</td>\n      <td>0.9</td>\n      <td>0.6</td>\n      <td>0.5</td>\n      <td>1.7</td>\n      <td>1.8</td>\n      <td>1.5</td>\n      <td>1.9</td>\n      <td>...</td>\n      <td>2.5</td>\n      <td>2.2</td>\n      <td>2.5</td>\n      <td>2.3</td>\n      <td>2.1</td>\n      <td>1.9</td>\n      <td>1.5</td>\n      <td>1.6</td>\n      <td>1.8</td>\n      <td>1.5</td>\n    </tr>\n    <tr>\n      <th>5</th>\n      <td>2014/1/1</td>\n      <td>豐原</td>\n      <td>NO2</td>\n      <td>16</td>\n      <td>9.2</td>\n      <td>8.2</td>\n      <td>6.9</td>\n      <td>6.8</td>\n      <td>3.8</td>\n      <td>6.9</td>\n      <td>...</td>\n      <td>11</td>\n      <td>11</td>\n      <td>22</td>\n      <td>28</td>\n      <td>19</td>\n      <td>12</td>\n      <td>8.1</td>\n      <td>7</td>\n      <td>6.9</td>\n      <td>6</td>\n    </tr>\n    <tr>\n      <th>6</th>\n      <td>2014/1/1</td>\n      <td>豐原</td>\n      <td>NOx</td>\n      <td>17</td>\n      <td>9.8</td>\n      <td>8.7</td>\n      <td>8.6</td>\n      <td>8.5</td>\n      <td>5.3</td>\n      <td>8.8</td>\n      <td>...</td>\n      <td>14</td>\n      <td>13</td>\n      <td>25</td>\n      <td>30</td>\n      <td>21</td>\n      <td>13</td>\n      <td>9.7</td>\n      <td>8.6</td>\n      <td>8.7</td>\n      <td>7.5</td>\n    </tr>\n    <tr>\n      <th>7</th>\n      <td>2014/1/1</td>\n      <td>豐原</td>\n      <td>O3</td>\n      <td>16</td>\n      <td>30</td>\n      <td>27</td>\n      <td>23</td>\n      <td>24</td>\n      <td>28</td>\n      <td>24</td>\n      <td>...</td>\n      <td>65</td>\n      <td>64</td>\n      <td>51</td>\n      <td>34</td>\n      <td>33</td>\n      <td>34</td>\n      <td>37</td>\n      <td>38</td>\n      <td>38</td>\n      <td>36</td>\n    </tr>\n    <tr>\n      <th>8</th>\n      <td>2014/1/1</td>\n      <td>豐原</td>\n      <td>PM10</td>\n      <td>56</td>\n      <td>50</td>\n      <td>48</td>\n      <td>35</td>\n      <td>25</td>\n      <td>12</td>\n      <td>4</td>\n      <td>...</td>\n      <td>52</td>\n      <td>51</td>\n      <td>66</td>\n      <td>85</td>\n      <td>85</td>\n      <td>63</td>\n      <td>46</td>\n      <td>36</td>\n      <td>42</td>\n      <td>42</td>\n    </tr>\n    <tr>\n      <th>9</th>\n      <td>2014/1/1</td>\n      <td>豐原</td>\n      <td>PM2.5</td>\n      <td>26</td>\n      <td>39</td>\n      <td>36</td>\n      <td>35</td>\n      <td>31</td>\n      <td>28</td>\n      <td>25</td>\n      <td>...</td>\n      <td>36</td>\n      <td>45</td>\n      <td>42</td>\n      <td>49</td>\n      <td>45</td>\n      <td>44</td>\n      <td>41</td>\n      <td>30</td>\n      <td>24</td>\n      <td>13</td>\n    </tr>\n    <tr>\n      <th>10</th>\n      <td>2014/1/1</td>\n      <td>豐原</td>\n      <td>RAINFALL</td>\n      <td>NR</td>\n      <td>NR</td>\n      <td>NR</td>\n      <td>NR</td>\n      <td>NR</td>\n      <td>NR</td>\n      <td>NR</td>\n      <td>...</td>\n      <td>NR</td>\n      <td>NR</td>\n      <td>NR</td>\n      <td>NR</td>\n      <td>NR</td>\n      <td>NR</td>\n      <td>NR</td>\n      <td>NR</td>\n      <td>NR</td>\n      <td>NR</td>\n    </tr>\n    <tr>\n      <th>11</th>\n      <td>2014/1/1</td>\n      <td>豐原</td>\n      <td>RH</td>\n      <td>77</td>\n      <td>68</td>\n      <td>67</td>\n      <td>74</td>\n      <td>72</td>\n      <td>73</td>\n      <td>74</td>\n      <td>...</td>\n      <td>47</td>\n      <td>49</td>\n      <td>56</td>\n      <td>67</td>\n      <td>72</td>\n      <td>69</td>\n      <td>70</td>\n      <td>70</td>\n      <td>70</td>\n      <td>69</td>\n    </tr>\n    <tr>\n      <th>12</th>\n      <td>2014/1/1</td>\n      <td>豐原</td>\n      <td>SO2</td>\n      <td>1.8</td>\n      <td>2</td>\n      <td>1.7</td>\n      <td>1.6</td>\n      <td>1.9</td>\n      <td>1.4</td>\n      <td>1.5</td>\n      <td>...</td>\n      <td>3.9</td>\n      <td>4.4</td>\n      <td>9.9</td>\n      <td>5.1</td>\n      <td>3.4</td>\n      <td>2.3</td>\n      <td>2</td>\n      <td>1.9</td>\n      <td>1.9</td>\n      <td>1.9</td>\n    </tr>\n    <tr>\n      <th>13</th>\n      <td>2014/1/1</td>\n      <td>豐原</td>\n      <td>THC</td>\n      <td>2</td>\n      <td>2</td>\n      <td>2</td>\n      <td>1.9</td>\n      <td>1.9</td>\n      <td>1.8</td>\n      <td>1.9</td>\n      <td>...</td>\n      <td>1.9</td>\n      <td>1.9</td>\n      <td>1.9</td>\n      <td>2.1</td>\n      <td>2</td>\n      <td>1.9</td>\n      <td>1.9</td>\n      <td>1.9</td>\n      <td>1.9</td>\n      <td>1.9</td>\n    </tr>\n    <tr>\n      <th>14</th>\n      <td>2014/1/1</td>\n      <td>豐原</td>\n      <td>WD_HR</td>\n      <td>37</td>\n      <td>80</td>\n      <td>57</td>\n      <td>76</td>\n      <td>110</td>\n      <td>106</td>\n      <td>101</td>\n      <td>...</td>\n      <td>307</td>\n      <td>304</td>\n      <td>307</td>\n      <td>124</td>\n      <td>118</td>\n      <td>121</td>\n      <td>113</td>\n      <td>112</td>\n      <td>106</td>\n      <td>110</td>\n    </tr>\n    <tr>\n      <th>15</th>\n      <td>2014/1/1</td>\n      <td>豐原</td>\n      <td>WIND_DIREC</td>\n      <td>35</td>\n      <td>79</td>\n      <td>2.4</td>\n      <td>55</td>\n      <td>94</td>\n      <td>116</td>\n      <td>106</td>\n      <td>...</td>\n      <td>313</td>\n      <td>305</td>\n      <td>291</td>\n      <td>124</td>\n      <td>119</td>\n      <td>118</td>\n      <td>114</td>\n      <td>108</td>\n      <td>102</td>\n      <td>111</td>\n    </tr>\n    <tr>\n      <th>16</th>\n      <td>2014/1/1</td>\n      <td>豐原</td>\n      <td>WIND_SPEED</td>\n      <td>1.4</td>\n      <td>1.8</td>\n      <td>1</td>\n      <td>0.6</td>\n      <td>1.7</td>\n      <td>2.5</td>\n      <td>2.5</td>\n      <td>...</td>\n      <td>2.5</td>\n      <td>2.2</td>\n      <td>1.4</td>\n      <td>2.2</td>\n      <td>2.8</td>\n      <td>3</td>\n      <td>2.6</td>\n      <td>2.7</td>\n      <td>2.1</td>\n      <td>2.1</td>\n    </tr>\n    <tr>\n      <th>17</th>\n      <td>2014/1/1</td>\n      <td>豐原</td>\n      <td>WS_HR</td>\n      <td>0.5</td>\n      <td>0.9</td>\n      <td>0.6</td>\n      <td>0.3</td>\n      <td>0.6</td>\n      <td>1.9</td>\n      <td>2</td>\n      <td>...</td>\n      <td>2.1</td>\n      <td>2.1</td>\n      <td>1.9</td>\n      <td>1</td>\n      <td>2.5</td>\n      <td>2.5</td>\n      <td>2.8</td>\n      <td>2.6</td>\n      <td>2.4</td>\n      <td>2.3</td>\n    </tr>\n  </tbody>\n</table>\n<p>18 rows × 27 columns</p>\n</div>"
     },
     "metadata": {},
     "execution_count": 44
    }
   ],
   "source": [
    "data = pd.read_csv('ml2020spring-hw1/train.csv', encoding = 'big5')\n",
    "data.head(18)"
   ]
  },
  {
   "cell_type": "code",
   "execution_count": 45,
   "metadata": {},
   "outputs": [
    {
     "output_type": "execute_result",
     "data": {
      "text/plain": "(4320, 24)"
     },
     "metadata": {},
     "execution_count": 45
    }
   ],
   "source": [
    "data1 = data.iloc[:,3:]\n",
    "data1[data1 == 'NR'] = 0\n",
    "data1.shape"
   ]
  },
  {
   "cell_type": "code",
   "execution_count": 49,
   "metadata": {},
   "outputs": [],
   "source": [
    "raw_data = data1.to_numpy()"
   ]
  },
  {
   "cell_type": "markdown",
   "metadata": {},
   "source": [
    "### Extract Feature 1\n",
    "\n",
    "将 $ 4320 * 18$ 的数据转为 $12 * 20 * 24 * 18 $ 的数据，12个月，每月20天，每天24小时，每小时18个特征。\n",
    "\n",
    "必须分开12个月计算，每个月的时间不连续。"
   ]
  },
  {
   "cell_type": "code",
   "execution_count": 55,
   "metadata": {},
   "outputs": [],
   "source": [
    "month_data = {}\n",
    "for month in range(12):\n",
    "    sample = np.empty([18, 480])\n",
    "    for day in range(20):\n",
    "        sample[:,day * 24 : (day+1) * 24] = raw_data[18 * (month * 20 + day) : 18 * (month * 20 + day + 1),:]\n",
    "    month_data[month] = sample"
   ]
  },
  {
   "cell_type": "code",
   "execution_count": 72,
   "metadata": {},
   "outputs": [
    {
     "output_type": "execute_result",
     "data": {
      "text/plain": "array([[ 23.  ,  23.  ,  23.  , ...,  13.  ,  13.  ,  13.  ],\n       [  1.6 ,   1.7 ,   1.7 , ...,   1.8 ,   1.8 ,   1.8 ],\n       [  0.22,   0.2 ,   0.18, ...,   0.51,   0.57,   0.56],\n       ...,\n       [ 93.  ,  50.  ,  99.  , ..., 118.  , 100.  , 105.  ],\n       [  1.8 ,   2.1 ,   3.2 , ...,   1.5 ,   2.  ,   2.  ],\n       [  1.3 ,   0.9 ,   1.  , ...,   1.6 ,   1.8 ,   2.  ]])"
     },
     "metadata": {},
     "execution_count": 72
    }
   ],
   "source": [
    "# 每个月数据均为 18 * 480\n",
    "month_data[11]"
   ]
  },
  {
   "cell_type": "markdown",
   "metadata": {},
   "source": [
    "### Extract Feature 2\n",
    "每个月连续时间480小时，每9个小时产生一组data，每月共471组连续数据。"
   ]
  },
  {
   "cell_type": "code",
   "execution_count": 83,
   "metadata": {
    "tags": [
     "outputPrepend",
     "outputPrepend",
     "outputPrepend",
     "outputPrepend",
     "outputPrepend",
     "outputPrepend",
     "outputPrepend",
     "outputPrepend",
     "outputPrepend"
    ]
   },
   "outputs": [
    {
     "output_type": "stream",
     "name": "stdout",
     "text": "(5652, 162)\n(5652, 1)\n"
    }
   ],
   "source": [
    "x_data = np.empty([471 * 12, 18 * 9], dtype = float)\n",
    "y_data = np.empty([471 * 12, 1], dtype = float)\n",
    "for month in range(12):\n",
    "    for day in range(20):\n",
    "        for hour in range(24):\n",
    "            if day == 19 and hour > 14:\n",
    "                continue\n",
    "            x_data[month * 471 + day * 24 + hour,:] = month_data[month][:,day * 24 + hour : day * 24 + hour + 9].reshape(1, -1)\n",
    "            y_data[month * 471 + day * 24 + hour,:] = month_data[month][9,day * 24 + hour + 9]\n",
    "print(x_data.shape)\n",
    "print(y_data.shape)"
   ]
  },
  {
   "cell_type": "markdown",
   "metadata": {},
   "source": [
    "### Normalization"
   ]
  },
  {
   "cell_type": "code",
   "execution_count": 78,
   "metadata": {},
   "outputs": [
    {
     "output_type": "execute_result",
     "data": {
      "text/plain": "((162,), (162,))"
     },
     "metadata": {},
     "execution_count": 78
    }
   ],
   "source": [
    "x_mean = np.mean(x_data, axis = 0)\n",
    "x_std = np.std(x_data, axis = 0)\n",
    "x_mean.shape,x_std.shape"
   ]
  },
  {
   "cell_type": "code",
   "execution_count": 82,
   "metadata": {},
   "outputs": [
    {
     "output_type": "execute_result",
     "data": {
      "text/plain": "(array([[-3.80191926, -3.80172898, -3.80098934, ..., -1.35805482,\n         -1.35915993, -2.6791547 ],\n        [-3.80191926, -3.80172898, -3.82626312, ..., -1.35805482,\n         -2.67575933, -2.85495044],\n        [-3.80191926, -3.82702726, -3.8515369 , ..., -2.67546148,\n         -2.85130591, -2.41546108],\n        ...,\n        [-3.72597039, -3.70053589, -3.67462047, ..., -2.14849882,\n         -1.88579969, -1.97597173],\n        [-3.70065411, -3.67523761, -3.69989424, ..., -1.88501748,\n         -1.97357298, -1.71227811],\n        [-3.67533782, -3.70053589, -3.72516802, ..., -1.97284459,\n         -1.7102531 , -1.53648237]]), (5652, 162))"
     },
     "metadata": {},
     "execution_count": 82
    }
   ],
   "source": [
    "for i in range(len(x_data)):\n",
    "    for j in range(len(x_data[i])):\n",
    "        if x_std[j]:\n",
    "            x_data[i][j] = (x_data[i][j] - x_mean[j]) / x_std[j]\n",
    "x_data"
   ]
  },
  {
   "cell_type": "code",
   "execution_count": null,
   "metadata": {},
   "outputs": [],
   "source": [
    "### Split Validation Set"
   ]
  }
 ],
 "metadata": {
  "language_info": {
   "codemirror_mode": {
    "name": "ipython",
    "version": 3
   },
   "file_extension": ".py",
   "mimetype": "text/x-python",
   "name": "python",
   "nbconvert_exporter": "python",
   "pygments_lexer": "ipython3",
   "version": "3.6.9-final"
  },
  "orig_nbformat": 2,
  "kernelspec": {
   "name": "python3",
   "display_name": "Python 3"
  }
 },
 "nbformat": 4,
 "nbformat_minor": 2
}