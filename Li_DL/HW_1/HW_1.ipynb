{
 "cells": [
  {
   "cell_type": "markdown",
   "metadata": {},
   "source": [
    "# Machine Learning HW1"
   ]
  },
  {
   "cell_type": "markdown",
   "metadata": {},
   "source": [
    "## PM2.5 Prediction"
   ]
  },
  {
   "cell_type": "code",
   "execution_count": 1,
   "metadata": {},
   "outputs": [],
   "source": [
    "import numpy as np\n",
    "import pandas as pd"
   ]
  },
  {
   "cell_type": "code",
   "execution_count": 2,
   "metadata": {},
   "outputs": [
    {
     "output_type": "execute_result",
     "data": {
      "text/plain": "          日期  測站          測項     0     1     2     3     4     5     6  ...  \\\n0   2014/1/1  豐原    AMB_TEMP    14    14    14    13    12    12    12  ...   \n1   2014/1/1  豐原         CH4   1.8   1.8   1.8   1.8   1.8   1.8   1.8  ...   \n2   2014/1/1  豐原          CO  0.51  0.41  0.39  0.37  0.35   0.3  0.37  ...   \n3   2014/1/1  豐原        NMHC   0.2  0.15  0.13  0.12  0.11  0.06   0.1  ...   \n4   2014/1/1  豐原          NO   0.9   0.6   0.5   1.7   1.8   1.5   1.9  ...   \n5   2014/1/1  豐原         NO2    16   9.2   8.2   6.9   6.8   3.8   6.9  ...   \n6   2014/1/1  豐原         NOx    17   9.8   8.7   8.6   8.5   5.3   8.8  ...   \n7   2014/1/1  豐原          O3    16    30    27    23    24    28    24  ...   \n8   2014/1/1  豐原        PM10    56    50    48    35    25    12     4  ...   \n9   2014/1/1  豐原       PM2.5    26    39    36    35    31    28    25  ...   \n10  2014/1/1  豐原    RAINFALL    NR    NR    NR    NR    NR    NR    NR  ...   \n11  2014/1/1  豐原          RH    77    68    67    74    72    73    74  ...   \n12  2014/1/1  豐原         SO2   1.8     2   1.7   1.6   1.9   1.4   1.5  ...   \n13  2014/1/1  豐原         THC     2     2     2   1.9   1.9   1.8   1.9  ...   \n14  2014/1/1  豐原       WD_HR    37    80    57    76   110   106   101  ...   \n15  2014/1/1  豐原  WIND_DIREC    35    79   2.4    55    94   116   106  ...   \n16  2014/1/1  豐原  WIND_SPEED   1.4   1.8     1   0.6   1.7   2.5   2.5  ...   \n17  2014/1/1  豐原       WS_HR   0.5   0.9   0.6   0.3   0.6   1.9     2  ...   \n\n      14    15    16    17    18    19    20    21    22    23  \n0     22    22    21    19    17    16    15    15    15    15  \n1    1.8   1.8   1.8   1.8   1.8   1.8   1.8   1.8   1.8   1.8  \n2   0.37  0.37  0.47  0.69  0.56  0.45  0.38  0.35  0.36  0.32  \n3    0.1  0.13  0.14  0.23  0.18  0.12   0.1  0.09   0.1  0.08  \n4    2.5   2.2   2.5   2.3   2.1   1.9   1.5   1.6   1.8   1.5  \n5     11    11    22    28    19    12   8.1     7   6.9     6  \n6     14    13    25    30    21    13   9.7   8.6   8.7   7.5  \n7     65    64    51    34    33    34    37    38    38    36  \n8     52    51    66    85    85    63    46    36    42    42  \n9     36    45    42    49    45    44    41    30    24    13  \n10    NR    NR    NR    NR    NR    NR    NR    NR    NR    NR  \n11    47    49    56    67    72    69    70    70    70    69  \n12   3.9   4.4   9.9   5.1   3.4   2.3     2   1.9   1.9   1.9  \n13   1.9   1.9   1.9   2.1     2   1.9   1.9   1.9   1.9   1.9  \n14   307   304   307   124   118   121   113   112   106   110  \n15   313   305   291   124   119   118   114   108   102   111  \n16   2.5   2.2   1.4   2.2   2.8     3   2.6   2.7   2.1   2.1  \n17   2.1   2.1   1.9     1   2.5   2.5   2.8   2.6   2.4   2.3  \n\n[18 rows x 27 columns]",
      "text/html": "<div>\n<style scoped>\n    .dataframe tbody tr th:only-of-type {\n        vertical-align: middle;\n    }\n\n    .dataframe tbody tr th {\n        vertical-align: top;\n    }\n\n    .dataframe thead th {\n        text-align: right;\n    }\n</style>\n<table border=\"1\" class=\"dataframe\">\n  <thead>\n    <tr style=\"text-align: right;\">\n      <th></th>\n      <th>日期</th>\n      <th>測站</th>\n      <th>測項</th>\n      <th>0</th>\n      <th>1</th>\n      <th>2</th>\n      <th>3</th>\n      <th>4</th>\n      <th>5</th>\n      <th>6</th>\n      <th>...</th>\n      <th>14</th>\n      <th>15</th>\n      <th>16</th>\n      <th>17</th>\n      <th>18</th>\n      <th>19</th>\n      <th>20</th>\n      <th>21</th>\n      <th>22</th>\n      <th>23</th>\n    </tr>\n  </thead>\n  <tbody>\n    <tr>\n      <th>0</th>\n      <td>2014/1/1</td>\n      <td>豐原</td>\n      <td>AMB_TEMP</td>\n      <td>14</td>\n      <td>14</td>\n      <td>14</td>\n      <td>13</td>\n      <td>12</td>\n      <td>12</td>\n      <td>12</td>\n      <td>...</td>\n      <td>22</td>\n      <td>22</td>\n      <td>21</td>\n      <td>19</td>\n      <td>17</td>\n      <td>16</td>\n      <td>15</td>\n      <td>15</td>\n      <td>15</td>\n      <td>15</td>\n    </tr>\n    <tr>\n      <th>1</th>\n      <td>2014/1/1</td>\n      <td>豐原</td>\n      <td>CH4</td>\n      <td>1.8</td>\n      <td>1.8</td>\n      <td>1.8</td>\n      <td>1.8</td>\n      <td>1.8</td>\n      <td>1.8</td>\n      <td>1.8</td>\n      <td>...</td>\n      <td>1.8</td>\n      <td>1.8</td>\n      <td>1.8</td>\n      <td>1.8</td>\n      <td>1.8</td>\n      <td>1.8</td>\n      <td>1.8</td>\n      <td>1.8</td>\n      <td>1.8</td>\n      <td>1.8</td>\n    </tr>\n    <tr>\n      <th>2</th>\n      <td>2014/1/1</td>\n      <td>豐原</td>\n      <td>CO</td>\n      <td>0.51</td>\n      <td>0.41</td>\n      <td>0.39</td>\n      <td>0.37</td>\n      <td>0.35</td>\n      <td>0.3</td>\n      <td>0.37</td>\n      <td>...</td>\n      <td>0.37</td>\n      <td>0.37</td>\n      <td>0.47</td>\n      <td>0.69</td>\n      <td>0.56</td>\n      <td>0.45</td>\n      <td>0.38</td>\n      <td>0.35</td>\n      <td>0.36</td>\n      <td>0.32</td>\n    </tr>\n    <tr>\n      <th>3</th>\n      <td>2014/1/1</td>\n      <td>豐原</td>\n      <td>NMHC</td>\n      <td>0.2</td>\n      <td>0.15</td>\n      <td>0.13</td>\n      <td>0.12</td>\n      <td>0.11</td>\n      <td>0.06</td>\n      <td>0.1</td>\n      <td>...</td>\n      <td>0.1</td>\n      <td>0.13</td>\n      <td>0.14</td>\n      <td>0.23</td>\n      <td>0.18</td>\n      <td>0.12</td>\n      <td>0.1</td>\n      <td>0.09</td>\n      <td>0.1</td>\n      <td>0.08</td>\n    </tr>\n    <tr>\n      <th>4</th>\n      <td>2014/1/1</td>\n      <td>豐原</td>\n      <td>NO</td>\n      <td>0.9</td>\n      <td>0.6</td>\n      <td>0.5</td>\n      <td>1.7</td>\n      <td>1.8</td>\n      <td>1.5</td>\n      <td>1.9</td>\n      <td>...</td>\n      <td>2.5</td>\n      <td>2.2</td>\n      <td>2.5</td>\n      <td>2.3</td>\n      <td>2.1</td>\n      <td>1.9</td>\n      <td>1.5</td>\n      <td>1.6</td>\n      <td>1.8</td>\n      <td>1.5</td>\n    </tr>\n    <tr>\n      <th>5</th>\n      <td>2014/1/1</td>\n      <td>豐原</td>\n      <td>NO2</td>\n      <td>16</td>\n      <td>9.2</td>\n      <td>8.2</td>\n      <td>6.9</td>\n      <td>6.8</td>\n      <td>3.8</td>\n      <td>6.9</td>\n      <td>...</td>\n      <td>11</td>\n      <td>11</td>\n      <td>22</td>\n      <td>28</td>\n      <td>19</td>\n      <td>12</td>\n      <td>8.1</td>\n      <td>7</td>\n      <td>6.9</td>\n      <td>6</td>\n    </tr>\n    <tr>\n      <th>6</th>\n      <td>2014/1/1</td>\n      <td>豐原</td>\n      <td>NOx</td>\n      <td>17</td>\n      <td>9.8</td>\n      <td>8.7</td>\n      <td>8.6</td>\n      <td>8.5</td>\n      <td>5.3</td>\n      <td>8.8</td>\n      <td>...</td>\n      <td>14</td>\n      <td>13</td>\n      <td>25</td>\n      <td>30</td>\n      <td>21</td>\n      <td>13</td>\n      <td>9.7</td>\n      <td>8.6</td>\n      <td>8.7</td>\n      <td>7.5</td>\n    </tr>\n    <tr>\n      <th>7</th>\n      <td>2014/1/1</td>\n      <td>豐原</td>\n      <td>O3</td>\n      <td>16</td>\n      <td>30</td>\n      <td>27</td>\n      <td>23</td>\n      <td>24</td>\n      <td>28</td>\n      <td>24</td>\n      <td>...</td>\n      <td>65</td>\n      <td>64</td>\n      <td>51</td>\n      <td>34</td>\n      <td>33</td>\n      <td>34</td>\n      <td>37</td>\n      <td>38</td>\n      <td>38</td>\n      <td>36</td>\n    </tr>\n    <tr>\n      <th>8</th>\n      <td>2014/1/1</td>\n      <td>豐原</td>\n      <td>PM10</td>\n      <td>56</td>\n      <td>50</td>\n      <td>48</td>\n      <td>35</td>\n      <td>25</td>\n      <td>12</td>\n      <td>4</td>\n      <td>...</td>\n      <td>52</td>\n      <td>51</td>\n      <td>66</td>\n      <td>85</td>\n      <td>85</td>\n      <td>63</td>\n      <td>46</td>\n      <td>36</td>\n      <td>42</td>\n      <td>42</td>\n    </tr>\n    <tr>\n      <th>9</th>\n      <td>2014/1/1</td>\n      <td>豐原</td>\n      <td>PM2.5</td>\n      <td>26</td>\n      <td>39</td>\n      <td>36</td>\n      <td>35</td>\n      <td>31</td>\n      <td>28</td>\n      <td>25</td>\n      <td>...</td>\n      <td>36</td>\n      <td>45</td>\n      <td>42</td>\n      <td>49</td>\n      <td>45</td>\n      <td>44</td>\n      <td>41</td>\n      <td>30</td>\n      <td>24</td>\n      <td>13</td>\n    </tr>\n    <tr>\n      <th>10</th>\n      <td>2014/1/1</td>\n      <td>豐原</td>\n      <td>RAINFALL</td>\n      <td>NR</td>\n      <td>NR</td>\n      <td>NR</td>\n      <td>NR</td>\n      <td>NR</td>\n      <td>NR</td>\n      <td>NR</td>\n      <td>...</td>\n      <td>NR</td>\n      <td>NR</td>\n      <td>NR</td>\n      <td>NR</td>\n      <td>NR</td>\n      <td>NR</td>\n      <td>NR</td>\n      <td>NR</td>\n      <td>NR</td>\n      <td>NR</td>\n    </tr>\n    <tr>\n      <th>11</th>\n      <td>2014/1/1</td>\n      <td>豐原</td>\n      <td>RH</td>\n      <td>77</td>\n      <td>68</td>\n      <td>67</td>\n      <td>74</td>\n      <td>72</td>\n      <td>73</td>\n      <td>74</td>\n      <td>...</td>\n      <td>47</td>\n      <td>49</td>\n      <td>56</td>\n      <td>67</td>\n      <td>72</td>\n      <td>69</td>\n      <td>70</td>\n      <td>70</td>\n      <td>70</td>\n      <td>69</td>\n    </tr>\n    <tr>\n      <th>12</th>\n      <td>2014/1/1</td>\n      <td>豐原</td>\n      <td>SO2</td>\n      <td>1.8</td>\n      <td>2</td>\n      <td>1.7</td>\n      <td>1.6</td>\n      <td>1.9</td>\n      <td>1.4</td>\n      <td>1.5</td>\n      <td>...</td>\n      <td>3.9</td>\n      <td>4.4</td>\n      <td>9.9</td>\n      <td>5.1</td>\n      <td>3.4</td>\n      <td>2.3</td>\n      <td>2</td>\n      <td>1.9</td>\n      <td>1.9</td>\n      <td>1.9</td>\n    </tr>\n    <tr>\n      <th>13</th>\n      <td>2014/1/1</td>\n      <td>豐原</td>\n      <td>THC</td>\n      <td>2</td>\n      <td>2</td>\n      <td>2</td>\n      <td>1.9</td>\n      <td>1.9</td>\n      <td>1.8</td>\n      <td>1.9</td>\n      <td>...</td>\n      <td>1.9</td>\n      <td>1.9</td>\n      <td>1.9</td>\n      <td>2.1</td>\n      <td>2</td>\n      <td>1.9</td>\n      <td>1.9</td>\n      <td>1.9</td>\n      <td>1.9</td>\n      <td>1.9</td>\n    </tr>\n    <tr>\n      <th>14</th>\n      <td>2014/1/1</td>\n      <td>豐原</td>\n      <td>WD_HR</td>\n      <td>37</td>\n      <td>80</td>\n      <td>57</td>\n      <td>76</td>\n      <td>110</td>\n      <td>106</td>\n      <td>101</td>\n      <td>...</td>\n      <td>307</td>\n      <td>304</td>\n      <td>307</td>\n      <td>124</td>\n      <td>118</td>\n      <td>121</td>\n      <td>113</td>\n      <td>112</td>\n      <td>106</td>\n      <td>110</td>\n    </tr>\n    <tr>\n      <th>15</th>\n      <td>2014/1/1</td>\n      <td>豐原</td>\n      <td>WIND_DIREC</td>\n      <td>35</td>\n      <td>79</td>\n      <td>2.4</td>\n      <td>55</td>\n      <td>94</td>\n      <td>116</td>\n      <td>106</td>\n      <td>...</td>\n      <td>313</td>\n      <td>305</td>\n      <td>291</td>\n      <td>124</td>\n      <td>119</td>\n      <td>118</td>\n      <td>114</td>\n      <td>108</td>\n      <td>102</td>\n      <td>111</td>\n    </tr>\n    <tr>\n      <th>16</th>\n      <td>2014/1/1</td>\n      <td>豐原</td>\n      <td>WIND_SPEED</td>\n      <td>1.4</td>\n      <td>1.8</td>\n      <td>1</td>\n      <td>0.6</td>\n      <td>1.7</td>\n      <td>2.5</td>\n      <td>2.5</td>\n      <td>...</td>\n      <td>2.5</td>\n      <td>2.2</td>\n      <td>1.4</td>\n      <td>2.2</td>\n      <td>2.8</td>\n      <td>3</td>\n      <td>2.6</td>\n      <td>2.7</td>\n      <td>2.1</td>\n      <td>2.1</td>\n    </tr>\n    <tr>\n      <th>17</th>\n      <td>2014/1/1</td>\n      <td>豐原</td>\n      <td>WS_HR</td>\n      <td>0.5</td>\n      <td>0.9</td>\n      <td>0.6</td>\n      <td>0.3</td>\n      <td>0.6</td>\n      <td>1.9</td>\n      <td>2</td>\n      <td>...</td>\n      <td>2.1</td>\n      <td>2.1</td>\n      <td>1.9</td>\n      <td>1</td>\n      <td>2.5</td>\n      <td>2.5</td>\n      <td>2.8</td>\n      <td>2.6</td>\n      <td>2.4</td>\n      <td>2.3</td>\n    </tr>\n  </tbody>\n</table>\n<p>18 rows × 27 columns</p>\n</div>"
     },
     "metadata": {},
     "execution_count": 2
    }
   ],
   "source": [
    "data = pd.read_csv('ml2020spring-hw1/train.csv', encoding = 'big5')\n",
    "data.head(18)"
   ]
  },
  {
   "cell_type": "code",
   "execution_count": 3,
   "metadata": {},
   "outputs": [
    {
     "output_type": "execute_result",
     "data": {
      "text/plain": "(4320, 24)"
     },
     "metadata": {},
     "execution_count": 3
    }
   ],
   "source": [
    "data1 = data.iloc[:,3:]\n",
    "data1[data1 == 'NR'] = 0\n",
    "data1.shape"
   ]
  },
  {
   "cell_type": "code",
   "execution_count": 4,
   "metadata": {},
   "outputs": [],
   "source": [
    "raw_data = data1.to_numpy()"
   ]
  },
  {
   "cell_type": "markdown",
   "metadata": {},
   "source": [
    "### Extract Feature 1\n",
    "\n",
    "将 $ 4320 * 18$ 的数据转为 $12 * 20 * 24 * 18 $ 的数据，12个月，每月20天，每天24小时，每小时18个特征。\n",
    "\n",
    "必须分开12个月计算，每个月的时间不连续。"
   ]
  },
  {
   "cell_type": "code",
   "execution_count": 5,
   "metadata": {},
   "outputs": [],
   "source": [
    "month_data = {}\n",
    "for month in range(12):\n",
    "    sample = np.empty([18, 480])\n",
    "    for day in range(20):\n",
    "        sample[:,day * 24 : (day+1) * 24] = raw_data[18 * (month * 20 + day) : 18 * (month * 20 + day + 1),:]\n",
    "    month_data[month] = sample"
   ]
  },
  {
   "cell_type": "code",
   "execution_count": 6,
   "metadata": {},
   "outputs": [
    {
     "output_type": "execute_result",
     "data": {
      "text/plain": "array([[ 23.  ,  23.  ,  23.  , ...,  13.  ,  13.  ,  13.  ],\n       [  1.6 ,   1.7 ,   1.7 , ...,   1.8 ,   1.8 ,   1.8 ],\n       [  0.22,   0.2 ,   0.18, ...,   0.51,   0.57,   0.56],\n       ...,\n       [ 93.  ,  50.  ,  99.  , ..., 118.  , 100.  , 105.  ],\n       [  1.8 ,   2.1 ,   3.2 , ...,   1.5 ,   2.  ,   2.  ],\n       [  1.3 ,   0.9 ,   1.  , ...,   1.6 ,   1.8 ,   2.  ]])"
     },
     "metadata": {},
     "execution_count": 6
    }
   ],
   "source": [
    "# 每个月数据均为 18 * 480\n",
    "month_data[11]"
   ]
  },
  {
   "cell_type": "markdown",
   "metadata": {},
   "source": [
    "### Extract Feature 2\n",
    "每个月连续时间480小时，每9个小时产生一组data，每月共471组连续数据。"
   ]
  },
  {
   "cell_type": "code",
   "execution_count": 7,
   "metadata": {
    "tags": [
     "outputPrepend",
     "outputPrepend",
     "outputPrepend",
     "outputPrepend",
     "outputPrepend",
     "outputPrepend",
     "outputPrepend",
     "outputPrepend",
     "outputPrepend"
    ]
   },
   "outputs": [
    {
     "output_type": "stream",
     "name": "stdout",
     "text": "(5652, 162)\n(5652, 1)\n"
    }
   ],
   "source": [
    "x_data = np.empty([471 * 12, 18 * 9], dtype = float)\n",
    "y_data = np.empty([471 * 12, 1], dtype = float)\n",
    "for month in range(12):\n",
    "    for day in range(20):\n",
    "        for hour in range(24):\n",
    "            if day == 19 and hour > 14:\n",
    "                continue\n",
    "            x_data[month * 471 + day * 24 + hour,:] = month_data[month][:,day * 24 + hour : day * 24 + hour + 9].reshape(1, -1)\n",
    "            y_data[month * 471 + day * 24 + hour,:] = month_data[month][9,day * 24 + hour + 9]\n",
    "print(x_data.shape)\n",
    "print(y_data.shape)"
   ]
  },
  {
   "cell_type": "markdown",
   "metadata": {},
   "source": [
    "### Normalization"
   ]
  },
  {
   "cell_type": "code",
   "execution_count": 8,
   "metadata": {},
   "outputs": [
    {
     "output_type": "execute_result",
     "data": {
      "text/plain": "((162,), (162,))"
     },
     "metadata": {},
     "execution_count": 8
    }
   ],
   "source": [
    "x_mean = np.mean(x_data, axis = 0)\n",
    "x_std = np.std(x_data, axis = 0)\n",
    "x_mean.shape,x_std.shape"
   ]
  },
  {
   "cell_type": "code",
   "execution_count": 99,
   "metadata": {},
   "outputs": [
    {
     "output_type": "execute_result",
     "data": {
      "text/plain": "(array([[-4.26244109, -4.2619117 , -4.26059692, ..., -6.36737333,\n         -6.1489991 , -6.08935727],\n        [-4.26223714, -4.26170811, -4.26029228, ..., -4.41557358,\n         -4.99414807, -5.43744613],\n        [-4.26182923, -4.26140272, -4.26019073, ..., -5.86135117,\n         -5.64375177, -6.30666098],\n        ...,\n        [-4.26264504, -4.26211529, -4.26100312, ..., -6.15050669,\n         -6.00464272, -5.94448813],\n        [-4.26091144, -4.26048656, -4.25927679, ..., -4.84930686,\n         -4.48890074, -5.5098807 ],\n        [-4.26264504, -4.26221708, -4.26100312, ..., -6.80110661,\n         -6.72642462, -6.74126841]]), array([[30.],\n        [41.],\n        [44.],\n        ...,\n        [17.],\n        [24.],\n        [29.]]))"
     },
     "metadata": {},
     "execution_count": 99
    }
   ],
   "source": [
    "for i in range(len(x_data)):\n",
    "    for j in range(len(x_data[i])):\n",
    "        if x_std[j]:\n",
    "            x_data[i][j] = (x_data[i][j] - x_mean[j]) / x_std[j]\n",
    "x_data,y_data"
   ]
  },
  {
   "cell_type": "markdown",
   "metadata": {},
   "source": [
    "### Shuffle the set\n",
    "\n",
    "此数据集有明显的时间连续性"
   ]
  },
  {
   "cell_type": "code",
   "execution_count": 68,
   "metadata": {},
   "outputs": [],
   "source": [
    "import random\n",
    "index = [i for i in range(len(x_data))]\n",
    "random.shuffle(index)\n",
    "x_data = x_data[index]"
   ]
  },
  {
   "cell_type": "markdown",
   "metadata": {},
   "source": [
    "### Split Validation Set"
   ]
  },
  {
   "cell_type": "code",
   "execution_count": 70,
   "metadata": {},
   "outputs": [],
   "source": [
    "import math\n",
    "x_train, y_train = x_data[:math.floor(len(x_data) * 0.8),:], y_data[:math.floor(len(x_data) * 0.8),:]\n",
    "x_val, y_val = x_data[math.floor(len(x_data) * 0.8):,:], y_data[math.floor(len(x_data) * 0.8):,:]"
   ]
  },
  {
   "cell_type": "markdown",
   "metadata": {},
   "source": [
    "### Linear Regression"
   ]
  },
  {
   "cell_type": "markdown",
   "metadata": {},
   "source": [
    "### Adagrad"
   ]
  },
  {
   "cell_type": "code",
   "execution_count": 100,
   "metadata": {
    "tags": [
     "outputPrepend",
     "outputPrepend",
     "outputPrepend",
     "outputPrepend",
     "outputPrepend",
     "outputPrepend",
     "outputPrepend",
     "outputPrepend",
     "outputPrepend",
     "outputPrepend"
    ]
   },
   "outputs": [
    {
     "output_type": "stream",
     "name": "stdout",
     "text": "[[30.]\n [41.]\n [44.]\n ...\n [ 7.]\n [ 5.]\n [14.]]\nNo.100 loss is 157.3468091694279\nNo.200 loss is 152.1601461781137\nNo.300 loss is 149.1810719336844\nNo.400 loss is 147.4314397137706\nNo.500 loss is 146.38377865260102\nNo.600 loss is 145.7424973073254\nNo.700 loss is 145.33917164605842\nNo.800 loss is 145.0767904890207\nNo.900 loss is 144.89894501284178\nNo.1000 loss is 144.7725194758051\nNo.1100 loss is 144.67787256082963\nNo.1200 loss is 144.60322489226797\nNo.1300 loss is 144.54142692474096\nNo.1400 loss is 144.48808296773777\nNo.1500 loss is 144.44045302883313\nNo.1600 loss is 144.39680400503755\nNo.1700 loss is 144.35602251680538\nNo.1800 loss is 144.3173814065214\nNo.1900 loss is 144.2803973316256\nNo.2000 loss is 144.24474290290888\nNo.2100 loss is 144.21019183011663\nNo.2200 loss is 144.17658426248886\nNo.2300 loss is 144.14380462540268\nNo.2400 loss is 144.1117672779271\nNo.2500 loss is 144.0804071211888\nNo.2600 loss is 144.04967337602676\nNo.2700 loss is 144.01952541183684\nNo.2800 loss is 143.98992991719786\nNo.2900 loss is 143.96085895737824\nNo.3000 loss is 143.93228862402418\n"
    },
    {
     "output_type": "execute_result",
     "data": {
      "text/plain": "matrix([[ 1.52674501e-02],\n        [-1.52714488e-02],\n        [-1.52711393e-02],\n        [-1.52712133e-02],\n        [-1.52714028e-02],\n        [-1.52714803e-02],\n        [-1.52719056e-02],\n        [-1.52720923e-02],\n        [-1.52724285e-02],\n        [-1.52722416e-02],\n        [ 4.25222159e-04],\n        [ 2.04756781e-04],\n        [ 1.91023183e-04],\n        [ 3.49362404e-04],\n        [ 2.03627366e-04],\n        [ 4.82137766e-04],\n        [ 8.39925696e-05],\n        [ 2.80117844e-04],\n        [ 3.67740132e-04],\n        [ 2.47538666e-04],\n        [-1.11972727e-03],\n        [-1.08147325e-03],\n        [-5.83951669e-03],\n        [-1.68752578e-03],\n        [ 4.68471210e-03],\n        [ 9.63163814e-04],\n        [ 9.18219311e-04],\n        [ 6.60646308e-04],\n        [ 1.93888945e-04],\n        [ 1.88586903e-04],\n        [ 1.01558342e-04],\n        [ 1.03733105e-04],\n        [ 1.67116202e-04],\n        [-3.96524246e-05],\n        [ 2.04296201e-04],\n        [ 3.72623376e-05],\n        [ 2.47176317e-04],\n        [-1.51498212e-02],\n        [-1.50370412e-02],\n        [-1.49757977e-02],\n        [-1.51872734e-02],\n        [-1.52984035e-02],\n        [-1.52389549e-02],\n        [-1.52626045e-02],\n        [-1.52007958e-02],\n        [-1.52700467e-02],\n        [-1.52621535e-02],\n        [-1.52611713e-02],\n        [-1.52601130e-02],\n        [-1.52596748e-02],\n        [-1.52613405e-02],\n        [-1.52613389e-02],\n        [-1.52612994e-02],\n        [-1.52615344e-02],\n        [-1.52621823e-02],\n        [-1.52652591e-02],\n        [-1.52647219e-02],\n        [-1.52642716e-02],\n        [-1.52645015e-02],\n        [-1.52652172e-02],\n        [-1.52651845e-02],\n        [-1.52651785e-02],\n        [-1.52651561e-02],\n        [-1.52655267e-02],\n        [-1.52675892e-02],\n        [-1.52675905e-02],\n        [-1.52675936e-02],\n        [-1.52675994e-02],\n        [-1.52676132e-02],\n        [-1.52676284e-02],\n        [-1.52676455e-02],\n        [-1.52676579e-02],\n        [-1.52676369e-02],\n        [-1.52676151e-02],\n        [-1.52676115e-02],\n        [-1.52676060e-02],\n        [-1.52676023e-02],\n        [-1.52676118e-02],\n        [-1.52676111e-02],\n        [-1.52676130e-02],\n        [-1.52676155e-02],\n        [-1.52676230e-02],\n        [-1.52673843e-02],\n        [-1.52673745e-02],\n        [-1.52673866e-02],\n        [-1.52674054e-02],\n        [-1.52674285e-02],\n        [-1.52674280e-02],\n        [-1.52674358e-02],\n        [-1.52674587e-02],\n        [-1.52674616e-02],\n        [-1.92347352e-02],\n        [-1.63404942e-02],\n        [-1.66055376e-02],\n        [-1.43085076e-02],\n        [-1.87842858e-02],\n        [-8.87220629e-03],\n        [-1.22409286e-02],\n        [-1.49927685e-02],\n        [-1.37803648e-02],\n        [-1.52679305e-02],\n        [-1.52679268e-02],\n        [-1.52679140e-02],\n        [-1.52678969e-02],\n        [-1.52678717e-02],\n        [-1.52678563e-02],\n        [-1.52678442e-02],\n        [-1.52678176e-02],\n        [-1.52678313e-02],\n        [-1.52422268e-02],\n        [-1.51972346e-02],\n        [-1.51456875e-02],\n        [-1.50503203e-02],\n        [-1.52070393e-02],\n        [-1.48995980e-02],\n        [-1.50057152e-02],\n        [-1.52304476e-02],\n        [-1.53508282e-02],\n        [-2.69408163e-03],\n        [-2.89915831e-03],\n        [-1.61976645e-03],\n        [-1.96256341e-03],\n        [-1.53862348e-03],\n        [-1.57113345e-03],\n        [-1.80120693e-03],\n        [-1.86817773e-03],\n        [-2.21216349e-03],\n        [-1.52676343e-02],\n        [-1.52676344e-02],\n        [-1.52676344e-02],\n        [-1.52676343e-02],\n        [-1.52676342e-02],\n        [-1.52676342e-02],\n        [-1.52676342e-02],\n        [-1.52676342e-02],\n        [-1.52676342e-02],\n        [-1.52676414e-02],\n        [-1.52676413e-02],\n        [-1.52676415e-02],\n        [-1.52676414e-02],\n        [-1.52676413e-02],\n        [-1.52676415e-02],\n        [-1.52676415e-02],\n        [-1.52676414e-02],\n        [-1.52676415e-02],\n        [-1.49253010e-02],\n        [-1.51816356e-02],\n        [-1.48873963e-02],\n        [-1.53531716e-02],\n        [-1.52681437e-02],\n        [-1.58663230e-02],\n        [-1.67622646e-02],\n        [-1.71667725e-02],\n        [-1.74996493e-02],\n        [-1.58922869e-02],\n        [-1.59587147e-02],\n        [-1.50371441e-02],\n        [-1.56647589e-02],\n        [-1.58927463e-02],\n        [-1.64485047e-02],\n        [-1.66638668e-02],\n        [-1.78880136e-02],\n        [-1.81714084e-02]])"
     },
     "metadata": {},
     "execution_count": 100
    }
   ],
   "source": [
    "iteration = 3000\n",
    "learning_rate = 100\n",
    "eps = 1e-7\n",
    "rows = int(x_train.shape[0])\n",
    "params = int(x_train.shape[1])\n",
    "\n",
    "w = np.matrix(np.zeros([params+1, 1]))\n",
    "x = np.matrix(np.concatenate((np.ones([rows, 1]),x_train), axis = 1).astype(float))\n",
    "y = np.matrix(y_train)\n",
    "\n",
    "adgrad = np.matrix(np.zeros([params+1, 1]))\n",
    "for item in range(iteration):\n",
    "    # loss function is MSE\n",
    "    loss = np.sum(np.power((x * w - y), 2)) / (rows * 2)\n",
    "    gradient = x.T * (x * w - y) / rows\n",
    "    adgrad += np.power(gradient, 2)\n",
    "    w = w - np.multiply(learning_rate / (np.sqrt(adgrad) + eps) , gradient)\n",
    "    if (item+1) % 100 == 0:\n",
    "        print(f'No.{item+1} loss is {loss}')\n",
    "w"
   ]
  },
  {
   "cell_type": "markdown",
   "metadata": {},
   "source": [
    "### Predict PM2.5"
   ]
  },
  {
   "cell_type": "code",
   "execution_count": 96,
   "metadata": {},
   "outputs": [
    {
     "output_type": "execute_result",
     "data": {
      "text/plain": "(240, 163)"
     },
     "metadata": {},
     "execution_count": 96
    }
   ],
   "source": [
    "test_data = pd.read_csv('ml2020spring-hw1/test.csv', encoding = 'big5', header = None)\n",
    "test_data[test_data == 'NR'] = 0\n",
    "test_data = test_data.iloc[:,2:]\n",
    "\n",
    "test_data = test_data.to_numpy()\n",
    "x_test = np.empty([240, 18 * 9])\n",
    "\n",
    "for idx in range(240):\n",
    "    x_test[idx,:] = test_data[idx * 18:(idx + 1) * 18,:].reshape(1,-1)\n",
    "\n",
    "test_mean = np.mean(x_test, axis = 0)\n",
    "test_std = np.mean(x_test, axis = 0)\n",
    "for i in range(int(x_test.shape[0])):\n",
    "    for j in range(int(x_test.shape[1])):\n",
    "        x_test[i][j] = (x_test[i][j] - test_mean[j]) / test_std[j]\n",
    "\n",
    "x_test = np.concatenate((np.ones([int(x_test.shape[0]), 1]), x_test), axis = 1 ).astype(float)\n",
    "x_test = np.matrix(x_test)\n",
    "x_test.shape\n"
   ]
  },
  {
   "cell_type": "code",
   "execution_count": 102,
   "metadata": {},
   "outputs": [
    {
     "output_type": "stream",
     "name": "stdout",
     "text": "id_1 : [[0.57070218]]\nid_2 : [[0.65235473]]\nid_3 : [[-0.30701628]]\nid_4 : [[0.40241385]]\nid_5 : [[0.26493919]]\nid_6 : [[0.37876118]]\nid_7 : [[0.26751866]]\nid_8 : [[0.25872025]]\nid_9 : [[0.08350114]]\nid_10 : [[-0.54046536]]\nid_11 : [[0.36352639]]\nid_12 : [[0.00556425]]\nid_13 : [[-0.15485916]]\nid_14 : [[-0.31624701]]\nid_15 : [[0.27171705]]\nid_16 : [[0.57299236]]\nid_17 : [[-0.22793238]]\nid_18 : [[-0.73573344]]\nid_19 : [[-3.0895214]]\nid_20 : [[0.52877332]]\nid_21 : [[0.3065869]]\nid_22 : [[-0.41542618]]\nid_23 : [[0.23809431]]\nid_24 : [[-0.01459011]]\nid_25 : [[0.7680247]]\nid_26 : [[-0.03546169]]\nid_27 : [[0.5654344]]\nid_28 : [[-0.78118857]]\nid_29 : [[0.47692801]]\nid_30 : [[-0.79470123]]\nid_31 : [[-0.27446418]]\nid_32 : [[0.39926989]]\nid_33 : [[0.69793198]]\nid_34 : [[0.06732249]]\nid_35 : [[-0.39245098]]\nid_36 : [[-0.1400854]]\nid_37 : [[0.33426404]]\nid_38 : [[0.01584088]]\nid_39 : [[-0.88209256]]\nid_40 : [[-0.21810047]]\nid_41 : [[-0.09417422]]\nid_42 : [[0.30681507]]\nid_43 : [[-0.11380245]]\nid_44 : [[-0.03591958]]\nid_45 : [[0.49132699]]\nid_46 : [[-0.03485305]]\nid_47 : [[0.61149473]]\nid_48 : [[0.21307249]]\nid_49 : [[-0.17935524]]\nid_50 : [[0.5521951]]\nid_51 : [[-0.18824565]]\nid_52 : [[0.23198935]]\nid_53 : [[-0.21128649]]\nid_54 : [[0.03074654]]\nid_55 : [[0.53550247]]\nid_56 : [[-0.62264158]]\nid_57 : [[0.38638187]]\nid_58 : [[0.23758614]]\nid_59 : [[-0.12802794]]\nid_60 : [[0.25524785]]\nid_61 : [[0.17285054]]\nid_62 : [[-0.3144216]]\nid_63 : [[0.30978078]]\nid_64 : [[-0.35435029]]\nid_65 : [[-0.68017721]]\nid_66 : [[0.4635608]]\nid_67 : [[0.31668167]]\nid_68 : [[-3.54656317]]\nid_69 : [[-0.03905508]]\nid_70 : [[-0.13157757]]\nid_71 : [[-0.41572043]]\nid_72 : [[0.55955512]]\nid_73 : [[-0.30671006]]\nid_74 : [[0.34195127]]\nid_75 : [[0.06061587]]\nid_76 : [[0.41156211]]\nid_77 : [[-0.05866948]]\nid_78 : [[0.22592874]]\nid_79 : [[-0.5273909]]\nid_80 : [[0.34173016]]\nid_81 : [[0.62195608]]\nid_82 : [[0.01886594]]\nid_83 : [[0.03461598]]\nid_84 : [[-0.46417492]]\nid_85 : [[0.61861808]]\nid_86 : [[0.38068547]]\nid_87 : [[0.44267037]]\nid_88 : [[0.33710445]]\nid_89 : [[0.56975579]]\nid_90 : [[0.05838734]]\nid_91 : [[-0.07161182]]\nid_92 : [[0.15126636]]\nid_93 : [[-1.91630815]]\nid_94 : [[-0.15868531]]\nid_95 : [[0.45220732]]\nid_96 : [[0.17169731]]\nid_97 : [[0.31677724]]\nid_98 : [[0.46134037]]\nid_99 : [[0.32624054]]\nid_100 : [[0.33887494]]\nid_101 : [[0.75560921]]\nid_102 : [[0.22363681]]\nid_103 : [[-0.49718759]]\nid_104 : [[0.11015871]]\nid_105 : [[0.33615416]]\nid_106 : [[0.43960402]]\nid_107 : [[0.14870167]]\nid_108 : [[0.56629058]]\nid_109 : [[-0.95804655]]\nid_110 : [[0.00774607]]\nid_111 : [[0.18369596]]\nid_112 : [[0.53165997]]\nid_113 : [[0.03418801]]\nid_114 : [[-0.06028478]]\nid_115 : [[0.60372234]]\nid_116 : [[0.50428237]]\nid_117 : [[-0.0444733]]\nid_118 : [[0.6484577]]\nid_119 : [[-0.16719273]]\nid_120 : [[0.59806302]]\nid_121 : [[-0.40281432]]\nid_122 : [[-0.0119157]]\nid_123 : [[0.32225912]]\nid_124 : [[0.10261993]]\nid_125 : [[0.08875664]]\nid_126 : [[0.09943392]]\nid_127 : [[0.5235276]]\nid_128 : [[-0.2855333]]\nid_129 : [[-0.22060435]]\nid_130 : [[-0.52134232]]\nid_131 : [[-0.36548802]]\nid_132 : [[0.08804033]]\nid_133 : [[-0.03168065]]\nid_134 : [[0.70437211]]\nid_135 : [[0.51375348]]\nid_136 : [[0.65271102]]\nid_137 : [[-0.29809232]]\nid_138 : [[-0.02940985]]\nid_139 : [[-2.36057129]]\nid_140 : [[-2.42386872]]\nid_141 : [[0.07991692]]\nid_142 : [[0.54578958]]\nid_143 : [[0.24101202]]\nid_144 : [[-0.05280888]]\nid_145 : [[0.7675167]]\nid_146 : [[0.31553295]]\nid_147 : [[0.46792368]]\nid_148 : [[-0.43496897]]\nid_149 : [[0.22400365]]\nid_150 : [[-0.01343316]]\nid_151 : [[0.44680019]]\nid_152 : [[0.44665041]]\nid_153 : [[0.05876637]]\nid_154 : [[0.77436932]]\nid_155 : [[-0.08973112]]\nid_156 : [[-0.69369711]]\nid_157 : [[0.68619647]]\nid_158 : [[0.42737661]]\nid_159 : [[-0.03242252]]\nid_160 : [[0.19266946]]\nid_161 : [[-0.0302589]]\nid_162 : [[0.5346007]]\nid_163 : [[0.73755671]]\nid_164 : [[0.32339282]]\nid_165 : [[-0.23621718]]\nid_166 : [[0.21047966]]\nid_167 : [[-4.78956513]]\nid_168 : [[0.82808098]]\nid_169 : [[-0.66742836]]\nid_170 : [[0.24539889]]\nid_171 : [[-0.16934965]]\nid_172 : [[-0.59245451]]\nid_173 : [[-0.38880584]]\nid_174 : [[0.458732]]\nid_175 : [[-0.92716574]]\nid_176 : [[-0.1928886]]\nid_177 : [[-0.48327931]]\nid_178 : [[-0.03618703]]\nid_179 : [[-0.03000254]]\nid_180 : [[0.43868313]]\nid_181 : [[0.23179953]]\nid_182 : [[0.17069373]]\nid_183 : [[0.37331554]]\nid_184 : [[0.22055594]]\nid_185 : [[0.81321848]]\nid_186 : [[0.39632418]]\nid_187 : [[0.28469275]]\nid_188 : [[-0.09127957]]\nid_189 : [[0.57251789]]\nid_190 : [[-1.05396464]]\nid_191 : [[-0.41575368]]\nid_192 : [[-0.05066537]]\nid_193 : [[0.22518918]]\nid_194 : [[-2.49445765]]\nid_195 : [[0.2020258]]\nid_196 : [[0.76957665]]\nid_197 : [[0.43578267]]\nid_198 : [[0.48607224]]\nid_199 : [[-0.04162657]]\nid_200 : [[-0.053267]]\nid_201 : [[-0.16620139]]\nid_202 : [[-1.15496523]]\nid_203 : [[-0.16299347]]\nid_204 : [[-0.07411835]]\nid_205 : [[0.86459169]]\nid_206 : [[0.8609669]]\nid_207 : [[0.33884505]]\nid_208 : [[0.60169286]]\nid_209 : [[-0.31976892]]\nid_210 : [[0.66205376]]\nid_211 : [[0.00224303]]\nid_212 : [[0.0821785]]\nid_213 : [[0.10901904]]\nid_214 : [[-0.0710837]]\nid_215 : [[-1.32323407]]\nid_216 : [[0.47725136]]\nid_217 : [[-0.80638643]]\nid_218 : [[0.47591286]]\nid_219 : [[0.69224087]]\nid_220 : [[-0.3239055]]\nid_221 : [[0.50139843]]\nid_222 : [[5.34317051e-05]]\nid_223 : [[-0.6135489]]\nid_224 : [[0.5608018]]\nid_225 : [[0.42170245]]\nid_226 : [[-0.02056501]]\nid_227 : [[0.14005886]]\nid_228 : [[-0.70419111]]\nid_229 : [[0.52846781]]\nid_230 : [[0.21975184]]\nid_231 : [[-0.11559155]]\nid_232 : [[0.44765759]]\nid_233 : [[-0.07982878]]\nid_234 : [[0.08801966]]\nid_235 : [[0.3509389]]\nid_236 : [[-0.3676561]]\nid_237 : [[-0.68370096]]\nid_238 : [[-0.24229178]]\nid_239 : [[0.37050614]]\nid_240 : [[0.48262996]]\n"
    }
   ],
   "source": [
    "y_pre = x_test * w\n",
    "for i in range(len(y_pre)):\n",
    "    print(f\"id_{i+1} : {y_pre[i]}\")"
   ]
  },
  {
   "cell_type": "markdown",
   "metadata": {},
   "source": [
    "**输出和理想结果差距较大，考虑将在train时将label y的值同样归一化。**"
   ]
  }
 ],
 "metadata": {
  "language_info": {
   "codemirror_mode": {
    "name": "ipython",
    "version": 3
   },
   "file_extension": ".py",
   "mimetype": "text/x-python",
   "name": "python",
   "nbconvert_exporter": "python",
   "pygments_lexer": "ipython3",
   "version": "3.6.9-final"
  },
  "orig_nbformat": 2,
  "kernelspec": {
   "name": "python3",
   "display_name": "Python 3"
  }
 },
 "nbformat": 4,
 "nbformat_minor": 2
}